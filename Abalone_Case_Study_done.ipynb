{
 "cells": [
  {
   "cell_type": "markdown",
   "id": "11c6c68e",
   "metadata": {},
   "source": [
    "# Abalone DataSet"
   ]
  },
  {
   "cell_type": "code",
   "execution_count": 39,
   "id": "a70d74b1",
   "metadata": {
    "scrolled": true
   },
   "outputs": [],
   "source": [
    "import pandas as pd\n",
    "import numpy as np\n",
    "import scipy\n",
    "import sklearn\n",
    "import seaborn as sb\n",
    "import matplotlib.pyplot as plt\n",
    "\n",
    "from sklearn.model_selection import train_test_split\n",
    "from sklearn.linear_model import LinearRegression\n",
    "from sklearn.metrics import mean_squared_error, mean_absolute_error, r2_score\n",
    "from sklearn.preprocessing import LabelEncoder\n",
    "from sklearn.preprocessing import StandardScaler\n",
    "\n",
    "import warnings\n",
    "warnings.filterwarnings('ignore')"
   ]
  },
  {
   "cell_type": "raw",
   "id": "e012882b",
   "metadata": {},
   "source": [
    "Problem Statement:\n",
    "The age of abalone is determined by cutting the shell through the cone, staining it, and counting the number of rings through a microscope -- a boring and time-consuming task. Other measurements, which are easier to obtain, are used to predict the age. Further information, such as weather patterns and location (hence food availability) may be required to solve the problem.\n",
    "\n",
    "Attribute Information\n",
    "\n",
    "Given is the attribute name, attribute type, the measurement unit and a brief description. The number of rings is the value to predict. \n",
    "\n",
    "Name / Data Type / Measurement Unit / Description\n",
    "-----------------------------\n",
    "Sex / nominal / -- / M, F, and I (infant)\n",
    "Length / continuous / mm / Longest shell measurement\n",
    "Diameter / continuous / mm / perpendicular to length\n",
    "Height / continuous / mm / with meat in shell\n",
    "Whole weight / continuous / grams / whole abalone\n",
    "Shucked weight / continuous / grams / weight of meat\n",
    "Viscera weight / continuous / grams / gut weight (after bleeding)\n",
    "Shell weight / continuous / grams / after being dried\n",
    "Rings / integer / -- / +1.5 gives the age in years. \n",
    "\n",
    "You have to predict the rings of each abalone which will lead us to the age of that abalone. \n",
    "\n",
    "Downlaod Files:\n",
    "https://github.com/dsrscientist/dataset1/blob/master/abalone.csv"
   ]
  },
  {
   "cell_type": "code",
   "execution_count": 40,
   "id": "afcd2db7",
   "metadata": {
    "scrolled": true
   },
   "outputs": [
    {
     "data": {
      "text/html": [
       "<div>\n",
       "<style scoped>\n",
       "    .dataframe tbody tr th:only-of-type {\n",
       "        vertical-align: middle;\n",
       "    }\n",
       "\n",
       "    .dataframe tbody tr th {\n",
       "        vertical-align: top;\n",
       "    }\n",
       "\n",
       "    .dataframe thead th {\n",
       "        text-align: right;\n",
       "    }\n",
       "</style>\n",
       "<table border=\"1\" class=\"dataframe\">\n",
       "  <thead>\n",
       "    <tr style=\"text-align: right;\">\n",
       "      <th></th>\n",
       "      <th>Sex</th>\n",
       "      <th>Length</th>\n",
       "      <th>Diameter</th>\n",
       "      <th>Height</th>\n",
       "      <th>Whole weight</th>\n",
       "      <th>Shucked weight</th>\n",
       "      <th>Viscera weight</th>\n",
       "      <th>Shell weight</th>\n",
       "      <th>Rings</th>\n",
       "    </tr>\n",
       "  </thead>\n",
       "  <tbody>\n",
       "    <tr>\n",
       "      <th>0</th>\n",
       "      <td>M</td>\n",
       "      <td>0.455</td>\n",
       "      <td>0.365</td>\n",
       "      <td>0.095</td>\n",
       "      <td>0.5140</td>\n",
       "      <td>0.2245</td>\n",
       "      <td>0.1010</td>\n",
       "      <td>0.15</td>\n",
       "      <td>15</td>\n",
       "    </tr>\n",
       "    <tr>\n",
       "      <th>1</th>\n",
       "      <td>M</td>\n",
       "      <td>0.350</td>\n",
       "      <td>0.265</td>\n",
       "      <td>0.090</td>\n",
       "      <td>0.2255</td>\n",
       "      <td>0.0995</td>\n",
       "      <td>0.0485</td>\n",
       "      <td>0.07</td>\n",
       "      <td>7</td>\n",
       "    </tr>\n",
       "    <tr>\n",
       "      <th>2</th>\n",
       "      <td>F</td>\n",
       "      <td>0.530</td>\n",
       "      <td>0.420</td>\n",
       "      <td>0.135</td>\n",
       "      <td>0.6770</td>\n",
       "      <td>0.2565</td>\n",
       "      <td>0.1415</td>\n",
       "      <td>0.21</td>\n",
       "      <td>9</td>\n",
       "    </tr>\n",
       "  </tbody>\n",
       "</table>\n",
       "</div>"
      ],
      "text/plain": [
       "  Sex  Length  Diameter  Height  Whole weight  Shucked weight  Viscera weight  \\\n",
       "0   M   0.455     0.365   0.095        0.5140          0.2245          0.1010   \n",
       "1   M   0.350     0.265   0.090        0.2255          0.0995          0.0485   \n",
       "2   F   0.530     0.420   0.135        0.6770          0.2565          0.1415   \n",
       "\n",
       "   Shell weight  Rings  \n",
       "0          0.15     15  \n",
       "1          0.07      7  \n",
       "2          0.21      9  "
      ]
     },
     "execution_count": 40,
     "metadata": {},
     "output_type": "execute_result"
    }
   ],
   "source": [
    "df = pd.read_csv('Abalone.csv')\n",
    "df.head(3)"
   ]
  },
  {
   "cell_type": "code",
   "execution_count": 41,
   "id": "622d10a1",
   "metadata": {
    "scrolled": true
   },
   "outputs": [
    {
     "data": {
      "text/plain": [
       "Sex                object\n",
       "Length            float64\n",
       "Diameter          float64\n",
       "Height            float64\n",
       "Whole weight      float64\n",
       "Shucked weight    float64\n",
       "Viscera weight    float64\n",
       "Shell weight      float64\n",
       "Rings               int64\n",
       "dtype: object"
      ]
     },
     "execution_count": 41,
     "metadata": {},
     "output_type": "execute_result"
    }
   ],
   "source": [
    "df.dtypes"
   ]
  },
  {
   "cell_type": "code",
   "execution_count": 42,
   "id": "a88eba38",
   "metadata": {
    "scrolled": true
   },
   "outputs": [
    {
     "data": {
      "text/html": [
       "<div>\n",
       "<style scoped>\n",
       "    .dataframe tbody tr th:only-of-type {\n",
       "        vertical-align: middle;\n",
       "    }\n",
       "\n",
       "    .dataframe tbody tr th {\n",
       "        vertical-align: top;\n",
       "    }\n",
       "\n",
       "    .dataframe thead th {\n",
       "        text-align: right;\n",
       "    }\n",
       "</style>\n",
       "<table border=\"1\" class=\"dataframe\">\n",
       "  <thead>\n",
       "    <tr style=\"text-align: right;\">\n",
       "      <th></th>\n",
       "      <th>Sex</th>\n",
       "      <th>Length</th>\n",
       "      <th>Diameter</th>\n",
       "      <th>Height</th>\n",
       "      <th>Whole weight</th>\n",
       "      <th>Shucked weight</th>\n",
       "      <th>Viscera weight</th>\n",
       "      <th>Shell weight</th>\n",
       "      <th>Rings</th>\n",
       "    </tr>\n",
       "  </thead>\n",
       "  <tbody>\n",
       "    <tr>\n",
       "      <th>0</th>\n",
       "      <td>M</td>\n",
       "      <td>0.455</td>\n",
       "      <td>0.365</td>\n",
       "      <td>0.095</td>\n",
       "      <td>0.5140</td>\n",
       "      <td>0.2245</td>\n",
       "      <td>0.1010</td>\n",
       "      <td>0.1500</td>\n",
       "      <td>15</td>\n",
       "    </tr>\n",
       "    <tr>\n",
       "      <th>1</th>\n",
       "      <td>M</td>\n",
       "      <td>0.350</td>\n",
       "      <td>0.265</td>\n",
       "      <td>0.090</td>\n",
       "      <td>0.2255</td>\n",
       "      <td>0.0995</td>\n",
       "      <td>0.0485</td>\n",
       "      <td>0.0700</td>\n",
       "      <td>7</td>\n",
       "    </tr>\n",
       "    <tr>\n",
       "      <th>2</th>\n",
       "      <td>F</td>\n",
       "      <td>0.530</td>\n",
       "      <td>0.420</td>\n",
       "      <td>0.135</td>\n",
       "      <td>0.6770</td>\n",
       "      <td>0.2565</td>\n",
       "      <td>0.1415</td>\n",
       "      <td>0.2100</td>\n",
       "      <td>9</td>\n",
       "    </tr>\n",
       "    <tr>\n",
       "      <th>3</th>\n",
       "      <td>M</td>\n",
       "      <td>0.440</td>\n",
       "      <td>0.365</td>\n",
       "      <td>0.125</td>\n",
       "      <td>0.5160</td>\n",
       "      <td>0.2155</td>\n",
       "      <td>0.1140</td>\n",
       "      <td>0.1550</td>\n",
       "      <td>10</td>\n",
       "    </tr>\n",
       "    <tr>\n",
       "      <th>4</th>\n",
       "      <td>I</td>\n",
       "      <td>0.330</td>\n",
       "      <td>0.255</td>\n",
       "      <td>0.080</td>\n",
       "      <td>0.2050</td>\n",
       "      <td>0.0895</td>\n",
       "      <td>0.0395</td>\n",
       "      <td>0.0550</td>\n",
       "      <td>7</td>\n",
       "    </tr>\n",
       "    <tr>\n",
       "      <th>...</th>\n",
       "      <td>...</td>\n",
       "      <td>...</td>\n",
       "      <td>...</td>\n",
       "      <td>...</td>\n",
       "      <td>...</td>\n",
       "      <td>...</td>\n",
       "      <td>...</td>\n",
       "      <td>...</td>\n",
       "      <td>...</td>\n",
       "    </tr>\n",
       "    <tr>\n",
       "      <th>4172</th>\n",
       "      <td>F</td>\n",
       "      <td>0.565</td>\n",
       "      <td>0.450</td>\n",
       "      <td>0.165</td>\n",
       "      <td>0.8870</td>\n",
       "      <td>0.3700</td>\n",
       "      <td>0.2390</td>\n",
       "      <td>0.2490</td>\n",
       "      <td>11</td>\n",
       "    </tr>\n",
       "    <tr>\n",
       "      <th>4173</th>\n",
       "      <td>M</td>\n",
       "      <td>0.590</td>\n",
       "      <td>0.440</td>\n",
       "      <td>0.135</td>\n",
       "      <td>0.9660</td>\n",
       "      <td>0.4390</td>\n",
       "      <td>0.2145</td>\n",
       "      <td>0.2605</td>\n",
       "      <td>10</td>\n",
       "    </tr>\n",
       "    <tr>\n",
       "      <th>4174</th>\n",
       "      <td>M</td>\n",
       "      <td>0.600</td>\n",
       "      <td>0.475</td>\n",
       "      <td>0.205</td>\n",
       "      <td>1.1760</td>\n",
       "      <td>0.5255</td>\n",
       "      <td>0.2875</td>\n",
       "      <td>0.3080</td>\n",
       "      <td>9</td>\n",
       "    </tr>\n",
       "    <tr>\n",
       "      <th>4175</th>\n",
       "      <td>F</td>\n",
       "      <td>0.625</td>\n",
       "      <td>0.485</td>\n",
       "      <td>0.150</td>\n",
       "      <td>1.0945</td>\n",
       "      <td>0.5310</td>\n",
       "      <td>0.2610</td>\n",
       "      <td>0.2960</td>\n",
       "      <td>10</td>\n",
       "    </tr>\n",
       "    <tr>\n",
       "      <th>4176</th>\n",
       "      <td>M</td>\n",
       "      <td>0.710</td>\n",
       "      <td>0.555</td>\n",
       "      <td>0.195</td>\n",
       "      <td>1.9485</td>\n",
       "      <td>0.9455</td>\n",
       "      <td>0.3765</td>\n",
       "      <td>0.4950</td>\n",
       "      <td>12</td>\n",
       "    </tr>\n",
       "  </tbody>\n",
       "</table>\n",
       "<p>4177 rows × 9 columns</p>\n",
       "</div>"
      ],
      "text/plain": [
       "     Sex  Length  Diameter  Height  Whole weight  Shucked weight  \\\n",
       "0      M   0.455     0.365   0.095        0.5140          0.2245   \n",
       "1      M   0.350     0.265   0.090        0.2255          0.0995   \n",
       "2      F   0.530     0.420   0.135        0.6770          0.2565   \n",
       "3      M   0.440     0.365   0.125        0.5160          0.2155   \n",
       "4      I   0.330     0.255   0.080        0.2050          0.0895   \n",
       "...   ..     ...       ...     ...           ...             ...   \n",
       "4172   F   0.565     0.450   0.165        0.8870          0.3700   \n",
       "4173   M   0.590     0.440   0.135        0.9660          0.4390   \n",
       "4174   M   0.600     0.475   0.205        1.1760          0.5255   \n",
       "4175   F   0.625     0.485   0.150        1.0945          0.5310   \n",
       "4176   M   0.710     0.555   0.195        1.9485          0.9455   \n",
       "\n",
       "      Viscera weight  Shell weight  Rings  \n",
       "0             0.1010        0.1500     15  \n",
       "1             0.0485        0.0700      7  \n",
       "2             0.1415        0.2100      9  \n",
       "3             0.1140        0.1550     10  \n",
       "4             0.0395        0.0550      7  \n",
       "...              ...           ...    ...  \n",
       "4172          0.2390        0.2490     11  \n",
       "4173          0.2145        0.2605     10  \n",
       "4174          0.2875        0.3080      9  \n",
       "4175          0.2610        0.2960     10  \n",
       "4176          0.3765        0.4950     12  \n",
       "\n",
       "[4177 rows x 9 columns]"
      ]
     },
     "execution_count": 42,
     "metadata": {},
     "output_type": "execute_result"
    }
   ],
   "source": [
    "df = pd.DataFrame(data=df)\n",
    "df"
   ]
  },
  {
   "cell_type": "code",
   "execution_count": 43,
   "id": "73d7a7f3",
   "metadata": {
    "scrolled": true
   },
   "outputs": [
    {
     "data": {
      "text/plain": [
       "(4177, 9)"
      ]
     },
     "execution_count": 43,
     "metadata": {},
     "output_type": "execute_result"
    }
   ],
   "source": [
    "df.shape"
   ]
  },
  {
   "cell_type": "code",
   "execution_count": 44,
   "id": "37db637c",
   "metadata": {
    "scrolled": true
   },
   "outputs": [
    {
     "data": {
      "text/plain": [
       "Sex               0\n",
       "Length            0\n",
       "Diameter          0\n",
       "Height            0\n",
       "Whole weight      0\n",
       "Shucked weight    0\n",
       "Viscera weight    0\n",
       "Shell weight      0\n",
       "Rings             0\n",
       "dtype: int64"
      ]
     },
     "execution_count": 44,
     "metadata": {},
     "output_type": "execute_result"
    }
   ],
   "source": [
    "df.isnull().sum()"
   ]
  },
  {
   "cell_type": "code",
   "execution_count": 45,
   "id": "fe7db2a0",
   "metadata": {
    "scrolled": true
   },
   "outputs": [
    {
     "data": {
      "text/plain": [
       "<AxesSubplot:>"
      ]
     },
     "execution_count": 45,
     "metadata": {},
     "output_type": "execute_result"
    },
    {
     "data": {
      "image/png": "[encoded data removed]",
      "text/plain": [
       "<Figure size 432x288 with 2 Axes>"
      ]
     },
     "metadata": {
      "needs_background": "light"
     },
     "output_type": "display_data"
    }
   ],
   "source": [
    "sb.heatmap(df.isnull())"
   ]
  },
  {
   "cell_type": "code",
   "execution_count": 46,
   "id": "af8e2a96",
   "metadata": {
    "scrolled": true
   },
   "outputs": [
    {
     "data": {
      "text/html": [
       "<div>\n",
       "<style scoped>\n",
       "    .dataframe tbody tr th:only-of-type {\n",
       "        vertical-align: middle;\n",
       "    }\n",
       "\n",
       "    .dataframe tbody tr th {\n",
       "        vertical-align: top;\n",
       "    }\n",
       "\n",
       "    .dataframe thead th {\n",
       "        text-align: right;\n",
       "    }\n",
       "</style>\n",
       "<table border=\"1\" class=\"dataframe\">\n",
       "  <thead>\n",
       "    <tr style=\"text-align: right;\">\n",
       "      <th></th>\n",
       "      <th>Sex</th>\n",
       "      <th>Length</th>\n",
       "      <th>Diameter</th>\n",
       "      <th>Height</th>\n",
       "      <th>Whole weight</th>\n",
       "      <th>Shucked weight</th>\n",
       "      <th>Viscera weight</th>\n",
       "      <th>Shell weight</th>\n",
       "      <th>Rings</th>\n",
       "    </tr>\n",
       "  </thead>\n",
       "  <tbody>\n",
       "    <tr>\n",
       "      <th>0</th>\n",
       "      <td>2</td>\n",
       "      <td>0.455</td>\n",
       "      <td>0.365</td>\n",
       "      <td>0.095</td>\n",
       "      <td>0.5140</td>\n",
       "      <td>0.2245</td>\n",
       "      <td>0.1010</td>\n",
       "      <td>0.1500</td>\n",
       "      <td>15</td>\n",
       "    </tr>\n",
       "    <tr>\n",
       "      <th>1</th>\n",
       "      <td>2</td>\n",
       "      <td>0.350</td>\n",
       "      <td>0.265</td>\n",
       "      <td>0.090</td>\n",
       "      <td>0.2255</td>\n",
       "      <td>0.0995</td>\n",
       "      <td>0.0485</td>\n",
       "      <td>0.0700</td>\n",
       "      <td>7</td>\n",
       "    </tr>\n",
       "    <tr>\n",
       "      <th>2</th>\n",
       "      <td>0</td>\n",
       "      <td>0.530</td>\n",
       "      <td>0.420</td>\n",
       "      <td>0.135</td>\n",
       "      <td>0.6770</td>\n",
       "      <td>0.2565</td>\n",
       "      <td>0.1415</td>\n",
       "      <td>0.2100</td>\n",
       "      <td>9</td>\n",
       "    </tr>\n",
       "    <tr>\n",
       "      <th>3</th>\n",
       "      <td>2</td>\n",
       "      <td>0.440</td>\n",
       "      <td>0.365</td>\n",
       "      <td>0.125</td>\n",
       "      <td>0.5160</td>\n",
       "      <td>0.2155</td>\n",
       "      <td>0.1140</td>\n",
       "      <td>0.1550</td>\n",
       "      <td>10</td>\n",
       "    </tr>\n",
       "    <tr>\n",
       "      <th>4</th>\n",
       "      <td>1</td>\n",
       "      <td>0.330</td>\n",
       "      <td>0.255</td>\n",
       "      <td>0.080</td>\n",
       "      <td>0.2050</td>\n",
       "      <td>0.0895</td>\n",
       "      <td>0.0395</td>\n",
       "      <td>0.0550</td>\n",
       "      <td>7</td>\n",
       "    </tr>\n",
       "    <tr>\n",
       "      <th>...</th>\n",
       "      <td>...</td>\n",
       "      <td>...</td>\n",
       "      <td>...</td>\n",
       "      <td>...</td>\n",
       "      <td>...</td>\n",
       "      <td>...</td>\n",
       "      <td>...</td>\n",
       "      <td>...</td>\n",
       "      <td>...</td>\n",
       "    </tr>\n",
       "    <tr>\n",
       "      <th>4172</th>\n",
       "      <td>0</td>\n",
       "      <td>0.565</td>\n",
       "      <td>0.450</td>\n",
       "      <td>0.165</td>\n",
       "      <td>0.8870</td>\n",
       "      <td>0.3700</td>\n",
       "      <td>0.2390</td>\n",
       "      <td>0.2490</td>\n",
       "      <td>11</td>\n",
       "    </tr>\n",
       "    <tr>\n",
       "      <th>4173</th>\n",
       "      <td>2</td>\n",
       "      <td>0.590</td>\n",
       "      <td>0.440</td>\n",
       "      <td>0.135</td>\n",
       "      <td>0.9660</td>\n",
       "      <td>0.4390</td>\n",
       "      <td>0.2145</td>\n",
       "      <td>0.2605</td>\n",
       "      <td>10</td>\n",
       "    </tr>\n",
       "    <tr>\n",
       "      <th>4174</th>\n",
       "      <td>2</td>\n",
       "      <td>0.600</td>\n",
       "      <td>0.475</td>\n",
       "      <td>0.205</td>\n",
       "      <td>1.1760</td>\n",
       "      <td>0.5255</td>\n",
       "      <td>0.2875</td>\n",
       "      <td>0.3080</td>\n",
       "      <td>9</td>\n",
       "    </tr>\n",
       "    <tr>\n",
       "      <th>4175</th>\n",
       "      <td>0</td>\n",
       "      <td>0.625</td>\n",
       "      <td>0.485</td>\n",
       "      <td>0.150</td>\n",
       "      <td>1.0945</td>\n",
       "      <td>0.5310</td>\n",
       "      <td>0.2610</td>\n",
       "      <td>0.2960</td>\n",
       "      <td>10</td>\n",
       "    </tr>\n",
       "    <tr>\n",
       "      <th>4176</th>\n",
       "      <td>2</td>\n",
       "      <td>0.710</td>\n",
       "      <td>0.555</td>\n",
       "      <td>0.195</td>\n",
       "      <td>1.9485</td>\n",
       "      <td>0.9455</td>\n",
       "      <td>0.3765</td>\n",
       "      <td>0.4950</td>\n",
       "      <td>12</td>\n",
       "    </tr>\n",
       "  </tbody>\n",
       "</table>\n",
       "<p>4177 rows × 9 columns</p>\n",
       "</div>"
      ],
      "text/plain": [
       "      Sex  Length  Diameter  Height  Whole weight  Shucked weight  \\\n",
       "0       2   0.455     0.365   0.095        0.5140          0.2245   \n",
       "1       2   0.350     0.265   0.090        0.2255          0.0995   \n",
       "2       0   0.530     0.420   0.135        0.6770          0.2565   \n",
       "3       2   0.440     0.365   0.125        0.5160          0.2155   \n",
       "4       1   0.330     0.255   0.080        0.2050          0.0895   \n",
       "...   ...     ...       ...     ...           ...             ...   \n",
       "4172    0   0.565     0.450   0.165        0.8870          0.3700   \n",
       "4173    2   0.590     0.440   0.135        0.9660          0.4390   \n",
       "4174    2   0.600     0.475   0.205        1.1760          0.5255   \n",
       "4175    0   0.625     0.485   0.150        1.0945          0.5310   \n",
       "4176    2   0.710     0.555   0.195        1.9485          0.9455   \n",
       "\n",
       "      Viscera weight  Shell weight  Rings  \n",
       "0             0.1010        0.1500     15  \n",
       "1             0.0485        0.0700      7  \n",
       "2             0.1415        0.2100      9  \n",
       "3             0.1140        0.1550     10  \n",
       "4             0.0395        0.0550      7  \n",
       "...              ...           ...    ...  \n",
       "4172          0.2390        0.2490     11  \n",
       "4173          0.2145        0.2605     10  \n",
       "4174          0.2875        0.3080      9  \n",
       "4175          0.2610        0.2960     10  \n",
       "4176          0.3765        0.4950     12  \n",
       "\n",
       "[4177 rows x 9 columns]"
      ]
     },
     "execution_count": 46,
     "metadata": {},
     "output_type": "execute_result"
    }
   ],
   "source": [
    "\n",
    "le = LabelEncoder()\n",
    "\n",
    "# if we have to change single column use as below\n",
    "df['Sex'] = le.fit_transform(df['Sex'])\n",
    "\n",
    "df"
   ]
  },
  {
   "cell_type": "code",
   "execution_count": null,
   "id": "81dec40e",
   "metadata": {
    "scrolled": true
   },
   "outputs": [],
   "source": []
  },
  {
   "cell_type": "code",
   "execution_count": null,
   "id": "bce9d484",
   "metadata": {
    "scrolled": true
   },
   "outputs": [],
   "source": []
  },
  {
   "cell_type": "markdown",
   "id": "587687d2",
   "metadata": {},
   "source": [
    "# Checking the outliers:"
   ]
  },
  {
   "cell_type": "code",
   "execution_count": 47,
   "id": "2f5925b3",
   "metadata": {
    "scrolled": true
   },
   "outputs": [
    {
     "data": {
      "text/plain": [
       "Sex                  AxesSubplot(0.125,0.536818;0.110714x0.343182)\n",
       "Length            AxesSubplot(0.257857,0.536818;0.110714x0.343182)\n",
       "Diameter          AxesSubplot(0.390714,0.536818;0.110714x0.343182)\n",
       "Height            AxesSubplot(0.523571,0.536818;0.110714x0.343182)\n",
       "Whole weight      AxesSubplot(0.656429,0.536818;0.110714x0.343182)\n",
       "Shucked weight    AxesSubplot(0.789286,0.536818;0.110714x0.343182)\n",
       "Viscera weight          AxesSubplot(0.125,0.125;0.110714x0.343182)\n",
       "Shell weight         AxesSubplot(0.257857,0.125;0.110714x0.343182)\n",
       "Rings                AxesSubplot(0.390714,0.125;0.110714x0.343182)\n",
       "dtype: object"
      ]
     },
     "execution_count": 47,
     "metadata": {},
     "output_type": "execute_result"
    },
    {
     "data": {
      "image/png": "[encoded data removed]",
      "text/plain": [
       "<Figure size 432x288 with 12 Axes>"
      ]
     },
     "metadata": {
      "needs_background": "light"
     },
     "output_type": "display_data"
    }
   ],
   "source": [
    "df.plot(kind='box', subplots = True,layout = (2,6) )"
   ]
  },
  {
   "cell_type": "markdown",
   "id": "ff44c35b",
   "metadata": {},
   "source": [
    "obs: Outliers are present in data as we can see from above graph"
   ]
  },
  {
   "cell_type": "code",
   "execution_count": 48,
   "id": "3e71eec6",
   "metadata": {
    "scrolled": true
   },
   "outputs": [],
   "source": [
    "from scipy.stats import skew"
   ]
  },
  {
   "cell_type": "code",
   "execution_count": 49,
   "id": "8618e4f4",
   "metadata": {
    "scrolled": true
   },
   "outputs": [
    {
     "name": "stdout",
     "output_type": "stream",
     "text": [
      "Sex\n",
      "-0.09811989796728826\n"
     ]
    },
    {
     "data": {
      "image/png": "[encoded data removed]",
      "text/plain": [
       "<Figure size 432x288 with 1 Axes>"
      ]
     },
     "metadata": {
      "needs_background": "light"
     },
     "output_type": "display_data"
    },
    {
     "name": "stdout",
     "output_type": "stream",
     "text": [
      "Length\n",
      "-0.6396434615451078\n"
     ]
    },
    {
     "data": {
      "image/png": "[encoded data removed]",
      "text/plain": [
       "<Figure size 432x288 with 1 Axes>"
      ]
     },
     "metadata": {
      "needs_background": "light"
     },
     "output_type": "display_data"
    },
    {
     "name": "stdout",
     "output_type": "stream",
     "text": [
      "Diameter\n",
      "-0.6089793517180232\n"
     ]
    },
    {
     "data": {
      "image/png": "[encoded data removed]",
      "text/plain": [
       "<Figure size 432x288 with 1 Axes>"
      ]
     },
     "metadata": {
      "needs_background": "light"
     },
     "output_type": "display_data"
    },
    {
     "name": "stdout",
     "output_type": "stream",
     "text": [
      "Height\n",
      "3.127693679207538\n"
     ]
    },
    {
     "data": {
      "image/png": "[encoded data removed]",
      "text/plain": [
       "<Figure size 432x288 with 1 Axes>"
      ]
     },
     "metadata": {
      "needs_background": "light"
     },
     "output_type": "display_data"
    },
    {
     "name": "stdout",
     "output_type": "stream",
     "text": [
      "Whole weight\n",
      "0.5307678720133928\n"
     ]
    },
    {
     "data": {
      "image/png": "[encoded data removed]",
      "text/plain": [
       "<Figure size 432x288 with 1 Axes>"
      ]
     },
     "metadata": {
      "needs_background": "light"
     },
     "output_type": "display_data"
    },
    {
     "name": "stdout",
     "output_type": "stream",
     "text": [
      "Shucked weight\n",
      "0.7188396611678955\n"
     ]
    },
    {
     "data": {
      "image/png": "[encoded data removed]",
      "text/plain": [
       "<Figure size 432x288 with 1 Axes>"
      ]
     },
     "metadata": {
      "needs_background": "light"
     },
     "output_type": "display_data"
    },
    {
     "name": "stdout",
     "output_type": "stream",
     "text": [
      "Viscera weight\n",
      "0.5916395905344537\n"
     ]
    },
    {
     "data": {
      "image/png": "[encoded data removed]",
      "text/plain": [
       "<Figure size 432x288 with 1 Axes>"
      ]
     },
     "metadata": {
      "needs_background": "light"
     },
     "output_type": "display_data"
    },
    {
     "name": "stdout",
     "output_type": "stream",
     "text": [
      "Shell weight\n",
      "0.6207038222275745\n"
     ]
    },
    {
     "data": {
      "image/png": "[encoded data removed]",
      "text/plain": [
       "<Figure size 432x288 with 1 Axes>"
      ]
     },
     "metadata": {
      "needs_background": "light"
     },
     "output_type": "display_data"
    },
    {
     "name": "stdout",
     "output_type": "stream",
     "text": [
      "Rings\n",
      "1.1137017739656028\n"
     ]
    },
    {
     "data": {
      "image/png": "[encoded data removed]",
      "text/plain": [
       "<Figure size 432x288 with 1 Axes>"
      ]
     },
     "metadata": {
      "needs_background": "light"
     },
     "output_type": "display_data"
    }
   ],
   "source": [
    "for col in df:\n",
    "    print(col)\n",
    "    print(skew(df[col]))\n",
    "    \n",
    "    plt.figure()\n",
    "    sb.distplot(df[col])\n",
    "    plt.show()\n",
    "    \n"
   ]
  },
  {
   "cell_type": "markdown",
   "id": "39baacc4",
   "metadata": {},
   "source": [
    "observstion :\n",
    "    All columns of the data is mostly skewed."
   ]
  },
  {
   "cell_type": "code",
   "execution_count": 50,
   "id": "48de9219",
   "metadata": {
    "scrolled": true
   },
   "outputs": [
    {
     "data": {
      "text/html": [
       "<div>\n",
       "<style scoped>\n",
       "    .dataframe tbody tr th:only-of-type {\n",
       "        vertical-align: middle;\n",
       "    }\n",
       "\n",
       "    .dataframe tbody tr th {\n",
       "        vertical-align: top;\n",
       "    }\n",
       "\n",
       "    .dataframe thead th {\n",
       "        text-align: right;\n",
       "    }\n",
       "</style>\n",
       "<table border=\"1\" class=\"dataframe\">\n",
       "  <thead>\n",
       "    <tr style=\"text-align: right;\">\n",
       "      <th></th>\n",
       "      <th>Sex</th>\n",
       "      <th>Length</th>\n",
       "      <th>Diameter</th>\n",
       "      <th>Height</th>\n",
       "      <th>Whole weight</th>\n",
       "      <th>Shucked weight</th>\n",
       "      <th>Viscera weight</th>\n",
       "      <th>Shell weight</th>\n",
       "      <th>Rings</th>\n",
       "    </tr>\n",
       "  </thead>\n",
       "  <tbody>\n",
       "    <tr>\n",
       "      <th>Sex</th>\n",
       "      <td>1.000000</td>\n",
       "      <td>-0.036066</td>\n",
       "      <td>-0.038874</td>\n",
       "      <td>-0.042077</td>\n",
       "      <td>-0.021391</td>\n",
       "      <td>-0.001373</td>\n",
       "      <td>-0.032067</td>\n",
       "      <td>-0.034854</td>\n",
       "      <td>-0.034627</td>\n",
       "    </tr>\n",
       "    <tr>\n",
       "      <th>Length</th>\n",
       "      <td>-0.036066</td>\n",
       "      <td>1.000000</td>\n",
       "      <td>0.986812</td>\n",
       "      <td>0.827554</td>\n",
       "      <td>0.925261</td>\n",
       "      <td>0.897914</td>\n",
       "      <td>0.903018</td>\n",
       "      <td>0.897706</td>\n",
       "      <td>0.556720</td>\n",
       "    </tr>\n",
       "    <tr>\n",
       "      <th>Diameter</th>\n",
       "      <td>-0.038874</td>\n",
       "      <td>0.986812</td>\n",
       "      <td>1.000000</td>\n",
       "      <td>0.833684</td>\n",
       "      <td>0.925452</td>\n",
       "      <td>0.893162</td>\n",
       "      <td>0.899724</td>\n",
       "      <td>0.905330</td>\n",
       "      <td>0.574660</td>\n",
       "    </tr>\n",
       "    <tr>\n",
       "      <th>Height</th>\n",
       "      <td>-0.042077</td>\n",
       "      <td>0.827554</td>\n",
       "      <td>0.833684</td>\n",
       "      <td>1.000000</td>\n",
       "      <td>0.819221</td>\n",
       "      <td>0.774972</td>\n",
       "      <td>0.798319</td>\n",
       "      <td>0.817338</td>\n",
       "      <td>0.557467</td>\n",
       "    </tr>\n",
       "    <tr>\n",
       "      <th>Whole weight</th>\n",
       "      <td>-0.021391</td>\n",
       "      <td>0.925261</td>\n",
       "      <td>0.925452</td>\n",
       "      <td>0.819221</td>\n",
       "      <td>1.000000</td>\n",
       "      <td>0.969405</td>\n",
       "      <td>0.966375</td>\n",
       "      <td>0.955355</td>\n",
       "      <td>0.540390</td>\n",
       "    </tr>\n",
       "    <tr>\n",
       "      <th>Shucked weight</th>\n",
       "      <td>-0.001373</td>\n",
       "      <td>0.897914</td>\n",
       "      <td>0.893162</td>\n",
       "      <td>0.774972</td>\n",
       "      <td>0.969405</td>\n",
       "      <td>1.000000</td>\n",
       "      <td>0.931961</td>\n",
       "      <td>0.882617</td>\n",
       "      <td>0.420884</td>\n",
       "    </tr>\n",
       "    <tr>\n",
       "      <th>Viscera weight</th>\n",
       "      <td>-0.032067</td>\n",
       "      <td>0.903018</td>\n",
       "      <td>0.899724</td>\n",
       "      <td>0.798319</td>\n",
       "      <td>0.966375</td>\n",
       "      <td>0.931961</td>\n",
       "      <td>1.000000</td>\n",
       "      <td>0.907656</td>\n",
       "      <td>0.503819</td>\n",
       "    </tr>\n",
       "    <tr>\n",
       "      <th>Shell weight</th>\n",
       "      <td>-0.034854</td>\n",
       "      <td>0.897706</td>\n",
       "      <td>0.905330</td>\n",
       "      <td>0.817338</td>\n",
       "      <td>0.955355</td>\n",
       "      <td>0.882617</td>\n",
       "      <td>0.907656</td>\n",
       "      <td>1.000000</td>\n",
       "      <td>0.627574</td>\n",
       "    </tr>\n",
       "    <tr>\n",
       "      <th>Rings</th>\n",
       "      <td>-0.034627</td>\n",
       "      <td>0.556720</td>\n",
       "      <td>0.574660</td>\n",
       "      <td>0.557467</td>\n",
       "      <td>0.540390</td>\n",
       "      <td>0.420884</td>\n",
       "      <td>0.503819</td>\n",
       "      <td>0.627574</td>\n",
       "      <td>1.000000</td>\n",
       "    </tr>\n",
       "  </tbody>\n",
       "</table>\n",
       "</div>"
      ],
      "text/plain": [
       "                     Sex    Length  Diameter    Height  Whole weight  \\\n",
       "Sex             1.000000 -0.036066 -0.038874 -0.042077     -0.021391   \n",
       "Length         -0.036066  1.000000  0.986812  0.827554      0.925261   \n",
       "Diameter       -0.038874  0.986812  1.000000  0.833684      0.925452   \n",
       "Height         -0.042077  0.827554  0.833684  1.000000      0.819221   \n",
       "Whole weight   -0.021391  0.925261  0.925452  0.819221      1.000000   \n",
       "Shucked weight -0.001373  0.897914  0.893162  0.774972      0.969405   \n",
       "Viscera weight -0.032067  0.903018  0.899724  0.798319      0.966375   \n",
       "Shell weight   -0.034854  0.897706  0.905330  0.817338      0.955355   \n",
       "Rings          -0.034627  0.556720  0.574660  0.557467      0.540390   \n",
       "\n",
       "                Shucked weight  Viscera weight  Shell weight     Rings  \n",
       "Sex                  -0.001373       -0.032067     -0.034854 -0.034627  \n",
       "Length                0.897914        0.903018      0.897706  0.556720  \n",
       "Diameter              0.893162        0.899724      0.905330  0.574660  \n",
       "Height                0.774972        0.798319      0.817338  0.557467  \n",
       "Whole weight          0.969405        0.966375      0.955355  0.540390  \n",
       "Shucked weight        1.000000        0.931961      0.882617  0.420884  \n",
       "Viscera weight        0.931961        1.000000      0.907656  0.503819  \n",
       "Shell weight          0.882617        0.907656      1.000000  0.627574  \n",
       "Rings                 0.420884        0.503819      0.627574  1.000000  "
      ]
     },
     "execution_count": 50,
     "metadata": {},
     "output_type": "execute_result"
    }
   ],
   "source": [
    "#checking correlation\n",
    "df.corr()"
   ]
  },
  {
   "cell_type": "code",
   "execution_count": 51,
   "id": "e6e6897d",
   "metadata": {
    "scrolled": true
   },
   "outputs": [
    {
     "data": {
      "text/plain": [
       "<AxesSubplot:>"
      ]
     },
     "execution_count": 51,
     "metadata": {},
     "output_type": "execute_result"
    },
    {
     "data": {
      "image/png": "[encoded data removed]",
      "text/plain": [
       "<Figure size 1080x504 with 2 Axes>"
      ]
     },
     "metadata": {
      "needs_background": "light"
     },
     "output_type": "display_data"
    }
   ],
   "source": [
    "plt.figure(figsize=(15,7))\n",
    "sb.heatmap(df.corr(),annot=True,linewidth=0.5,linecolor=\"white\",fmt='0.2f')       #plotting heatmap of correlation"
   ]
  },
  {
   "cell_type": "raw",
   "id": "c79ea38f",
   "metadata": {},
   "source": [
    "Observation:\n",
    "    Shell Weight has highest correlation with outcome columns rings\n",
    "    Shucked weight has very bad correlation with rings also it highly skewed as noted from above graphs\n",
    "    "
   ]
  },
  {
   "cell_type": "code",
   "execution_count": 52,
   "id": "99dc6eba",
   "metadata": {
    "scrolled": true
   },
   "outputs": [
    {
     "data": {
      "text/html": [
       "<div>\n",
       "<style scoped>\n",
       "    .dataframe tbody tr th:only-of-type {\n",
       "        vertical-align: middle;\n",
       "    }\n",
       "\n",
       "    .dataframe tbody tr th {\n",
       "        vertical-align: top;\n",
       "    }\n",
       "\n",
       "    .dataframe thead th {\n",
       "        text-align: right;\n",
       "    }\n",
       "</style>\n",
       "<table border=\"1\" class=\"dataframe\">\n",
       "  <thead>\n",
       "    <tr style=\"text-align: right;\">\n",
       "      <th></th>\n",
       "      <th>Sex</th>\n",
       "      <th>Length</th>\n",
       "      <th>Diameter</th>\n",
       "      <th>Height</th>\n",
       "      <th>Whole weight</th>\n",
       "      <th>Shucked weight</th>\n",
       "      <th>Viscera weight</th>\n",
       "      <th>Shell weight</th>\n",
       "      <th>Rings</th>\n",
       "    </tr>\n",
       "  </thead>\n",
       "  <tbody>\n",
       "    <tr>\n",
       "      <th>count</th>\n",
       "      <td>4177.000000</td>\n",
       "      <td>4177.000000</td>\n",
       "      <td>4177.000000</td>\n",
       "      <td>4177.000000</td>\n",
       "      <td>4177.000000</td>\n",
       "      <td>4177.000000</td>\n",
       "      <td>4177.000000</td>\n",
       "      <td>4177.000000</td>\n",
       "      <td>4177.000000</td>\n",
       "    </tr>\n",
       "    <tr>\n",
       "      <th>mean</th>\n",
       "      <td>1.052909</td>\n",
       "      <td>0.523992</td>\n",
       "      <td>0.407881</td>\n",
       "      <td>0.139516</td>\n",
       "      <td>0.828742</td>\n",
       "      <td>0.359367</td>\n",
       "      <td>0.180594</td>\n",
       "      <td>0.238831</td>\n",
       "      <td>9.933684</td>\n",
       "    </tr>\n",
       "    <tr>\n",
       "      <th>std</th>\n",
       "      <td>0.822240</td>\n",
       "      <td>0.120093</td>\n",
       "      <td>0.099240</td>\n",
       "      <td>0.041827</td>\n",
       "      <td>0.490389</td>\n",
       "      <td>0.221963</td>\n",
       "      <td>0.109614</td>\n",
       "      <td>0.139203</td>\n",
       "      <td>3.224169</td>\n",
       "    </tr>\n",
       "    <tr>\n",
       "      <th>min</th>\n",
       "      <td>0.000000</td>\n",
       "      <td>0.075000</td>\n",
       "      <td>0.055000</td>\n",
       "      <td>0.000000</td>\n",
       "      <td>0.002000</td>\n",
       "      <td>0.001000</td>\n",
       "      <td>0.000500</td>\n",
       "      <td>0.001500</td>\n",
       "      <td>1.000000</td>\n",
       "    </tr>\n",
       "    <tr>\n",
       "      <th>25%</th>\n",
       "      <td>0.000000</td>\n",
       "      <td>0.450000</td>\n",
       "      <td>0.350000</td>\n",
       "      <td>0.115000</td>\n",
       "      <td>0.441500</td>\n",
       "      <td>0.186000</td>\n",
       "      <td>0.093500</td>\n",
       "      <td>0.130000</td>\n",
       "      <td>8.000000</td>\n",
       "    </tr>\n",
       "    <tr>\n",
       "      <th>50%</th>\n",
       "      <td>1.000000</td>\n",
       "      <td>0.545000</td>\n",
       "      <td>0.425000</td>\n",
       "      <td>0.140000</td>\n",
       "      <td>0.799500</td>\n",
       "      <td>0.336000</td>\n",
       "      <td>0.171000</td>\n",
       "      <td>0.234000</td>\n",
       "      <td>9.000000</td>\n",
       "    </tr>\n",
       "    <tr>\n",
       "      <th>75%</th>\n",
       "      <td>2.000000</td>\n",
       "      <td>0.615000</td>\n",
       "      <td>0.480000</td>\n",
       "      <td>0.165000</td>\n",
       "      <td>1.153000</td>\n",
       "      <td>0.502000</td>\n",
       "      <td>0.253000</td>\n",
       "      <td>0.329000</td>\n",
       "      <td>11.000000</td>\n",
       "    </tr>\n",
       "    <tr>\n",
       "      <th>max</th>\n",
       "      <td>2.000000</td>\n",
       "      <td>0.815000</td>\n",
       "      <td>0.650000</td>\n",
       "      <td>1.130000</td>\n",
       "      <td>2.825500</td>\n",
       "      <td>1.488000</td>\n",
       "      <td>0.760000</td>\n",
       "      <td>1.005000</td>\n",
       "      <td>29.000000</td>\n",
       "    </tr>\n",
       "  </tbody>\n",
       "</table>\n",
       "</div>"
      ],
      "text/plain": [
       "               Sex       Length     Diameter       Height  Whole weight  \\\n",
       "count  4177.000000  4177.000000  4177.000000  4177.000000   4177.000000   \n",
       "mean      1.052909     0.523992     0.407881     0.139516      0.828742   \n",
       "std       0.822240     0.120093     0.099240     0.041827      0.490389   \n",
       "min       0.000000     0.075000     0.055000     0.000000      0.002000   \n",
       "25%       0.000000     0.450000     0.350000     0.115000      0.441500   \n",
       "50%       1.000000     0.545000     0.425000     0.140000      0.799500   \n",
       "75%       2.000000     0.615000     0.480000     0.165000      1.153000   \n",
       "max       2.000000     0.815000     0.650000     1.130000      2.825500   \n",
       "\n",
       "       Shucked weight  Viscera weight  Shell weight        Rings  \n",
       "count     4177.000000     4177.000000   4177.000000  4177.000000  \n",
       "mean         0.359367        0.180594      0.238831     9.933684  \n",
       "std          0.221963        0.109614      0.139203     3.224169  \n",
       "min          0.001000        0.000500      0.001500     1.000000  \n",
       "25%          0.186000        0.093500      0.130000     8.000000  \n",
       "50%          0.336000        0.171000      0.234000     9.000000  \n",
       "75%          0.502000        0.253000      0.329000    11.000000  \n",
       "max          1.488000        0.760000      1.005000    29.000000  "
      ]
     },
     "execution_count": 52,
     "metadata": {},
     "output_type": "execute_result"
    }
   ],
   "source": [
    "df.describe()"
   ]
  },
  {
   "cell_type": "raw",
   "id": "673de7fa",
   "metadata": {
    "scrolled": true
   },
   "source": [
    "# Observation:\n",
    "    length, diameter, height are rightly skewed\n",
    "    "
   ]
  },
  {
   "cell_type": "code",
   "execution_count": 53,
   "id": "588b1491",
   "metadata": {
    "scrolled": true
   },
   "outputs": [
    {
     "name": "stdout",
     "output_type": "stream",
     "text": [
      "<class 'pandas.core.frame.DataFrame'>\n",
      "RangeIndex: 4177 entries, 0 to 4176\n",
      "Data columns (total 9 columns):\n",
      " #   Column          Non-Null Count  Dtype  \n",
      "---  ------          --------------  -----  \n",
      " 0   Sex             4177 non-null   int32  \n",
      " 1   Length          4177 non-null   float64\n",
      " 2   Diameter        4177 non-null   float64\n",
      " 3   Height          4177 non-null   float64\n",
      " 4   Whole weight    4177 non-null   float64\n",
      " 5   Shucked weight  4177 non-null   float64\n",
      " 6   Viscera weight  4177 non-null   float64\n",
      " 7   Shell weight    4177 non-null   float64\n",
      " 8   Rings           4177 non-null   int64  \n",
      "dtypes: float64(7), int32(1), int64(1)\n",
      "memory usage: 277.5 KB\n"
     ]
    }
   ],
   "source": [
    "df.info()"
   ]
  },
  {
   "cell_type": "code",
   "execution_count": 54,
   "id": "e1ead75f",
   "metadata": {
    "scrolled": true
   },
   "outputs": [],
   "source": [
    "x = df.iloc[:,:-1]"
   ]
  },
  {
   "cell_type": "code",
   "execution_count": 55,
   "id": "ce11a647",
   "metadata": {
    "scrolled": true
   },
   "outputs": [],
   "source": [
    "import statsmodels.api as sm\n",
    "from scipy import stats\n",
    "from statsmodels.stats.outliers_influence import variance_inflation_factor"
   ]
  },
  {
   "cell_type": "code",
   "execution_count": 56,
   "id": "0334a3e4",
   "metadata": {
    "scrolled": true
   },
   "outputs": [],
   "source": [
    "#Checking multicollinearity\n",
    "\n",
    "def calc_vif(x):\n",
    "    vif=pd.DataFrame()\n",
    "    vif['variables']=x.columns\n",
    "    vif[\"VIF FACTOR\"]= [variance_inflation_factor(x.values,i) for i in range(x.shape[1])]\n",
    "    return(vif)"
   ]
  },
  {
   "cell_type": "code",
   "execution_count": 57,
   "id": "417dea67",
   "metadata": {
    "scrolled": true
   },
   "outputs": [
    {
     "data": {
      "text/html": [
       "<div>\n",
       "<style scoped>\n",
       "    .dataframe tbody tr th:only-of-type {\n",
       "        vertical-align: middle;\n",
       "    }\n",
       "\n",
       "    .dataframe tbody tr th {\n",
       "        vertical-align: top;\n",
       "    }\n",
       "\n",
       "    .dataframe thead th {\n",
       "        text-align: right;\n",
       "    }\n",
       "</style>\n",
       "<table border=\"1\" class=\"dataframe\">\n",
       "  <thead>\n",
       "    <tr style=\"text-align: right;\">\n",
       "      <th></th>\n",
       "      <th>variables</th>\n",
       "      <th>VIF FACTOR</th>\n",
       "    </tr>\n",
       "  </thead>\n",
       "  <tbody>\n",
       "    <tr>\n",
       "      <th>0</th>\n",
       "      <td>Sex</td>\n",
       "      <td>2.555356</td>\n",
       "    </tr>\n",
       "    <tr>\n",
       "      <th>1</th>\n",
       "      <td>Length</td>\n",
       "      <td>700.488988</td>\n",
       "    </tr>\n",
       "    <tr>\n",
       "      <th>2</th>\n",
       "      <td>Diameter</td>\n",
       "      <td>749.121626</td>\n",
       "    </tr>\n",
       "    <tr>\n",
       "      <th>3</th>\n",
       "      <td>Height</td>\n",
       "      <td>42.128924</td>\n",
       "    </tr>\n",
       "    <tr>\n",
       "      <th>4</th>\n",
       "      <td>Whole weight</td>\n",
       "      <td>421.652484</td>\n",
       "    </tr>\n",
       "    <tr>\n",
       "      <th>5</th>\n",
       "      <td>Shucked weight</td>\n",
       "      <td>101.674946</td>\n",
       "    </tr>\n",
       "    <tr>\n",
       "      <th>6</th>\n",
       "      <td>Viscera weight</td>\n",
       "      <td>63.585627</td>\n",
       "    </tr>\n",
       "    <tr>\n",
       "      <th>7</th>\n",
       "      <td>Shell weight</td>\n",
       "      <td>81.873737</td>\n",
       "    </tr>\n",
       "  </tbody>\n",
       "</table>\n",
       "</div>"
      ],
      "text/plain": [
       "        variables  VIF FACTOR\n",
       "0             Sex    2.555356\n",
       "1          Length  700.488988\n",
       "2        Diameter  749.121626\n",
       "3          Height   42.128924\n",
       "4    Whole weight  421.652484\n",
       "5  Shucked weight  101.674946\n",
       "6  Viscera weight   63.585627\n",
       "7    Shell weight   81.873737"
      ]
     },
     "execution_count": 57,
     "metadata": {},
     "output_type": "execute_result"
    }
   ],
   "source": [
    "calc_vif(x)"
   ]
  },
  {
   "cell_type": "markdown",
   "id": "e7b068d6",
   "metadata": {},
   "source": [
    "obs: No column can be dropped as we need every column to predict the age by rings"
   ]
  },
  {
   "cell_type": "code",
   "execution_count": 58,
   "id": "c7d08e68",
   "metadata": {
    "scrolled": true
   },
   "outputs": [
    {
     "data": {
      "text/plain": [
       "array([[1.15198011, 0.57455813, 0.43214879, ..., 0.72621157, 0.63821689,\n",
       "        1.57154357],\n",
       "       [1.15198011, 1.44898585, 1.439929  , ..., 1.20522124, 1.21298732,\n",
       "        0.91001299],\n",
       "       [1.28068972, 0.05003309, 0.12213032, ..., 0.35668983, 0.20713907,\n",
       "        0.28962385],\n",
       "       ...,\n",
       "       [1.15198011, 0.6329849 , 0.67640943, ..., 0.97541324, 0.49695471,\n",
       "        0.28962385],\n",
       "       [1.28068972, 0.84118198, 0.77718745, ..., 0.73362741, 0.41073914,\n",
       "        0.02057072],\n",
       "       [1.15198011, 1.54905203, 1.48263359, ..., 1.78744868, 1.84048058,\n",
       "        0.64095986]])"
      ]
     },
     "execution_count": 58,
     "metadata": {},
     "output_type": "execute_result"
    }
   ],
   "source": [
    "# Removing Outliers\n",
    "from scipy.stats import zscore\n",
    "z = np.array(abs(zscore(df)))\n",
    "z"
   ]
  },
  {
   "cell_type": "code",
   "execution_count": 59,
   "id": "be46abd1",
   "metadata": {
    "scrolled": true
   },
   "outputs": [
    {
     "name": "stdout",
     "output_type": "stream",
     "text": [
      "(array([   6,   72,   81,   83,  129,  163,  164,  165,  165,  165,  166,\n",
      "        166,  167,  168,  170,  181,  232,  236,  236,  236,  237,  237,\n",
      "        238,  238,  239,  270,  275,  277,  278,  294,  310,  313,  314,\n",
      "        334,  351,  355,  358,  358,  362,  375,  416,  417,  428,  431,\n",
      "        433,  469,  478,  480,  501,  526,  526,  530,  572,  628,  673,\n",
      "        674,  675,  678,  694,  696,  696,  719,  719,  720,  720,  744,\n",
      "        754,  756,  811,  891,  891,  891, 1048, 1051, 1051, 1052, 1193,\n",
      "       1197, 1199, 1202, 1204, 1206, 1206, 1207, 1207, 1207, 1207, 1209,\n",
      "       1209, 1257, 1417, 1417, 1418, 1422, 1426, 1427, 1427, 1427, 1428,\n",
      "       1429, 1429, 1528, 1754, 1756, 1757, 1759, 1761, 1762, 1762, 1762,\n",
      "       1763, 1763, 1763, 1821, 1982, 1986, 1987, 1987, 2051, 2090, 2108,\n",
      "       2108, 2114, 2114, 2157, 2161, 2176, 2180, 2199, 2201, 2208, 2209,\n",
      "       2274, 2275, 2305, 2334, 2334, 2334, 2335, 2344, 2358, 2368, 2381,\n",
      "       2436, 2459, 2471, 2544, 2623, 2624, 2624, 2624, 2625, 2709, 2710,\n",
      "       2710, 2810, 2810, 2811, 2811, 2811, 2862, 2863, 2863, 2863, 3007,\n",
      "       3008, 3140, 3148, 3149, 3149, 3151, 3151, 3188, 3193, 3280, 3359,\n",
      "       3427, 3427, 3427, 3599, 3599, 3628, 3713, 3715, 3715, 3715, 3715,\n",
      "       3800, 3837, 3899, 3899, 3902, 3924, 3930, 3944, 3961, 3962, 3996,\n",
      "       4145, 4148], dtype=int64), array([8, 8, 7, 8, 7, 7, 7, 4, 5, 7, 7, 8, 8, 7, 6, 8, 8, 1, 2, 3, 1, 2,\n",
      "       1, 2, 1, 8, 8, 7, 8, 8, 8, 8, 8, 7, 8, 8, 4, 7, 8, 8, 8, 8, 8, 8,\n",
      "       8, 8, 8, 8, 8, 1, 2, 8, 8, 8, 8, 8, 8, 8, 2, 1, 2, 1, 2, 1, 2, 8,\n",
      "       8, 8, 8, 4, 5, 7, 6, 4, 5, 4, 5, 5, 5, 5, 6, 5, 6, 4, 5, 6, 7, 4,\n",
      "       5, 3, 3, 5, 5, 6, 5, 4, 5, 6, 7, 1, 2, 5, 5, 5, 6, 6, 5, 4, 5, 6,\n",
      "       4, 5, 6, 5, 5, 1, 1, 2, 3, 7, 7, 8, 1, 2, 7, 7, 8, 8, 8, 8, 7, 8,\n",
      "       7, 8, 8, 4, 6, 8, 8, 8, 8, 7, 1, 8, 8, 8, 5, 4, 4, 5, 6, 5, 6, 5,\n",
      "       6, 5, 6, 4, 5, 6, 5, 4, 5, 6, 5, 7, 8, 7, 7, 8, 7, 8, 7, 8, 8, 8,\n",
      "       4, 5, 6, 4, 5, 6, 5, 4, 5, 6, 7, 4, 2, 1, 2, 1, 8, 8, 8, 5, 5, 3,\n",
      "       7, 6], dtype=int64))\n"
     ]
    }
   ],
   "source": [
    "threshold = 3\n",
    "print(np.where(z>3))"
   ]
  },
  {
   "cell_type": "code",
   "execution_count": 60,
   "id": "a71b9795",
   "metadata": {
    "scrolled": true
   },
   "outputs": [
    {
     "data": {
      "text/html": [
       "<div>\n",
       "<style scoped>\n",
       "    .dataframe tbody tr th:only-of-type {\n",
       "        vertical-align: middle;\n",
       "    }\n",
       "\n",
       "    .dataframe tbody tr th {\n",
       "        vertical-align: top;\n",
       "    }\n",
       "\n",
       "    .dataframe thead th {\n",
       "        text-align: right;\n",
       "    }\n",
       "</style>\n",
       "<table border=\"1\" class=\"dataframe\">\n",
       "  <thead>\n",
       "    <tr style=\"text-align: right;\">\n",
       "      <th></th>\n",
       "      <th>Sex</th>\n",
       "      <th>Length</th>\n",
       "      <th>Diameter</th>\n",
       "      <th>Height</th>\n",
       "      <th>Whole weight</th>\n",
       "      <th>Shucked weight</th>\n",
       "      <th>Viscera weight</th>\n",
       "      <th>Shell weight</th>\n",
       "      <th>Rings</th>\n",
       "    </tr>\n",
       "  </thead>\n",
       "  <tbody>\n",
       "    <tr>\n",
       "      <th>0</th>\n",
       "      <td>2</td>\n",
       "      <td>0.455</td>\n",
       "      <td>0.365</td>\n",
       "      <td>0.095</td>\n",
       "      <td>0.5140</td>\n",
       "      <td>0.2245</td>\n",
       "      <td>0.1010</td>\n",
       "      <td>0.1500</td>\n",
       "      <td>15</td>\n",
       "    </tr>\n",
       "    <tr>\n",
       "      <th>1</th>\n",
       "      <td>2</td>\n",
       "      <td>0.350</td>\n",
       "      <td>0.265</td>\n",
       "      <td>0.090</td>\n",
       "      <td>0.2255</td>\n",
       "      <td>0.0995</td>\n",
       "      <td>0.0485</td>\n",
       "      <td>0.0700</td>\n",
       "      <td>7</td>\n",
       "    </tr>\n",
       "    <tr>\n",
       "      <th>2</th>\n",
       "      <td>0</td>\n",
       "      <td>0.530</td>\n",
       "      <td>0.420</td>\n",
       "      <td>0.135</td>\n",
       "      <td>0.6770</td>\n",
       "      <td>0.2565</td>\n",
       "      <td>0.1415</td>\n",
       "      <td>0.2100</td>\n",
       "      <td>9</td>\n",
       "    </tr>\n",
       "    <tr>\n",
       "      <th>3</th>\n",
       "      <td>2</td>\n",
       "      <td>0.440</td>\n",
       "      <td>0.365</td>\n",
       "      <td>0.125</td>\n",
       "      <td>0.5160</td>\n",
       "      <td>0.2155</td>\n",
       "      <td>0.1140</td>\n",
       "      <td>0.1550</td>\n",
       "      <td>10</td>\n",
       "    </tr>\n",
       "    <tr>\n",
       "      <th>4</th>\n",
       "      <td>1</td>\n",
       "      <td>0.330</td>\n",
       "      <td>0.255</td>\n",
       "      <td>0.080</td>\n",
       "      <td>0.2050</td>\n",
       "      <td>0.0895</td>\n",
       "      <td>0.0395</td>\n",
       "      <td>0.0550</td>\n",
       "      <td>7</td>\n",
       "    </tr>\n",
       "    <tr>\n",
       "      <th>...</th>\n",
       "      <td>...</td>\n",
       "      <td>...</td>\n",
       "      <td>...</td>\n",
       "      <td>...</td>\n",
       "      <td>...</td>\n",
       "      <td>...</td>\n",
       "      <td>...</td>\n",
       "      <td>...</td>\n",
       "      <td>...</td>\n",
       "    </tr>\n",
       "    <tr>\n",
       "      <th>4172</th>\n",
       "      <td>0</td>\n",
       "      <td>0.565</td>\n",
       "      <td>0.450</td>\n",
       "      <td>0.165</td>\n",
       "      <td>0.8870</td>\n",
       "      <td>0.3700</td>\n",
       "      <td>0.2390</td>\n",
       "      <td>0.2490</td>\n",
       "      <td>11</td>\n",
       "    </tr>\n",
       "    <tr>\n",
       "      <th>4173</th>\n",
       "      <td>2</td>\n",
       "      <td>0.590</td>\n",
       "      <td>0.440</td>\n",
       "      <td>0.135</td>\n",
       "      <td>0.9660</td>\n",
       "      <td>0.4390</td>\n",
       "      <td>0.2145</td>\n",
       "      <td>0.2605</td>\n",
       "      <td>10</td>\n",
       "    </tr>\n",
       "    <tr>\n",
       "      <th>4174</th>\n",
       "      <td>2</td>\n",
       "      <td>0.600</td>\n",
       "      <td>0.475</td>\n",
       "      <td>0.205</td>\n",
       "      <td>1.1760</td>\n",
       "      <td>0.5255</td>\n",
       "      <td>0.2875</td>\n",
       "      <td>0.3080</td>\n",
       "      <td>9</td>\n",
       "    </tr>\n",
       "    <tr>\n",
       "      <th>4175</th>\n",
       "      <td>0</td>\n",
       "      <td>0.625</td>\n",
       "      <td>0.485</td>\n",
       "      <td>0.150</td>\n",
       "      <td>1.0945</td>\n",
       "      <td>0.5310</td>\n",
       "      <td>0.2610</td>\n",
       "      <td>0.2960</td>\n",
       "      <td>10</td>\n",
       "    </tr>\n",
       "    <tr>\n",
       "      <th>4176</th>\n",
       "      <td>2</td>\n",
       "      <td>0.710</td>\n",
       "      <td>0.555</td>\n",
       "      <td>0.195</td>\n",
       "      <td>1.9485</td>\n",
       "      <td>0.9455</td>\n",
       "      <td>0.3765</td>\n",
       "      <td>0.4950</td>\n",
       "      <td>12</td>\n",
       "    </tr>\n",
       "  </tbody>\n",
       "</table>\n",
       "<p>4027 rows × 9 columns</p>\n",
       "</div>"
      ],
      "text/plain": [
       "      Sex  Length  Diameter  Height  Whole weight  Shucked weight  \\\n",
       "0       2   0.455     0.365   0.095        0.5140          0.2245   \n",
       "1       2   0.350     0.265   0.090        0.2255          0.0995   \n",
       "2       0   0.530     0.420   0.135        0.6770          0.2565   \n",
       "3       2   0.440     0.365   0.125        0.5160          0.2155   \n",
       "4       1   0.330     0.255   0.080        0.2050          0.0895   \n",
       "...   ...     ...       ...     ...           ...             ...   \n",
       "4172    0   0.565     0.450   0.165        0.8870          0.3700   \n",
       "4173    2   0.590     0.440   0.135        0.9660          0.4390   \n",
       "4174    2   0.600     0.475   0.205        1.1760          0.5255   \n",
       "4175    0   0.625     0.485   0.150        1.0945          0.5310   \n",
       "4176    2   0.710     0.555   0.195        1.9485          0.9455   \n",
       "\n",
       "      Viscera weight  Shell weight  Rings  \n",
       "0             0.1010        0.1500     15  \n",
       "1             0.0485        0.0700      7  \n",
       "2             0.1415        0.2100      9  \n",
       "3             0.1140        0.1550     10  \n",
       "4             0.0395        0.0550      7  \n",
       "...              ...           ...    ...  \n",
       "4172          0.2390        0.2490     11  \n",
       "4173          0.2145        0.2605     10  \n",
       "4174          0.2875        0.3080      9  \n",
       "4175          0.2610        0.2960     10  \n",
       "4176          0.3765        0.4950     12  \n",
       "\n",
       "[4027 rows x 9 columns]"
      ]
     },
     "execution_count": 60,
     "metadata": {},
     "output_type": "execute_result"
    }
   ],
   "source": [
    "df_new=df[(z<3).all(axis=1)]\n",
    "df_new"
   ]
  },
  {
   "cell_type": "code",
   "execution_count": 61,
   "id": "4ee75f02",
   "metadata": {
    "scrolled": true
   },
   "outputs": [],
   "source": [
    "#removing duplicate values\n",
    "df_new.drop_duplicates(keep='first',inplace=True)"
   ]
  },
  {
   "cell_type": "code",
   "execution_count": 62,
   "id": "18ba6eb2",
   "metadata": {
    "scrolled": true
   },
   "outputs": [
    {
     "data": {
      "text/plain": [
       "(4027, 9)"
      ]
     },
     "execution_count": 62,
     "metadata": {},
     "output_type": "execute_result"
    }
   ],
   "source": [
    "df_new.shape"
   ]
  },
  {
   "cell_type": "code",
   "execution_count": 63,
   "id": "3c26d49e",
   "metadata": {
    "scrolled": true
   },
   "outputs": [
    {
     "data": {
      "text/plain": [
       "(4177, 9)"
      ]
     },
     "execution_count": 63,
     "metadata": {},
     "output_type": "execute_result"
    }
   ],
   "source": [
    "df.shape"
   ]
  },
  {
   "cell_type": "code",
   "execution_count": 64,
   "id": "351f9c1e",
   "metadata": {
    "scrolled": true
   },
   "outputs": [
    {
     "data": {
      "text/plain": [
       "3.5910940866650707"
      ]
     },
     "execution_count": 64,
     "metadata": {},
     "output_type": "execute_result"
    }
   ],
   "source": [
    "loss_percent = ((4177-4027)/4177)*100\n",
    "loss_percent"
   ]
  },
  {
   "cell_type": "markdown",
   "id": "0ebf651f",
   "metadata": {},
   "source": [
    "data loss is less than 5% so we can proceed"
   ]
  },
  {
   "cell_type": "code",
   "execution_count": 65,
   "id": "3b3e02ba",
   "metadata": {
    "scrolled": true
   },
   "outputs": [
    {
     "data": {
      "text/plain": [
       "Index(['Sex', 'Length', 'Diameter', 'Height', 'Whole weight', 'Shucked weight',\n",
       "       'Viscera weight', 'Shell weight', 'Rings'],\n",
       "      dtype='object')"
      ]
     },
     "execution_count": 65,
     "metadata": {},
     "output_type": "execute_result"
    }
   ],
   "source": [
    "df.columns"
   ]
  },
  {
   "cell_type": "code",
   "execution_count": 66,
   "id": "6ef7e607",
   "metadata": {
    "scrolled": true
   },
   "outputs": [],
   "source": [
    "# removing skewness as shucked weight is badly correlated with ouput \n",
    "\n",
    "df_new['Shucked weight']= np.sqrt(df_new['Shucked weight'])\n"
   ]
  },
  {
   "cell_type": "code",
   "execution_count": 67,
   "id": "941b9c45",
   "metadata": {
    "scrolled": true
   },
   "outputs": [
    {
     "data": {
      "text/plain": [
       "-0.22625196103213183"
      ]
     },
     "execution_count": 67,
     "metadata": {},
     "output_type": "execute_result"
    }
   ],
   "source": [
    "skew(df_new['Shucked weight'])"
   ]
  },
  {
   "cell_type": "code",
   "execution_count": 68,
   "id": "629cafee",
   "metadata": {
    "scrolled": true
   },
   "outputs": [
    {
     "data": {
      "text/plain": [
       "-0.6532410749651459"
      ]
     },
     "execution_count": 68,
     "metadata": {},
     "output_type": "execute_result"
    }
   ],
   "source": [
    "df_new['Height']= np.sqrt(df_new['Height'])    #removed skewness as it was mediumly correlated and had high skewness\n",
    "skew(df_new['Height'])"
   ]
  },
  {
   "cell_type": "markdown",
   "id": "7d9b4a43",
   "metadata": {},
   "source": [
    "Data is now cleaned"
   ]
  },
  {
   "cell_type": "markdown",
   "id": "2f77abb3",
   "metadata": {},
   "source": [
    "Splitting the data"
   ]
  },
  {
   "cell_type": "code",
   "execution_count": 69,
   "id": "5d4fc5b7",
   "metadata": {
    "scrolled": true
   },
   "outputs": [
    {
     "data": {
      "text/html": [
       "<div>\n",
       "<style scoped>\n",
       "    .dataframe tbody tr th:only-of-type {\n",
       "        vertical-align: middle;\n",
       "    }\n",
       "\n",
       "    .dataframe tbody tr th {\n",
       "        vertical-align: top;\n",
       "    }\n",
       "\n",
       "    .dataframe thead th {\n",
       "        text-align: right;\n",
       "    }\n",
       "</style>\n",
       "<table border=\"1\" class=\"dataframe\">\n",
       "  <thead>\n",
       "    <tr style=\"text-align: right;\">\n",
       "      <th></th>\n",
       "      <th>Sex</th>\n",
       "      <th>Length</th>\n",
       "      <th>Diameter</th>\n",
       "      <th>Height</th>\n",
       "      <th>Whole weight</th>\n",
       "      <th>Shucked weight</th>\n",
       "      <th>Viscera weight</th>\n",
       "      <th>Shell weight</th>\n",
       "    </tr>\n",
       "  </thead>\n",
       "  <tbody>\n",
       "    <tr>\n",
       "      <th>0</th>\n",
       "      <td>2</td>\n",
       "      <td>0.455</td>\n",
       "      <td>0.365</td>\n",
       "      <td>0.308221</td>\n",
       "      <td>0.5140</td>\n",
       "      <td>0.473814</td>\n",
       "      <td>0.1010</td>\n",
       "      <td>0.150</td>\n",
       "    </tr>\n",
       "    <tr>\n",
       "      <th>1</th>\n",
       "      <td>2</td>\n",
       "      <td>0.350</td>\n",
       "      <td>0.265</td>\n",
       "      <td>0.300000</td>\n",
       "      <td>0.2255</td>\n",
       "      <td>0.315436</td>\n",
       "      <td>0.0485</td>\n",
       "      <td>0.070</td>\n",
       "    </tr>\n",
       "    <tr>\n",
       "      <th>2</th>\n",
       "      <td>0</td>\n",
       "      <td>0.530</td>\n",
       "      <td>0.420</td>\n",
       "      <td>0.367423</td>\n",
       "      <td>0.6770</td>\n",
       "      <td>0.506458</td>\n",
       "      <td>0.1415</td>\n",
       "      <td>0.210</td>\n",
       "    </tr>\n",
       "    <tr>\n",
       "      <th>3</th>\n",
       "      <td>2</td>\n",
       "      <td>0.440</td>\n",
       "      <td>0.365</td>\n",
       "      <td>0.353553</td>\n",
       "      <td>0.5160</td>\n",
       "      <td>0.464220</td>\n",
       "      <td>0.1140</td>\n",
       "      <td>0.155</td>\n",
       "    </tr>\n",
       "    <tr>\n",
       "      <th>4</th>\n",
       "      <td>1</td>\n",
       "      <td>0.330</td>\n",
       "      <td>0.255</td>\n",
       "      <td>0.282843</td>\n",
       "      <td>0.2050</td>\n",
       "      <td>0.299166</td>\n",
       "      <td>0.0395</td>\n",
       "      <td>0.055</td>\n",
       "    </tr>\n",
       "  </tbody>\n",
       "</table>\n",
       "</div>"
      ],
      "text/plain": [
       "   Sex  Length  Diameter    Height  Whole weight  Shucked weight  \\\n",
       "0    2   0.455     0.365  0.308221        0.5140        0.473814   \n",
       "1    2   0.350     0.265  0.300000        0.2255        0.315436   \n",
       "2    0   0.530     0.420  0.367423        0.6770        0.506458   \n",
       "3    2   0.440     0.365  0.353553        0.5160        0.464220   \n",
       "4    1   0.330     0.255  0.282843        0.2050        0.299166   \n",
       "\n",
       "   Viscera weight  Shell weight  \n",
       "0          0.1010         0.150  \n",
       "1          0.0485         0.070  \n",
       "2          0.1415         0.210  \n",
       "3          0.1140         0.155  \n",
       "4          0.0395         0.055  "
      ]
     },
     "execution_count": 69,
     "metadata": {},
     "output_type": "execute_result"
    }
   ],
   "source": [
    "x= df_new.iloc[:,0:-1]\n",
    "x.head()"
   ]
  },
  {
   "cell_type": "code",
   "execution_count": 70,
   "id": "6667abe2",
   "metadata": {
    "scrolled": true
   },
   "outputs": [
    {
     "data": {
      "text/plain": [
       "0       15\n",
       "1        7\n",
       "2        9\n",
       "3       10\n",
       "4        7\n",
       "        ..\n",
       "4172    11\n",
       "4173    10\n",
       "4174     9\n",
       "4175    10\n",
       "4176    12\n",
       "Name: Rings, Length: 4027, dtype: int64"
      ]
     },
     "execution_count": 70,
     "metadata": {},
     "output_type": "execute_result"
    }
   ],
   "source": [
    "y = df_new['Rings']\n",
    "y"
   ]
  },
  {
   "cell_type": "code",
   "execution_count": 71,
   "id": "64d6f7f2",
   "metadata": {},
   "outputs": [],
   "source": [
    "# Standardization of the data\n",
    "scalar= StandardScaler()\n",
    "x=scalar.fit_transform(x)\n",
    "y=scalar.fit_transform(y.values.reshape(-1,1))"
   ]
  },
  {
   "cell_type": "code",
   "execution_count": 76,
   "id": "faa287bd",
   "metadata": {},
   "outputs": [],
   "source": [
    "from sklearn.preprocessing import MinMaxScaler\n",
    "mns= MinMaxScaler()\n",
    "from sklearn.linear_model import LinearRegression\n",
    "lr = LinearRegression()\n",
    "from sklearn.metrics import r2_score\n",
    "from sklearn.model_selection import train_test_split\n",
    "\n",
    "import warnings\n",
    "warnings.filterwarnings('ignore')\n"
   ]
  },
  {
   "cell_type": "code",
   "execution_count": 77,
   "id": "35f88a18",
   "metadata": {},
   "outputs": [
    {
     "name": "stdout",
     "output_type": "stream",
     "text": [
      "At random state 0,the training accuracy is:- 0.4925406740547994\n",
      "At random state 0,the testing accuracy is:- 0.4642981752222055\n",
      "\n",
      "\n",
      "At random state 1,the training accuracy is:- 0.49258030950482234\n",
      "At random state 1,the testing accuracy is:- 0.46156069380160203\n",
      "\n",
      "\n",
      "At random state 2,the training accuracy is:- 0.4891770848923159\n",
      "At random state 2,the testing accuracy is:- 0.4795898989474664\n",
      "\n",
      "\n",
      "At random state 3,the training accuracy is:- 0.4902901814900623\n",
      "At random state 3,the testing accuracy is:- 0.4732359036245948\n",
      "\n",
      "\n",
      "At random state 4,the training accuracy is:- 0.48637661234097307\n",
      "At random state 4,the testing accuracy is:- 0.4902378547818782\n",
      "\n",
      "\n",
      "At random state 5,the training accuracy is:- 0.49656271189295864\n",
      "At random state 5,the testing accuracy is:- 0.4492897892364982\n",
      "\n",
      "\n",
      "At random state 6,the training accuracy is:- 0.4828981882183774\n",
      "At random state 6,the testing accuracy is:- 0.5029726475671749\n",
      "\n",
      "\n",
      "At random state 7,the training accuracy is:- 0.4983610077219316\n",
      "At random state 7,the testing accuracy is:- 0.4414922181640021\n",
      "\n",
      "\n",
      "At random state 8,the training accuracy is:- 0.48421905693544276\n",
      "At random state 8,the testing accuracy is:- 0.49918167573597416\n",
      "\n",
      "\n",
      "At random state 9,the training accuracy is:- 0.4860506868633785\n",
      "At random state 9,the testing accuracy is:- 0.4914211243924942\n",
      "\n",
      "\n",
      "At random state 10,the training accuracy is:- 0.478842763231617\n",
      "At random state 10,the testing accuracy is:- 0.5172633197980928\n",
      "\n",
      "\n",
      "At random state 11,the training accuracy is:- 0.4800856762930785\n",
      "At random state 11,the testing accuracy is:- 0.5168554172968038\n",
      "\n",
      "\n",
      "At random state 12,the training accuracy is:- 0.4801888647904273\n",
      "At random state 12,the testing accuracy is:- 0.5139571338740225\n",
      "\n",
      "\n",
      "At random state 13,the training accuracy is:- 0.48847121060341003\n",
      "At random state 13,the testing accuracy is:- 0.4824947870893078\n",
      "\n",
      "\n",
      "At random state 14,the training accuracy is:- 0.48524309460860116\n",
      "At random state 14,the testing accuracy is:- 0.49409507587095935\n",
      "\n",
      "\n",
      "At random state 15,the training accuracy is:- 0.4857634730456164\n",
      "At random state 15,the testing accuracy is:- 0.4930988173155678\n",
      "\n",
      "\n",
      "At random state 16,the training accuracy is:- 0.4804693333202469\n",
      "At random state 16,the testing accuracy is:- 0.511744905527497\n",
      "\n",
      "\n",
      "At random state 17,the training accuracy is:- 0.4942649607377082\n",
      "At random state 17,the testing accuracy is:- 0.46001135127818615\n",
      "\n",
      "\n",
      "At random state 18,the training accuracy is:- 0.4809897552799107\n",
      "At random state 18,the testing accuracy is:- 0.5124614753821124\n",
      "\n",
      "\n",
      "At random state 19,the training accuracy is:- 0.5018608411776267\n",
      "At random state 19,the testing accuracy is:- 0.4330014336139608\n",
      "\n",
      "\n",
      "At random state 20,the training accuracy is:- 0.48265519788432654\n",
      "At random state 20,the testing accuracy is:- 0.5035933268658623\n",
      "\n",
      "\n",
      "At random state 21,the training accuracy is:- 0.4877008335894999\n",
      "At random state 21,the testing accuracy is:- 0.48474960646094345\n",
      "\n",
      "\n",
      "At random state 22,the training accuracy is:- 0.48181439479263866\n",
      "At random state 22,the testing accuracy is:- 0.5043660348651751\n",
      "\n",
      "\n",
      "At random state 23,the training accuracy is:- 0.4831735982487714\n",
      "At random state 23,the testing accuracy is:- 0.5022595157660283\n",
      "\n",
      "\n",
      "At random state 24,the training accuracy is:- 0.4853412955443681\n",
      "At random state 24,the testing accuracy is:- 0.49373644549746876\n",
      "\n",
      "\n",
      "At random state 25,the training accuracy is:- 0.4914172552490713\n",
      "At random state 25,the testing accuracy is:- 0.47190918145773564\n",
      "\n",
      "\n",
      "At random state 26,the training accuracy is:- 0.4932766263115491\n",
      "At random state 26,the testing accuracy is:- 0.463211303519657\n",
      "\n",
      "\n",
      "At random state 27,the training accuracy is:- 0.49077562599928415\n",
      "At random state 27,the testing accuracy is:- 0.4687694946970339\n",
      "\n",
      "\n",
      "At random state 28,the training accuracy is:- 0.48421344840245695\n",
      "At random state 28,the testing accuracy is:- 0.49888297850595664\n",
      "\n",
      "\n",
      "At random state 29,the training accuracy is:- 0.48312346406503326\n",
      "At random state 29,the testing accuracy is:- 0.5036919239048672\n",
      "\n",
      "\n",
      "At random state 30,the training accuracy is:- 0.4880203282535386\n",
      "At random state 30,the testing accuracy is:- 0.4824971037840401\n",
      "\n",
      "\n",
      "At random state 31,the training accuracy is:- 0.4852110915255763\n",
      "At random state 31,the testing accuracy is:- 0.49492997846751985\n",
      "\n",
      "\n",
      "At random state 32,the training accuracy is:- 0.48941300378490216\n",
      "At random state 32,the testing accuracy is:- 0.4754381895538313\n",
      "\n",
      "\n",
      "At random state 33,the training accuracy is:- 0.493137947144656\n",
      "At random state 33,the testing accuracy is:- 0.4644107653410462\n",
      "\n",
      "\n",
      "At random state 34,the training accuracy is:- 0.4888225762328783\n",
      "At random state 34,the testing accuracy is:- 0.4801628453673932\n",
      "\n",
      "\n",
      "At random state 35,the training accuracy is:- 0.48450265411836047\n",
      "At random state 35,the testing accuracy is:- 0.49340032395945055\n",
      "\n",
      "\n",
      "At random state 36,the training accuracy is:- 0.4904496023853089\n",
      "At random state 36,the testing accuracy is:- 0.47400932905611204\n",
      "\n",
      "\n",
      "At random state 37,the training accuracy is:- 0.48933815351791676\n",
      "At random state 37,the testing accuracy is:- 0.4791291227296518\n",
      "\n",
      "\n",
      "At random state 38,the training accuracy is:- 0.48532313693089213\n",
      "At random state 38,the testing accuracy is:- 0.4947089672709958\n",
      "\n",
      "\n",
      "At random state 39,the training accuracy is:- 0.4863079510777726\n",
      "At random state 39,the testing accuracy is:- 0.4887307221750611\n",
      "\n",
      "\n",
      "At random state 40,the training accuracy is:- 0.4813198460665623\n",
      "At random state 40,the testing accuracy is:- 0.5101665823725261\n",
      "\n",
      "\n",
      "At random state 41,the training accuracy is:- 0.4831921535266964\n",
      "At random state 41,the testing accuracy is:- 0.5017544524010431\n",
      "\n",
      "\n",
      "At random state 42,the training accuracy is:- 0.48857827789690433\n",
      "At random state 42,the testing accuracy is:- 0.47800120620566877\n",
      "\n",
      "\n",
      "At random state 43,the training accuracy is:- 0.4875633148058216\n",
      "At random state 43,the testing accuracy is:- 0.4856696019193051\n",
      "\n",
      "\n",
      "At random state 44,the training accuracy is:- 0.4848150022175918\n",
      "At random state 44,the testing accuracy is:- 0.49652252247085493\n",
      "\n",
      "\n",
      "At random state 45,the training accuracy is:- 0.4754139302358831\n",
      "At random state 45,the testing accuracy is:- 0.5309701738464736\n",
      "\n",
      "\n",
      "At random state 46,the training accuracy is:- 0.48829155128273893\n",
      "At random state 46,the testing accuracy is:- 0.4802253234053344\n",
      "\n",
      "\n",
      "At random state 47,the training accuracy is:- 0.48661940126697156\n",
      "At random state 47,the testing accuracy is:- 0.48853999957266603\n",
      "\n",
      "\n",
      "At random state 48,the training accuracy is:- 0.4912255965877811\n",
      "At random state 48,the testing accuracy is:- 0.4699025910572666\n",
      "\n",
      "\n",
      "At random state 49,the training accuracy is:- 0.47970145440099043\n",
      "At random state 49,the testing accuracy is:- 0.5176912539340687\n",
      "\n",
      "\n",
      "At random state 50,the training accuracy is:- 0.4883384112688941\n",
      "At random state 50,the testing accuracy is:- 0.48270323626994194\n",
      "\n",
      "\n",
      "At random state 51,the training accuracy is:- 0.4798152987693426\n",
      "At random state 51,the testing accuracy is:- 0.5101480999790431\n",
      "\n",
      "\n",
      "At random state 52,the training accuracy is:- 0.49232642963338613\n",
      "At random state 52,the testing accuracy is:- 0.4623176856812504\n",
      "\n",
      "\n",
      "At random state 53,the training accuracy is:- 0.5026091366097449\n",
      "At random state 53,the testing accuracy is:- 0.4047705914955445\n",
      "\n",
      "\n",
      "At random state 54,the training accuracy is:- 0.4928312675022479\n",
      "At random state 54,the testing accuracy is:- 0.46515731598241095\n",
      "\n",
      "\n",
      "At random state 55,the training accuracy is:- 0.4841146575339328\n",
      "At random state 55,the testing accuracy is:- 0.49916728752739625\n",
      "\n",
      "\n",
      "At random state 56,the training accuracy is:- 0.4917949189029337\n",
      "At random state 56,the testing accuracy is:- 0.46587406339678683\n",
      "\n",
      "\n",
      "At random state 57,the training accuracy is:- 0.48601191826591517\n",
      "At random state 57,the testing accuracy is:- 0.49203355074536026\n",
      "\n",
      "\n",
      "At random state 58,the training accuracy is:- 0.4796466162504329\n",
      "At random state 58,the testing accuracy is:- 0.5145111439560879\n",
      "\n",
      "\n",
      "At random state 59,the training accuracy is:- 0.48455537913747015\n",
      "At random state 59,the testing accuracy is:- 0.4951218373233942\n",
      "\n",
      "\n",
      "At random state 60,the training accuracy is:- 0.48113948187659616\n",
      "At random state 60,the testing accuracy is:- 0.5111653927775534\n",
      "\n",
      "\n",
      "At random state 61,the training accuracy is:- 0.4935359558492918\n",
      "At random state 61,the testing accuracy is:- 0.4632971379116255\n",
      "\n",
      "\n",
      "At random state 62,the training accuracy is:- 0.4740035812854849\n",
      "At random state 62,the testing accuracy is:- 0.5407478534394035\n",
      "\n",
      "\n",
      "At random state 63,the training accuracy is:- 0.4962884240126384\n",
      "At random state 63,the testing accuracy is:- 0.4480616036446601\n",
      "\n",
      "\n",
      "At random state 64,the training accuracy is:- 0.4897272965958903\n",
      "At random state 64,the testing accuracy is:- 0.47611606369918025\n",
      "\n",
      "\n",
      "At random state 65,the training accuracy is:- 0.4842433994209384\n",
      "At random state 65,the testing accuracy is:- 0.496468898398318\n",
      "\n",
      "\n",
      "At random state 66,the training accuracy is:- 0.4825297535650409\n",
      "At random state 66,the testing accuracy is:- 0.5052512981779251\n",
      "\n",
      "\n",
      "At random state 67,the training accuracy is:- 0.4908724359617953\n",
      "At random state 67,the testing accuracy is:- 0.47268024261525154\n",
      "\n",
      "\n",
      "At random state 68,the training accuracy is:- 0.4887680578701349\n",
      "At random state 68,the testing accuracy is:- 0.4788784298095732\n",
      "\n",
      "\n",
      "At random state 69,the training accuracy is:- 0.4845295734667232\n",
      "At random state 69,the testing accuracy is:- 0.495651047497086\n",
      "\n",
      "\n",
      "At random state 70,the training accuracy is:- 0.4874126945752659\n",
      "At random state 70,the testing accuracy is:- 0.4847285047756503\n",
      "\n",
      "\n",
      "At random state 71,the training accuracy is:- 0.4822405337660066\n",
      "At random state 71,the testing accuracy is:- 0.5076137651675653\n",
      "\n",
      "\n",
      "At random state 72,the training accuracy is:- 0.48002162094318757\n",
      "At random state 72,the testing accuracy is:- 0.5112422336889564\n",
      "\n",
      "\n",
      "At random state 73,the training accuracy is:- 0.48382396656766025\n"
     ]
    },
    {
     "name": "stdout",
     "output_type": "stream",
     "text": [
      "At random state 73,the testing accuracy is:- 0.4966987302882928\n",
      "\n",
      "\n",
      "At random state 74,the training accuracy is:- 0.4834199763032332\n",
      "At random state 74,the testing accuracy is:- 0.4996618255325601\n",
      "\n",
      "\n",
      "At random state 75,the training accuracy is:- 0.4906048254891181\n",
      "At random state 75,the testing accuracy is:- 0.4738115208633952\n",
      "\n",
      "\n",
      "At random state 76,the training accuracy is:- 0.4874288018061135\n",
      "At random state 76,the testing accuracy is:- 0.4854832030577235\n",
      "\n",
      "\n",
      "At random state 77,the training accuracy is:- 0.48838192268843383\n",
      "At random state 77,the testing accuracy is:- 0.4819620020819475\n",
      "\n",
      "\n",
      "At random state 78,the training accuracy is:- 0.4879539140384662\n",
      "At random state 78,the testing accuracy is:- 0.4815520665849955\n",
      "\n",
      "\n",
      "At random state 79,the training accuracy is:- 0.4826491846710066\n",
      "At random state 79,the testing accuracy is:- 0.504647863016568\n",
      "\n",
      "\n",
      "At random state 80,the training accuracy is:- 0.4843550311692736\n",
      "At random state 80,the testing accuracy is:- 0.49787881201065665\n",
      "\n",
      "\n",
      "At random state 81,the training accuracy is:- 0.4818569653127821\n",
      "At random state 81,the testing accuracy is:- 0.5073523037714907\n",
      "\n",
      "\n",
      "At random state 82,the training accuracy is:- 0.4791920236862641\n",
      "At random state 82,the testing accuracy is:- 0.5162231121137324\n",
      "\n",
      "\n",
      "At random state 83,the training accuracy is:- 0.4912055445772553\n",
      "At random state 83,the testing accuracy is:- 0.4715664259052319\n",
      "\n",
      "\n",
      "At random state 84,the training accuracy is:- 0.49443792555187693\n",
      "At random state 84,the testing accuracy is:- 0.45696714579322084\n",
      "\n",
      "\n",
      "At random state 85,the training accuracy is:- 0.4912076454001336\n",
      "At random state 85,the testing accuracy is:- 0.4689105384391292\n",
      "\n",
      "\n",
      "At random state 86,the training accuracy is:- 0.48285800140686763\n",
      "At random state 86,the testing accuracy is:- 0.5059863031851392\n",
      "\n",
      "\n",
      "At random state 87,the training accuracy is:- 0.4896409755054\n",
      "At random state 87,the testing accuracy is:- 0.4768431297924651\n",
      "\n",
      "\n",
      "At random state 88,the training accuracy is:- 0.48712266827598194\n",
      "At random state 88,the testing accuracy is:- 0.48719123491532135\n",
      "\n",
      "\n",
      "At random state 89,the training accuracy is:- 0.4848026446078737\n",
      "At random state 89,the testing accuracy is:- 0.4971169969002385\n",
      "\n",
      "\n",
      "At random state 90,the training accuracy is:- 0.48070867904930836\n",
      "At random state 90,the testing accuracy is:- 0.5125177015216498\n",
      "\n",
      "\n",
      "At random state 91,the training accuracy is:- 0.4889409963648973\n",
      "At random state 91,the testing accuracy is:- 0.47692550155689195\n",
      "\n",
      "\n",
      "At random state 92,the training accuracy is:- 0.4824153879925611\n",
      "At random state 92,the testing accuracy is:- 0.5004445488220328\n",
      "\n",
      "\n",
      "At random state 93,the training accuracy is:- 0.49831329455444395\n",
      "At random state 93,the testing accuracy is:- 0.44322533863029034\n",
      "\n",
      "\n",
      "At random state 94,the training accuracy is:- 0.48942676640677363\n",
      "At random state 94,the testing accuracy is:- 0.47634278067689795\n",
      "\n",
      "\n",
      "At random state 95,the training accuracy is:- 0.4836137494795256\n",
      "At random state 95,the testing accuracy is:- 0.49909353400470025\n",
      "\n",
      "\n",
      "At random state 96,the training accuracy is:- 0.48912241168145987\n",
      "At random state 96,the testing accuracy is:- 0.47971556065253607\n",
      "\n",
      "\n",
      "At random state 97,the training accuracy is:- 0.48371512205622536\n",
      "At random state 97,the testing accuracy is:- 0.5011455382298566\n",
      "\n",
      "\n",
      "At random state 98,the training accuracy is:- 0.48530405225591355\n",
      "At random state 98,the testing accuracy is:- 0.4924499997766377\n",
      "\n",
      "\n",
      "At random state 99,the training accuracy is:- 0.48404741749651603\n",
      "At random state 99,the testing accuracy is:- 0.4987763851180531\n",
      "\n",
      "\n"
     ]
    }
   ],
   "source": [
    "for i in range(0,100):\n",
    "    x_train,x_test,y_train,y_test=train_test_split(x,y,test_size=0.2,random_state=i)\n",
    "    lr.fit(x_train,y_train)\n",
    "    pred_train=lr.predict(x_train)\n",
    "    pred_test=lr.predict(x_test)\n",
    "    print(f\"At random state {i},the training accuracy is:- {r2_score(y_train,pred_train)}\")\n",
    "    print(f\"At random state {i},the testing accuracy is:- {r2_score(y_test,pred_test)}\")\n",
    "    print(\"\\n\")"
   ]
  },
  {
   "cell_type": "code",
   "execution_count": 78,
   "id": "f31e8a35",
   "metadata": {
    "scrolled": true
   },
   "outputs": [],
   "source": [
    "x_train,x_test,y_train,y_test = train_test_split(x,y,test_size=0.28, random_state=62)"
   ]
  },
  {
   "cell_type": "code",
   "execution_count": 82,
   "id": "c9a0cd60",
   "metadata": {
    "scrolled": false
   },
   "outputs": [],
   "source": [
    "from sklearn.ensemble import RandomForestRegressor"
   ]
  },
  {
   "cell_type": "code",
   "execution_count": 83,
   "id": "8eb3e1da",
   "metadata": {
    "scrolled": false
   },
   "outputs": [
    {
     "name": "stdout",
     "output_type": "stream",
     "text": [
      "{'criterion': 'mse', 'max_features': 'sqrt'}\n"
     ]
    }
   ],
   "source": [
    "from sklearn.model_selection import GridSearchCV\n",
    "from sklearn.ensemble import RandomForestRegressor\n",
    "\n",
    "parameters = {'criterion':['mse','mae'],'max_features':['auto','sqrt','log2']}\n",
    "\n",
    "# here we are using two parameter but it is mandatory to use atleast 4 parameters\n",
    "rf = RandomForestRegressor()\n",
    "clf= GridSearchCV(rf,parameters)\n",
    "clf.fit(x_train, y_train)\n",
    "\n",
    "print(clf.best_params_)"
   ]
  },
  {
   "cell_type": "code",
   "execution_count": 91,
   "id": "ce301cf5",
   "metadata": {
    "scrolled": false
   },
   "outputs": [],
   "source": [
    "rfr=RandomForestRegressor(criterion=\"mae\",max_features=\"sqrt\")"
   ]
  },
  {
   "cell_type": "code",
   "execution_count": 92,
   "id": "53cde767",
   "metadata": {
    "scrolled": false
   },
   "outputs": [
    {
     "name": "stdout",
     "output_type": "stream",
     "text": [
      "accuracy of the model 0.5383149949119647 random_state 1\n",
      "accuracy of the model 0.5459588176673542 random_state 2\n",
      "accuracy of the model 0.5144862936200212 random_state 3\n",
      "accuracy of the model 0.568306577626966 random_state 4\n",
      "accuracy of the model 0.522022719707588 random_state 5\n",
      "accuracy of the model 0.566403506388867 random_state 6\n",
      "accuracy of the model 0.515054181055345 random_state 7\n",
      "accuracy of the model 0.5764575582469662 random_state 8\n",
      "accuracy of the model 0.5683870159018147 random_state 9\n",
      "accuracy of the model 0.5661959516887863 random_state 10\n",
      "accuracy of the model 0.5761024255098945 random_state 11\n",
      "accuracy of the model 0.5742483700068044 random_state 12\n",
      "accuracy of the model 0.5519823696036708 random_state 13\n",
      "accuracy of the model 0.5384521649602424 random_state 14\n",
      "accuracy of the model 0.5733906498816004 random_state 15\n",
      "accuracy of the model 0.5452361828103787 random_state 16\n",
      "accuracy of the model 0.5163396974232707 random_state 17\n",
      "accuracy of the model 0.5815934621075438 random_state 18\n",
      "accuracy of the model 0.5056565336256436 random_state 19\n",
      "accuracy of the model 0.5541505935859674 random_state 20\n",
      "accuracy of the model 0.5487335439077672 random_state 21\n",
      "accuracy of the model 0.5815082852337092 random_state 22\n",
      "accuracy of the model 0.5706699300478855 random_state 23\n",
      "accuracy of the model 0.5593703304626721 random_state 24\n",
      "accuracy of the model 0.5162946106928845 random_state 25\n",
      "accuracy of the model 0.525852447512348 random_state 26\n",
      "accuracy of the model 0.5336255443119575 random_state 27\n",
      "accuracy of the model 0.5585249810356148 random_state 28\n",
      "accuracy of the model 0.55310726994845 random_state 29\n",
      "accuracy of the model 0.5312797251812039 random_state 30\n",
      "accuracy of the model 0.533700214378303 random_state 31\n",
      "accuracy of the model 0.5371427419632435 random_state 32\n",
      "accuracy of the model 0.5309384642544903 random_state 33\n",
      "accuracy of the model 0.5538739528687197 random_state 34\n",
      "accuracy of the model 0.5592900868895725 random_state 35\n",
      "accuracy of the model 0.5116313869761306 random_state 36\n",
      "accuracy of the model 0.5375145328405186 random_state 37\n",
      "accuracy of the model 0.5366165353033816 random_state 38\n",
      "accuracy of the model 0.5655910197730778 random_state 39\n",
      "accuracy of the model 0.5731124011056503 random_state 40\n",
      "accuracy of the model 0.5648293472382375 random_state 41\n",
      "accuracy of the model 0.5444243510849842 random_state 42\n",
      "accuracy of the model 0.5525572004283998 random_state 43\n",
      "accuracy of the model 0.5411578437880675 random_state 44\n",
      "accuracy of the model 0.5998820376919323 random_state 45\n",
      "accuracy of the model 0.5470347541141134 random_state 46\n",
      "accuracy of the model 0.5560329773924737 random_state 47\n",
      "accuracy of the model 0.5077768591147618 random_state 48\n",
      "accuracy of the model 0.5414618450502202 random_state 49\n",
      "accuracy of the model 0.5616281167758501 random_state 50\n",
      "accuracy of the model 0.5540021257491289 random_state 51\n",
      "accuracy of the model 0.5188701508281853 random_state 52\n",
      "accuracy of the model 0.4618820855354576 random_state 53\n",
      "accuracy of the model 0.5176164887067516 random_state 54\n",
      "accuracy of the model 0.5461865754529589 random_state 55\n",
      "accuracy of the model 0.528296562358438 random_state 56\n",
      "accuracy of the model 0.5805963020506482 random_state 57\n",
      "accuracy of the model 0.5752674899868746 random_state 58\n",
      "accuracy of the model 0.5618478838507837 random_state 59\n",
      "accuracy of the model 0.5620527124680661 random_state 60\n",
      "accuracy of the model 0.5382838005532007 random_state 61\n",
      "accuracy of the model 0.5775247191429933 random_state 62\n",
      "accuracy of the model 0.5277156145292574 random_state 63\n",
      "accuracy of the model 0.5416631947868721 random_state 64\n",
      "accuracy of the model 0.5550947813169652 random_state 65\n",
      "accuracy of the model 0.5382146175099753 random_state 66\n",
      "accuracy of the model 0.535596141413142 random_state 67\n",
      "accuracy of the model 0.5412058651234494 random_state 68\n",
      "accuracy of the model 0.5652819770155846 random_state 69\n",
      "accuracy of the model 0.53313810169851 random_state 70\n",
      "accuracy of the model 0.5718133331045049 random_state 71\n",
      "accuracy of the model 0.5619930663591892 random_state 72\n",
      "accuracy of the model 0.5534457563271771 random_state 73\n",
      "accuracy of the model 0.5481522100603776 random_state 74\n",
      "accuracy of the model 0.5589842645583168 random_state 75\n",
      "accuracy of the model 0.5459013542849129 random_state 76\n",
      "accuracy of the model 0.5486054792170759 random_state 77\n",
      "accuracy of the model 0.5661994593173407 random_state 78\n",
      "accuracy of the model 0.5633379863481228 random_state 79\n",
      "accuracy of the model 0.5932706696618679 random_state 80\n",
      "accuracy of the model 0.5508355728571448 random_state 81\n",
      "accuracy of the model 0.5826540615089464 random_state 82\n",
      "accuracy of the model 0.5339197706334858 random_state 83\n",
      "accuracy of the model 0.5378248532255486 random_state 84\n",
      "accuracy of the model 0.5282683555573988 random_state 85\n",
      "accuracy of the model 0.5516397099901487 random_state 86\n",
      "accuracy of the model 0.5290090135971588 random_state 87\n",
      "accuracy of the model 0.5320550125516952 random_state 88\n",
      "accuracy of the model 0.5569261156711797 random_state 89\n",
      "accuracy of the model 0.5596960035389082 random_state 90\n",
      "accuracy of the model 0.5424036764641729 random_state 91\n",
      "accuracy of the model 0.5582704525890598 random_state 92\n",
      "accuracy of the model 0.5101414028724265 random_state 93\n",
      "accuracy of the model 0.54474923532527 random_state 94\n",
      "accuracy of the model 0.5704741700474529 random_state 95\n",
      "accuracy of the model 0.5326510761052508 random_state 96\n",
      "accuracy of the model 0.5628396420981174 random_state 97\n",
      "accuracy of the model 0.5598363086667812 random_state 98\n",
      "accuracy of the model 0.5625995613738324 random_state 99\n"
     ]
    }
   ],
   "source": [
    "for i in range(1,100):\n",
    "    x_train,x_test,y_train, y_test=train_test_split(x,y,test_size=.20, random_state=i)\n",
    "    \n",
    "    rfr.fit(x_train, y_train)\n",
    "    pred=rfr.predict(x_test)\n",
    "    acc=r2_score(y_test,pred)\n",
    "    print('accuracy of the model', acc,'random_state', i)"
   ]
  },
  {
   "cell_type": "code",
   "execution_count": 93,
   "id": "4e4b0a96",
   "metadata": {
    "scrolled": false
   },
   "outputs": [],
   "source": [
    "import pickle\n",
    "filename= 'abalone.pkl'\n",
    "pickle.dump(rfr,open(filename, 'wb'))"
   ]
  },
  {
   "cell_type": "code",
   "execution_count": 94,
   "id": "55912799",
   "metadata": {
    "scrolled": false
   },
   "outputs": [
    {
     "name": "stdout",
     "output_type": "stream",
     "text": [
      "56.25995613738324\n"
     ]
    }
   ],
   "source": [
    "loaded_model = pickle.load(open('abalone.pkl','rb'))\n",
    "result = loaded_model.score(x_test, y_test)\n",
    "print(result*100)"
   ]
  },
  {
   "cell_type": "code",
   "execution_count": 95,
   "id": "3b2cf0c4",
   "metadata": {
    "scrolled": false
   },
   "outputs": [],
   "source": [
    "conclusion = pd.DataFrame([loaded_model.predict(x_test)[:], pred[:]], index=[\"Predicted\", \"Orignal\"])"
   ]
  },
  {
   "cell_type": "code",
   "execution_count": 96,
   "id": "ac59a157",
   "metadata": {
    "scrolled": false
   },
   "outputs": [
    {
     "data": {
      "text/html": [
       "<div>\n",
       "<style scoped>\n",
       "    .dataframe tbody tr th:only-of-type {\n",
       "        vertical-align: middle;\n",
       "    }\n",
       "\n",
       "    .dataframe tbody tr th {\n",
       "        vertical-align: top;\n",
       "    }\n",
       "\n",
       "    .dataframe thead th {\n",
       "        text-align: right;\n",
       "    }\n",
       "</style>\n",
       "<table border=\"1\" class=\"dataframe\">\n",
       "  <thead>\n",
       "    <tr style=\"text-align: right;\">\n",
       "      <th></th>\n",
       "      <th>0</th>\n",
       "      <th>1</th>\n",
       "      <th>2</th>\n",
       "      <th>3</th>\n",
       "      <th>4</th>\n",
       "      <th>5</th>\n",
       "      <th>6</th>\n",
       "      <th>7</th>\n",
       "      <th>8</th>\n",
       "      <th>9</th>\n",
       "      <th>...</th>\n",
       "      <th>796</th>\n",
       "      <th>797</th>\n",
       "      <th>798</th>\n",
       "      <th>799</th>\n",
       "      <th>800</th>\n",
       "      <th>801</th>\n",
       "      <th>802</th>\n",
       "      <th>803</th>\n",
       "      <th>804</th>\n",
       "      <th>805</th>\n",
       "    </tr>\n",
       "  </thead>\n",
       "  <tbody>\n",
       "    <tr>\n",
       "      <th>Predicted</th>\n",
       "      <td>-0.327742</td>\n",
       "      <td>-0.949178</td>\n",
       "      <td>-0.097322</td>\n",
       "      <td>-0.621004</td>\n",
       "      <td>0.227361</td>\n",
       "      <td>0.45778</td>\n",
       "      <td>-0.771126</td>\n",
       "      <td>0.422868</td>\n",
       "      <td>0.171501</td>\n",
       "      <td>-1.231966</td>\n",
       "      <td>...</td>\n",
       "      <td>-0.865389</td>\n",
       "      <td>-1.252913</td>\n",
       "      <td>0.852287</td>\n",
       "      <td>-0.401058</td>\n",
       "      <td>0.901164</td>\n",
       "      <td>-0.826985</td>\n",
       "      <td>-0.540706</td>\n",
       "      <td>0.265764</td>\n",
       "      <td>-0.875862</td>\n",
       "      <td>0.258781</td>\n",
       "    </tr>\n",
       "    <tr>\n",
       "      <th>Orignal</th>\n",
       "      <td>-0.327742</td>\n",
       "      <td>-0.949178</td>\n",
       "      <td>-0.097322</td>\n",
       "      <td>-0.621004</td>\n",
       "      <td>0.227361</td>\n",
       "      <td>0.45778</td>\n",
       "      <td>-0.771126</td>\n",
       "      <td>0.422868</td>\n",
       "      <td>0.171501</td>\n",
       "      <td>-1.231966</td>\n",
       "      <td>...</td>\n",
       "      <td>-0.865389</td>\n",
       "      <td>-1.252913</td>\n",
       "      <td>0.852287</td>\n",
       "      <td>-0.401058</td>\n",
       "      <td>0.901164</td>\n",
       "      <td>-0.826985</td>\n",
       "      <td>-0.540706</td>\n",
       "      <td>0.265764</td>\n",
       "      <td>-0.875862</td>\n",
       "      <td>0.258781</td>\n",
       "    </tr>\n",
       "  </tbody>\n",
       "</table>\n",
       "<p>2 rows × 806 columns</p>\n",
       "</div>"
      ],
      "text/plain": [
       "                0         1         2         3         4        5    \\\n",
       "Predicted -0.327742 -0.949178 -0.097322 -0.621004  0.227361  0.45778   \n",
       "Orignal   -0.327742 -0.949178 -0.097322 -0.621004  0.227361  0.45778   \n",
       "\n",
       "                6         7         8         9    ...       796       797  \\\n",
       "Predicted -0.771126  0.422868  0.171501 -1.231966  ... -0.865389 -1.252913   \n",
       "Orignal   -0.771126  0.422868  0.171501 -1.231966  ... -0.865389 -1.252913   \n",
       "\n",
       "                798       799       800       801       802       803  \\\n",
       "Predicted  0.852287 -0.401058  0.901164 -0.826985 -0.540706  0.265764   \n",
       "Orignal    0.852287 -0.401058  0.901164 -0.826985 -0.540706  0.265764   \n",
       "\n",
       "                804       805  \n",
       "Predicted -0.875862  0.258781  \n",
       "Orignal   -0.875862  0.258781  \n",
       "\n",
       "[2 rows x 806 columns]"
      ]
     },
     "execution_count": 96,
     "metadata": {},
     "output_type": "execute_result"
    }
   ],
   "source": [
    "conclusion"
   ]
  },
  {
   "cell_type": "code",
   "execution_count": null,
   "id": "223e952e",
   "metadata": {
    "scrolled": false
   },
   "outputs": [],
   "source": []
  }
 ],
 "metadata": {
  "kernelspec": {
   "display_name": "Python 3 (ipykernel)",
   "language": "python",
   "name": "python3"
  },
  "language_info": {
   "codemirror_mode": {
    "name": "ipython",
    "version": 3
   },
   "file_extension": ".py",
   "mimetype": "text/x-python",
   "name": "python",
   "nbconvert_exporter": "python",
   "pygments_lexer": "ipython3",
   "version": "3.9.12"
  }
 },
 "nbformat": 4,
 "nbformat_minor": 5
}
