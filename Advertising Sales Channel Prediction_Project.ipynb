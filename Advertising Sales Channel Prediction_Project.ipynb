{
 "cells": [
  {
   "cell_type": "markdown",
   "id": "9dfd5e63",
   "metadata": {},
   "source": [
    "# Advertising Sales Channel Prediction"
   ]
  },
  {
   "cell_type": "raw",
   "id": "4f3eb3c9",
   "metadata": {},
   "source": [
    "Problem Statement:\n",
    "Sales Channel Prediction Case Study  \n",
    "\n",
    "When a company enters a market, the distribution strategy and channel it uses are keys to its success in the market, as well as market know-how and customer knowledge and understanding. Because an effective distribution strategy under efficient supply-chain management opens doors for attaining competitive advantage and strong brand equity in the market, it is a component of the marketing mix that cannot be ignored . \n",
    "\n",
    "The distribution strategy and the channel design have to be right the first time. The case study of Sales channel includes the detailed study of TV, radio and newspaper channel. The predict the total sales generated from all the sales channel."
   ]
  },
  {
   "cell_type": "code",
   "execution_count": 1,
   "id": "29105046",
   "metadata": {},
   "outputs": [],
   "source": [
    "import pandas as pd\n",
    "import numpy as np\n",
    "import seaborn as sns\n",
    "import matplotlib.pyplot as plt\n",
    "import sklearn\n",
    "\n",
    "from sklearn.model_selection import train_test_split\n",
    "from sklearn.datasets import load_iris\n",
    "from sklearn.metrics import accuracy_score,confusion_matrix, classification_report\n",
    "\n",
    "import warnings\n",
    "warnings.filterwarnings('ignore')"
   ]
  },
  {
   "cell_type": "code",
   "execution_count": 2,
   "id": "bd576ac7",
   "metadata": {},
   "outputs": [],
   "source": [
    "df = pd.read_csv('https://raw.githubusercontent.com/dsrscientist/DSData/master/Advertising.csv')"
   ]
  },
  {
   "cell_type": "code",
   "execution_count": 3,
   "id": "12b9197f",
   "metadata": {},
   "outputs": [
    {
     "data": {
      "text/html": [
       "<div>\n",
       "<style scoped>\n",
       "    .dataframe tbody tr th:only-of-type {\n",
       "        vertical-align: middle;\n",
       "    }\n",
       "\n",
       "    .dataframe tbody tr th {\n",
       "        vertical-align: top;\n",
       "    }\n",
       "\n",
       "    .dataframe thead th {\n",
       "        text-align: right;\n",
       "    }\n",
       "</style>\n",
       "<table border=\"1\" class=\"dataframe\">\n",
       "  <thead>\n",
       "    <tr style=\"text-align: right;\">\n",
       "      <th></th>\n",
       "      <th>Unnamed: 0</th>\n",
       "      <th>TV</th>\n",
       "      <th>radio</th>\n",
       "      <th>newspaper</th>\n",
       "      <th>sales</th>\n",
       "    </tr>\n",
       "  </thead>\n",
       "  <tbody>\n",
       "    <tr>\n",
       "      <th>0</th>\n",
       "      <td>1</td>\n",
       "      <td>230.1</td>\n",
       "      <td>37.8</td>\n",
       "      <td>69.2</td>\n",
       "      <td>22.1</td>\n",
       "    </tr>\n",
       "    <tr>\n",
       "      <th>1</th>\n",
       "      <td>2</td>\n",
       "      <td>44.5</td>\n",
       "      <td>39.3</td>\n",
       "      <td>45.1</td>\n",
       "      <td>10.4</td>\n",
       "    </tr>\n",
       "    <tr>\n",
       "      <th>2</th>\n",
       "      <td>3</td>\n",
       "      <td>17.2</td>\n",
       "      <td>45.9</td>\n",
       "      <td>69.3</td>\n",
       "      <td>9.3</td>\n",
       "    </tr>\n",
       "    <tr>\n",
       "      <th>3</th>\n",
       "      <td>4</td>\n",
       "      <td>151.5</td>\n",
       "      <td>41.3</td>\n",
       "      <td>58.5</td>\n",
       "      <td>18.5</td>\n",
       "    </tr>\n",
       "    <tr>\n",
       "      <th>4</th>\n",
       "      <td>5</td>\n",
       "      <td>180.8</td>\n",
       "      <td>10.8</td>\n",
       "      <td>58.4</td>\n",
       "      <td>12.9</td>\n",
       "    </tr>\n",
       "    <tr>\n",
       "      <th>...</th>\n",
       "      <td>...</td>\n",
       "      <td>...</td>\n",
       "      <td>...</td>\n",
       "      <td>...</td>\n",
       "      <td>...</td>\n",
       "    </tr>\n",
       "    <tr>\n",
       "      <th>195</th>\n",
       "      <td>196</td>\n",
       "      <td>38.2</td>\n",
       "      <td>3.7</td>\n",
       "      <td>13.8</td>\n",
       "      <td>7.6</td>\n",
       "    </tr>\n",
       "    <tr>\n",
       "      <th>196</th>\n",
       "      <td>197</td>\n",
       "      <td>94.2</td>\n",
       "      <td>4.9</td>\n",
       "      <td>8.1</td>\n",
       "      <td>9.7</td>\n",
       "    </tr>\n",
       "    <tr>\n",
       "      <th>197</th>\n",
       "      <td>198</td>\n",
       "      <td>177.0</td>\n",
       "      <td>9.3</td>\n",
       "      <td>6.4</td>\n",
       "      <td>12.8</td>\n",
       "    </tr>\n",
       "    <tr>\n",
       "      <th>198</th>\n",
       "      <td>199</td>\n",
       "      <td>283.6</td>\n",
       "      <td>42.0</td>\n",
       "      <td>66.2</td>\n",
       "      <td>25.5</td>\n",
       "    </tr>\n",
       "    <tr>\n",
       "      <th>199</th>\n",
       "      <td>200</td>\n",
       "      <td>232.1</td>\n",
       "      <td>8.6</td>\n",
       "      <td>8.7</td>\n",
       "      <td>13.4</td>\n",
       "    </tr>\n",
       "  </tbody>\n",
       "</table>\n",
       "<p>200 rows × 5 columns</p>\n",
       "</div>"
      ],
      "text/plain": [
       "     Unnamed: 0     TV  radio  newspaper  sales\n",
       "0             1  230.1   37.8       69.2   22.1\n",
       "1             2   44.5   39.3       45.1   10.4\n",
       "2             3   17.2   45.9       69.3    9.3\n",
       "3             4  151.5   41.3       58.5   18.5\n",
       "4             5  180.8   10.8       58.4   12.9\n",
       "..          ...    ...    ...        ...    ...\n",
       "195         196   38.2    3.7       13.8    7.6\n",
       "196         197   94.2    4.9        8.1    9.7\n",
       "197         198  177.0    9.3        6.4   12.8\n",
       "198         199  283.6   42.0       66.2   25.5\n",
       "199         200  232.1    8.6        8.7   13.4\n",
       "\n",
       "[200 rows x 5 columns]"
      ]
     },
     "execution_count": 3,
     "metadata": {},
     "output_type": "execute_result"
    }
   ],
   "source": [
    "df"
   ]
  },
  {
   "cell_type": "raw",
   "id": "f98ea4f8",
   "metadata": {},
   "source": [
    "Observation:\n",
    "    Here sales is the target variable.\n",
    "    Dataframe is a continuous data\n",
    "    Unnamed column can be removed as it has no affect on sales"
   ]
  },
  {
   "cell_type": "code",
   "execution_count": 4,
   "id": "507403a4",
   "metadata": {},
   "outputs": [
    {
     "data": {
      "text/html": [
       "<div>\n",
       "<style scoped>\n",
       "    .dataframe tbody tr th:only-of-type {\n",
       "        vertical-align: middle;\n",
       "    }\n",
       "\n",
       "    .dataframe tbody tr th {\n",
       "        vertical-align: top;\n",
       "    }\n",
       "\n",
       "    .dataframe thead th {\n",
       "        text-align: right;\n",
       "    }\n",
       "</style>\n",
       "<table border=\"1\" class=\"dataframe\">\n",
       "  <thead>\n",
       "    <tr style=\"text-align: right;\">\n",
       "      <th></th>\n",
       "      <th>TV</th>\n",
       "      <th>radio</th>\n",
       "      <th>newspaper</th>\n",
       "      <th>sales</th>\n",
       "    </tr>\n",
       "  </thead>\n",
       "  <tbody>\n",
       "    <tr>\n",
       "      <th>0</th>\n",
       "      <td>230.1</td>\n",
       "      <td>37.8</td>\n",
       "      <td>69.2</td>\n",
       "      <td>22.1</td>\n",
       "    </tr>\n",
       "    <tr>\n",
       "      <th>1</th>\n",
       "      <td>44.5</td>\n",
       "      <td>39.3</td>\n",
       "      <td>45.1</td>\n",
       "      <td>10.4</td>\n",
       "    </tr>\n",
       "    <tr>\n",
       "      <th>2</th>\n",
       "      <td>17.2</td>\n",
       "      <td>45.9</td>\n",
       "      <td>69.3</td>\n",
       "      <td>9.3</td>\n",
       "    </tr>\n",
       "    <tr>\n",
       "      <th>3</th>\n",
       "      <td>151.5</td>\n",
       "      <td>41.3</td>\n",
       "      <td>58.5</td>\n",
       "      <td>18.5</td>\n",
       "    </tr>\n",
       "    <tr>\n",
       "      <th>4</th>\n",
       "      <td>180.8</td>\n",
       "      <td>10.8</td>\n",
       "      <td>58.4</td>\n",
       "      <td>12.9</td>\n",
       "    </tr>\n",
       "    <tr>\n",
       "      <th>...</th>\n",
       "      <td>...</td>\n",
       "      <td>...</td>\n",
       "      <td>...</td>\n",
       "      <td>...</td>\n",
       "    </tr>\n",
       "    <tr>\n",
       "      <th>195</th>\n",
       "      <td>38.2</td>\n",
       "      <td>3.7</td>\n",
       "      <td>13.8</td>\n",
       "      <td>7.6</td>\n",
       "    </tr>\n",
       "    <tr>\n",
       "      <th>196</th>\n",
       "      <td>94.2</td>\n",
       "      <td>4.9</td>\n",
       "      <td>8.1</td>\n",
       "      <td>9.7</td>\n",
       "    </tr>\n",
       "    <tr>\n",
       "      <th>197</th>\n",
       "      <td>177.0</td>\n",
       "      <td>9.3</td>\n",
       "      <td>6.4</td>\n",
       "      <td>12.8</td>\n",
       "    </tr>\n",
       "    <tr>\n",
       "      <th>198</th>\n",
       "      <td>283.6</td>\n",
       "      <td>42.0</td>\n",
       "      <td>66.2</td>\n",
       "      <td>25.5</td>\n",
       "    </tr>\n",
       "    <tr>\n",
       "      <th>199</th>\n",
       "      <td>232.1</td>\n",
       "      <td>8.6</td>\n",
       "      <td>8.7</td>\n",
       "      <td>13.4</td>\n",
       "    </tr>\n",
       "  </tbody>\n",
       "</table>\n",
       "<p>200 rows × 4 columns</p>\n",
       "</div>"
      ],
      "text/plain": [
       "        TV  radio  newspaper  sales\n",
       "0    230.1   37.8       69.2   22.1\n",
       "1     44.5   39.3       45.1   10.4\n",
       "2     17.2   45.9       69.3    9.3\n",
       "3    151.5   41.3       58.5   18.5\n",
       "4    180.8   10.8       58.4   12.9\n",
       "..     ...    ...        ...    ...\n",
       "195   38.2    3.7       13.8    7.6\n",
       "196   94.2    4.9        8.1    9.7\n",
       "197  177.0    9.3        6.4   12.8\n",
       "198  283.6   42.0       66.2   25.5\n",
       "199  232.1    8.6        8.7   13.4\n",
       "\n",
       "[200 rows x 4 columns]"
      ]
     },
     "execution_count": 4,
     "metadata": {},
     "output_type": "execute_result"
    }
   ],
   "source": [
    "df.drop('Unnamed: 0', axis=1, inplace = True)\n",
    "df"
   ]
  },
  {
   "cell_type": "code",
   "execution_count": 5,
   "id": "62933de5",
   "metadata": {},
   "outputs": [
    {
     "data": {
      "text/plain": [
       "TV           float64\n",
       "radio        float64\n",
       "newspaper    float64\n",
       "sales        float64\n",
       "dtype: object"
      ]
     },
     "execution_count": 5,
     "metadata": {},
     "output_type": "execute_result"
    }
   ],
   "source": [
    "df.dtypes"
   ]
  },
  {
   "cell_type": "code",
   "execution_count": 6,
   "id": "894dc985",
   "metadata": {},
   "outputs": [
    {
     "name": "stdout",
     "output_type": "stream",
     "text": [
      "<class 'pandas.core.frame.DataFrame'>\n",
      "RangeIndex: 200 entries, 0 to 199\n",
      "Data columns (total 4 columns):\n",
      " #   Column     Non-Null Count  Dtype  \n",
      "---  ------     --------------  -----  \n",
      " 0   TV         200 non-null    float64\n",
      " 1   radio      200 non-null    float64\n",
      " 2   newspaper  200 non-null    float64\n",
      " 3   sales      200 non-null    float64\n",
      "dtypes: float64(4)\n",
      "memory usage: 6.4 KB\n"
     ]
    }
   ],
   "source": [
    "df.info()"
   ]
  },
  {
   "cell_type": "code",
   "execution_count": 7,
   "id": "7f353b9e",
   "metadata": {},
   "outputs": [
    {
     "data": {
      "text/plain": [
       "(200, 4)"
      ]
     },
     "execution_count": 7,
     "metadata": {},
     "output_type": "execute_result"
    }
   ],
   "source": [
    "df.shape"
   ]
  },
  {
   "cell_type": "raw",
   "id": "be05e4b0",
   "metadata": {},
   "source": [
    "Observation:\n",
    "    200 rows and 5 columns\n",
    "    all columns are int and float type"
   ]
  },
  {
   "cell_type": "markdown",
   "id": "fbea0529",
   "metadata": {},
   "source": [
    "# Checking Null Values"
   ]
  },
  {
   "cell_type": "code",
   "execution_count": 8,
   "id": "1244299d",
   "metadata": {},
   "outputs": [
    {
     "data": {
      "text/plain": [
       "TV           0\n",
       "radio        0\n",
       "newspaper    0\n",
       "sales        0\n",
       "dtype: int64"
      ]
     },
     "execution_count": 8,
     "metadata": {},
     "output_type": "execute_result"
    }
   ],
   "source": [
    "df.isnull().sum()"
   ]
  },
  {
   "cell_type": "code",
   "execution_count": 9,
   "id": "f77636a1",
   "metadata": {},
   "outputs": [
    {
     "data": {
      "text/plain": [
       "<AxesSubplot:>"
      ]
     },
     "execution_count": 9,
     "metadata": {},
     "output_type": "execute_result"
    },
    {
     "data": {
      "image/png": "[encoded data removed]",
      "text/plain": [
       "<Figure size 432x288 with 2 Axes>"
      ]
     },
     "metadata": {
      "needs_background": "light"
     },
     "output_type": "display_data"
    }
   ],
   "source": [
    "sns.heatmap(df.isnull())"
   ]
  },
  {
   "cell_type": "markdown",
   "id": "166e5466",
   "metadata": {},
   "source": [
    "Obs: No missing values in the data"
   ]
  },
  {
   "cell_type": "markdown",
   "id": "8a517761",
   "metadata": {},
   "source": [
    "# Checking duplicates:"
   ]
  },
  {
   "cell_type": "code",
   "execution_count": 10,
   "id": "70c682e0",
   "metadata": {},
   "outputs": [
    {
     "data": {
      "text/plain": [
       "0"
      ]
     },
     "execution_count": 10,
     "metadata": {},
     "output_type": "execute_result"
    }
   ],
   "source": [
    "df.duplicated().sum()"
   ]
  },
  {
   "cell_type": "markdown",
   "id": "c3dc9b0c",
   "metadata": {},
   "source": [
    "Obs : No duplicates present in data"
   ]
  },
  {
   "cell_type": "markdown",
   "id": "c575fec0",
   "metadata": {},
   "source": [
    "# EDA"
   ]
  },
  {
   "cell_type": "markdown",
   "id": "980638ea",
   "metadata": {},
   "source": [
    "# Descriptive Statistics"
   ]
  },
  {
   "cell_type": "code",
   "execution_count": 11,
   "id": "cf2de244",
   "metadata": {},
   "outputs": [
    {
     "data": {
      "text/html": [
       "<div>\n",
       "<style scoped>\n",
       "    .dataframe tbody tr th:only-of-type {\n",
       "        vertical-align: middle;\n",
       "    }\n",
       "\n",
       "    .dataframe tbody tr th {\n",
       "        vertical-align: top;\n",
       "    }\n",
       "\n",
       "    .dataframe thead th {\n",
       "        text-align: right;\n",
       "    }\n",
       "</style>\n",
       "<table border=\"1\" class=\"dataframe\">\n",
       "  <thead>\n",
       "    <tr style=\"text-align: right;\">\n",
       "      <th></th>\n",
       "      <th>TV</th>\n",
       "      <th>radio</th>\n",
       "      <th>newspaper</th>\n",
       "      <th>sales</th>\n",
       "    </tr>\n",
       "  </thead>\n",
       "  <tbody>\n",
       "    <tr>\n",
       "      <th>count</th>\n",
       "      <td>200.000000</td>\n",
       "      <td>200.000000</td>\n",
       "      <td>200.000000</td>\n",
       "      <td>200.000000</td>\n",
       "    </tr>\n",
       "    <tr>\n",
       "      <th>mean</th>\n",
       "      <td>147.042500</td>\n",
       "      <td>23.264000</td>\n",
       "      <td>30.554000</td>\n",
       "      <td>14.022500</td>\n",
       "    </tr>\n",
       "    <tr>\n",
       "      <th>std</th>\n",
       "      <td>85.854236</td>\n",
       "      <td>14.846809</td>\n",
       "      <td>21.778621</td>\n",
       "      <td>5.217457</td>\n",
       "    </tr>\n",
       "    <tr>\n",
       "      <th>min</th>\n",
       "      <td>0.700000</td>\n",
       "      <td>0.000000</td>\n",
       "      <td>0.300000</td>\n",
       "      <td>1.600000</td>\n",
       "    </tr>\n",
       "    <tr>\n",
       "      <th>25%</th>\n",
       "      <td>74.375000</td>\n",
       "      <td>9.975000</td>\n",
       "      <td>12.750000</td>\n",
       "      <td>10.375000</td>\n",
       "    </tr>\n",
       "    <tr>\n",
       "      <th>50%</th>\n",
       "      <td>149.750000</td>\n",
       "      <td>22.900000</td>\n",
       "      <td>25.750000</td>\n",
       "      <td>12.900000</td>\n",
       "    </tr>\n",
       "    <tr>\n",
       "      <th>75%</th>\n",
       "      <td>218.825000</td>\n",
       "      <td>36.525000</td>\n",
       "      <td>45.100000</td>\n",
       "      <td>17.400000</td>\n",
       "    </tr>\n",
       "    <tr>\n",
       "      <th>max</th>\n",
       "      <td>296.400000</td>\n",
       "      <td>49.600000</td>\n",
       "      <td>114.000000</td>\n",
       "      <td>27.000000</td>\n",
       "    </tr>\n",
       "  </tbody>\n",
       "</table>\n",
       "</div>"
      ],
      "text/plain": [
       "               TV       radio   newspaper       sales\n",
       "count  200.000000  200.000000  200.000000  200.000000\n",
       "mean   147.042500   23.264000   30.554000   14.022500\n",
       "std     85.854236   14.846809   21.778621    5.217457\n",
       "min      0.700000    0.000000    0.300000    1.600000\n",
       "25%     74.375000    9.975000   12.750000   10.375000\n",
       "50%    149.750000   22.900000   25.750000   12.900000\n",
       "75%    218.825000   36.525000   45.100000   17.400000\n",
       "max    296.400000   49.600000  114.000000   27.000000"
      ]
     },
     "execution_count": 11,
     "metadata": {},
     "output_type": "execute_result"
    }
   ],
   "source": [
    "df.describe()"
   ]
  },
  {
   "cell_type": "raw",
   "id": "b43e89d7",
   "metadata": {},
   "source": [
    "Obs:\n",
    "    Columns where mean is greater than median are radio, newspaper, sales. Here data is right skewed\n",
    "    Columns where median is greater than mean is TV. Tv is left skewed."
   ]
  },
  {
   "cell_type": "markdown",
   "id": "600aa31a",
   "metadata": {},
   "source": [
    "# Visualization of Data"
   ]
  },
  {
   "cell_type": "markdown",
   "id": "9f3e9643",
   "metadata": {},
   "source": [
    "# Checking Outliers"
   ]
  },
  {
   "cell_type": "code",
   "execution_count": 12,
   "id": "704b2ba7",
   "metadata": {},
   "outputs": [
    {
     "data": {
      "text/plain": [
       "<function matplotlib.pyplot.show(close=None, block=None)>"
      ]
     },
     "execution_count": 12,
     "metadata": {},
     "output_type": "execute_result"
    },
    {
     "data": {
      "image/png": "[encoded data removed]",
      "text/plain": [
       "<Figure size 720x864 with 4 Axes>"
      ]
     },
     "metadata": {
      "needs_background": "light"
     },
     "output_type": "display_data"
    }
   ],
   "source": [
    "#checking for the outliers\n",
    "plt.figure(figsize=(10,12))\n",
    "plt.subplot(4,1,1)\n",
    "sns.boxplot(x= df.TV,color='red')\n",
    "\n",
    "plt.subplot(4,1,2)\n",
    "sns.boxplot(x= df.radio,color='blue')\n",
    "\n",
    "plt.subplot(4,1,3)\n",
    "sns.boxplot(x= df.newspaper,color='green')\n",
    "\n",
    "plt.subplot(4,1,4)\n",
    "sns.boxplot(x= df.sales,color='yellow')\n",
    "\n",
    "plt.show"
   ]
  },
  {
   "cell_type": "markdown",
   "id": "2549d43b",
   "metadata": {},
   "source": [
    "Obs :\n",
    "    Newspaper column has outliers"
   ]
  },
  {
   "cell_type": "markdown",
   "id": "a26d4eb3",
   "metadata": {},
   "source": [
    "# Pairplot"
   ]
  },
  {
   "cell_type": "code",
   "execution_count": 13,
   "id": "5fd582f5",
   "metadata": {},
   "outputs": [
    {
     "data": {
      "text/plain": [
       "<seaborn.axisgrid.PairGrid at 0x20b7dd5ff10>"
      ]
     },
     "execution_count": 13,
     "metadata": {},
     "output_type": "execute_result"
    },
    {
     "data": {
      "image/png": "[encoded data removed]",
      "text/plain": [
       "<Figure size 720x720 with 20 Axes>"
      ]
     },
     "metadata": {
      "needs_background": "light"
     },
     "output_type": "display_data"
    }
   ],
   "source": [
    "sns.pairplot(df)"
   ]
  },
  {
   "cell_type": "raw",
   "id": "f310b32c",
   "metadata": {},
   "source": [
    "Obs:\n",
    "    sales have increased with TV channel\n",
    "    sales are more in TV than radio than newspaper"
   ]
  },
  {
   "cell_type": "code",
   "execution_count": 14,
   "id": "705c13c4",
   "metadata": {},
   "outputs": [
    {
     "data": {
      "image/png": "[encoded data removed]",
      "text/plain": [
       "<Figure size 864x576 with 4 Axes>"
      ]
     },
     "metadata": {
      "needs_background": "light"
     },
     "output_type": "display_data"
    }
   ],
   "source": [
    "df.hist( bins = 12, figsize = (12,8),color='y')\n",
    "plt.show()"
   ]
  },
  {
   "cell_type": "markdown",
   "id": "94c90e9d",
   "metadata": {},
   "source": [
    "Obs:Spending is more on TV and Radio than on Newspaper"
   ]
  },
  {
   "cell_type": "code",
   "execution_count": 15,
   "id": "e6c11d6a",
   "metadata": {},
   "outputs": [
    {
     "data": {
      "image/png": "[encoded data removed]",
      "text/plain": [
       "<Figure size 432x288 with 1 Axes>"
      ]
     },
     "metadata": {
      "needs_background": "light"
     },
     "output_type": "display_data"
    },
    {
     "data": {
      "image/png": "[encoded data removed]",
      "text/plain": [
       "<Figure size 432x288 with 1 Axes>"
      ]
     },
     "metadata": {
      "needs_background": "light"
     },
     "output_type": "display_data"
    },
    {
     "data": {
      "image/png": "[encoded data removed]",
      "text/plain": [
       "<Figure size 432x288 with 1 Axes>"
      ]
     },
     "metadata": {
      "needs_background": "light"
     },
     "output_type": "display_data"
    },
    {
     "data": {
      "image/png": "[encoded data removed]",
      "text/plain": [
       "<Figure size 432x288 with 1 Axes>"
      ]
     },
     "metadata": {
      "needs_background": "light"
     },
     "output_type": "display_data"
    }
   ],
   "source": [
    "for i in df:\n",
    "    plt.scatter(x=df[i], y=df['sales'], c='orange')\n",
    "    plt.show()   # plotting pair plots separately of columns vs target to understand better"
   ]
  },
  {
   "cell_type": "markdown",
   "id": "a3dc6696",
   "metadata": {},
   "source": [
    "Obs: As we can clearly see Tv has more impact on sales followed by radio then by newspaper"
   ]
  },
  {
   "cell_type": "code",
   "execution_count": 16,
   "id": "ef6d0763",
   "metadata": {},
   "outputs": [
    {
     "data": {
      "text/plain": [
       "<AxesSubplot:xlabel='TV', ylabel='sales'>"
      ]
     },
     "execution_count": 16,
     "metadata": {},
     "output_type": "execute_result"
    },
    {
     "data": {
      "image/png": "[encoded data removed]",
      "text/plain": [
       "<Figure size 432x288 with 1 Axes>"
      ]
     },
     "metadata": {
      "needs_background": "light"
     },
     "output_type": "display_data"
    }
   ],
   "source": [
    "sns.regplot(x='TV',y='sales',data=df)"
   ]
  },
  {
   "cell_type": "markdown",
   "id": "85d6eeff",
   "metadata": {},
   "source": [
    "Obs:\n",
    "    Tv and sales have positive linear relationship"
   ]
  },
  {
   "cell_type": "code",
   "execution_count": 17,
   "id": "e4bba1e0",
   "metadata": {},
   "outputs": [
    {
     "data": {
      "text/plain": [
       "<AxesSubplot:xlabel='radio', ylabel='sales'>"
      ]
     },
     "execution_count": 17,
     "metadata": {},
     "output_type": "execute_result"
    },
    {
     "data": {
      "image/png": "[encoded data removed]",
      "text/plain": [
       "<Figure size 432x288 with 1 Axes>"
      ]
     },
     "metadata": {
      "needs_background": "light"
     },
     "output_type": "display_data"
    }
   ],
   "source": [
    "sns.regplot(x='radio',y='sales',data=df)"
   ]
  },
  {
   "cell_type": "markdown",
   "id": "e15ea8fe",
   "metadata": {},
   "source": [
    "Obs: Radio and sale have linear relationship"
   ]
  },
  {
   "cell_type": "code",
   "execution_count": 18,
   "id": "68ff6e61",
   "metadata": {},
   "outputs": [
    {
     "data": {
      "text/plain": [
       "<AxesSubplot:xlabel='newspaper', ylabel='sales'>"
      ]
     },
     "execution_count": 18,
     "metadata": {},
     "output_type": "execute_result"
    },
    {
     "data": {
      "image/png": "[encoded data removed]",
      "text/plain": [
       "<Figure size 432x288 with 1 Axes>"
      ]
     },
     "metadata": {
      "needs_background": "light"
     },
     "output_type": "display_data"
    }
   ],
   "source": [
    "sns.regplot(x='newspaper',y='sales',data=df)"
   ]
  },
  {
   "cell_type": "markdown",
   "id": "27a7b633",
   "metadata": {},
   "source": [
    "Obs: Newspaper and sales have less considerable relationship"
   ]
  },
  {
   "cell_type": "markdown",
   "id": "aa88b8e9",
   "metadata": {},
   "source": [
    "# Checking Skewness"
   ]
  },
  {
   "cell_type": "code",
   "execution_count": 19,
   "id": "38e89b36",
   "metadata": {},
   "outputs": [
    {
     "name": "stdout",
     "output_type": "stream",
     "text": [
      "TV = -0.06932836662244649\n"
     ]
    },
    {
     "data": {
      "image/png": "[encoded data removed]",
      "text/plain": [
       "<Figure size 432x288 with 1 Axes>"
      ]
     },
     "metadata": {
      "needs_background": "light"
     },
     "output_type": "display_data"
    },
    {
     "name": "stdout",
     "output_type": "stream",
     "text": [
      "radio = 0.0934668451108453\n"
     ]
    },
    {
     "data": {
      "image/png": "[encoded data removed]",
      "text/plain": [
       "<Figure size 432x288 with 1 Axes>"
      ]
     },
     "metadata": {
      "needs_background": "light"
     },
     "output_type": "display_data"
    },
    {
     "name": "stdout",
     "output_type": "stream",
     "text": [
      "newspaper = 0.8879959753085498\n"
     ]
    },
    {
     "data": {
      "image/png": "[encoded data removed]",
      "text/plain": [
       "<Figure size 432x288 with 1 Axes>"
      ]
     },
     "metadata": {
      "needs_background": "light"
     },
     "output_type": "display_data"
    },
    {
     "name": "stdout",
     "output_type": "stream",
     "text": [
      "sales = 0.4045082487061191\n"
     ]
    },
    {
     "data": {
      "image/png": "[encoded data removed]",
      "text/plain": [
       "<Figure size 432x288 with 1 Axes>"
      ]
     },
     "metadata": {
      "needs_background": "light"
     },
     "output_type": "display_data"
    }
   ],
   "source": [
    "from scipy.stats import skew\n",
    "for i in df:\n",
    "    print(i, \"=\", skew(df[i]))\n",
    "    sns.distplot(df[i])\n",
    "    plt.show()"
   ]
  },
  {
   "cell_type": "markdown",
   "id": "cf4bcd30",
   "metadata": {},
   "source": [
    "Obs: Tv and radio have normalized distribution whereas Newspaper is right skewed"
   ]
  },
  {
   "cell_type": "markdown",
   "id": "5cc9131c",
   "metadata": {},
   "source": [
    "# Checking Correlation:\n",
    "    "
   ]
  },
  {
   "cell_type": "code",
   "execution_count": 20,
   "id": "2a7063a9",
   "metadata": {},
   "outputs": [
    {
     "data": {
      "image/png": "[encoded data removed]",
      "text/plain": [
       "<Figure size 720x360 with 2 Axes>"
      ]
     },
     "metadata": {
      "needs_background": "light"
     },
     "output_type": "display_data"
    }
   ],
   "source": [
    "plt.figure(figsize=(10,5))\n",
    "sns.heatmap(df.corr(), annot=True, linewidth=0.5, linecolor= \"green\")\n",
    "plt.show()"
   ]
  },
  {
   "cell_type": "markdown",
   "id": "d492c4f4",
   "metadata": {},
   "source": [
    "Obs:\n",
    "    Tv and radio are highly correlated with sales and newspaper is slightly less correlated with sales."
   ]
  },
  {
   "cell_type": "markdown",
   "id": "0994e037",
   "metadata": {},
   "source": [
    "# Checking Multicollinearity"
   ]
  },
  {
   "cell_type": "code",
   "execution_count": 21,
   "id": "64509f96",
   "metadata": {},
   "outputs": [
    {
     "data": {
      "text/html": [
       "<div>\n",
       "<style scoped>\n",
       "    .dataframe tbody tr th:only-of-type {\n",
       "        vertical-align: middle;\n",
       "    }\n",
       "\n",
       "    .dataframe tbody tr th {\n",
       "        vertical-align: top;\n",
       "    }\n",
       "\n",
       "    .dataframe thead th {\n",
       "        text-align: right;\n",
       "    }\n",
       "</style>\n",
       "<table border=\"1\" class=\"dataframe\">\n",
       "  <thead>\n",
       "    <tr style=\"text-align: right;\">\n",
       "      <th></th>\n",
       "      <th>TV</th>\n",
       "      <th>radio</th>\n",
       "      <th>newspaper</th>\n",
       "    </tr>\n",
       "  </thead>\n",
       "  <tbody>\n",
       "    <tr>\n",
       "      <th>0</th>\n",
       "      <td>230.1</td>\n",
       "      <td>37.8</td>\n",
       "      <td>69.2</td>\n",
       "    </tr>\n",
       "    <tr>\n",
       "      <th>1</th>\n",
       "      <td>44.5</td>\n",
       "      <td>39.3</td>\n",
       "      <td>45.1</td>\n",
       "    </tr>\n",
       "    <tr>\n",
       "      <th>2</th>\n",
       "      <td>17.2</td>\n",
       "      <td>45.9</td>\n",
       "      <td>69.3</td>\n",
       "    </tr>\n",
       "    <tr>\n",
       "      <th>3</th>\n",
       "      <td>151.5</td>\n",
       "      <td>41.3</td>\n",
       "      <td>58.5</td>\n",
       "    </tr>\n",
       "    <tr>\n",
       "      <th>4</th>\n",
       "      <td>180.8</td>\n",
       "      <td>10.8</td>\n",
       "      <td>58.4</td>\n",
       "    </tr>\n",
       "    <tr>\n",
       "      <th>...</th>\n",
       "      <td>...</td>\n",
       "      <td>...</td>\n",
       "      <td>...</td>\n",
       "    </tr>\n",
       "    <tr>\n",
       "      <th>195</th>\n",
       "      <td>38.2</td>\n",
       "      <td>3.7</td>\n",
       "      <td>13.8</td>\n",
       "    </tr>\n",
       "    <tr>\n",
       "      <th>196</th>\n",
       "      <td>94.2</td>\n",
       "      <td>4.9</td>\n",
       "      <td>8.1</td>\n",
       "    </tr>\n",
       "    <tr>\n",
       "      <th>197</th>\n",
       "      <td>177.0</td>\n",
       "      <td>9.3</td>\n",
       "      <td>6.4</td>\n",
       "    </tr>\n",
       "    <tr>\n",
       "      <th>198</th>\n",
       "      <td>283.6</td>\n",
       "      <td>42.0</td>\n",
       "      <td>66.2</td>\n",
       "    </tr>\n",
       "    <tr>\n",
       "      <th>199</th>\n",
       "      <td>232.1</td>\n",
       "      <td>8.6</td>\n",
       "      <td>8.7</td>\n",
       "    </tr>\n",
       "  </tbody>\n",
       "</table>\n",
       "<p>200 rows × 3 columns</p>\n",
       "</div>"
      ],
      "text/plain": [
       "        TV  radio  newspaper\n",
       "0    230.1   37.8       69.2\n",
       "1     44.5   39.3       45.1\n",
       "2     17.2   45.9       69.3\n",
       "3    151.5   41.3       58.5\n",
       "4    180.8   10.8       58.4\n",
       "..     ...    ...        ...\n",
       "195   38.2    3.7       13.8\n",
       "196   94.2    4.9        8.1\n",
       "197  177.0    9.3        6.4\n",
       "198  283.6   42.0       66.2\n",
       "199  232.1    8.6        8.7\n",
       "\n",
       "[200 rows x 3 columns]"
      ]
     },
     "execution_count": 21,
     "metadata": {},
     "output_type": "execute_result"
    }
   ],
   "source": [
    "x = df.drop('sales',axis=1)\n",
    "x"
   ]
  },
  {
   "cell_type": "code",
   "execution_count": 22,
   "id": "76dc8333",
   "metadata": {},
   "outputs": [],
   "source": [
    "import statsmodels.api as sm\n",
    "from scipy import stats\n",
    "from statsmodels.stats.outliers_influence import variance_inflation_factor"
   ]
  },
  {
   "cell_type": "code",
   "execution_count": 23,
   "id": "f0d10d3f",
   "metadata": {},
   "outputs": [],
   "source": [
    "def calc_vif(x):\n",
    "    vif=pd.DataFrame()\n",
    "    vif['variables']=x.columns\n",
    "    vif[\"VIF FACTOR\"]= [variance_inflation_factor(x.values,i) for i in range(x.shape[1])]\n",
    "    return(vif)"
   ]
  },
  {
   "cell_type": "code",
   "execution_count": 24,
   "id": "52dd8504",
   "metadata": {},
   "outputs": [
    {
     "data": {
      "text/html": [
       "<div>\n",
       "<style scoped>\n",
       "    .dataframe tbody tr th:only-of-type {\n",
       "        vertical-align: middle;\n",
       "    }\n",
       "\n",
       "    .dataframe tbody tr th {\n",
       "        vertical-align: top;\n",
       "    }\n",
       "\n",
       "    .dataframe thead th {\n",
       "        text-align: right;\n",
       "    }\n",
       "</style>\n",
       "<table border=\"1\" class=\"dataframe\">\n",
       "  <thead>\n",
       "    <tr style=\"text-align: right;\">\n",
       "      <th></th>\n",
       "      <th>variables</th>\n",
       "      <th>VIF FACTOR</th>\n",
       "    </tr>\n",
       "  </thead>\n",
       "  <tbody>\n",
       "    <tr>\n",
       "      <th>0</th>\n",
       "      <td>TV</td>\n",
       "      <td>2.486772</td>\n",
       "    </tr>\n",
       "    <tr>\n",
       "      <th>1</th>\n",
       "      <td>radio</td>\n",
       "      <td>3.285462</td>\n",
       "    </tr>\n",
       "    <tr>\n",
       "      <th>2</th>\n",
       "      <td>newspaper</td>\n",
       "      <td>3.055245</td>\n",
       "    </tr>\n",
       "  </tbody>\n",
       "</table>\n",
       "</div>"
      ],
      "text/plain": [
       "   variables  VIF FACTOR\n",
       "0         TV    2.486772\n",
       "1      radio    3.285462\n",
       "2  newspaper    3.055245"
      ]
     },
     "execution_count": 24,
     "metadata": {},
     "output_type": "execute_result"
    }
   ],
   "source": [
    "calc_vif(x)"
   ]
  },
  {
   "cell_type": "markdown",
   "id": "42bccdf4",
   "metadata": {},
   "source": [
    "Obs: Multicollinearity found ok. Vif factor is below 10"
   ]
  },
  {
   "cell_type": "markdown",
   "id": "38aad809",
   "metadata": {},
   "source": [
    "# Removing Outliers"
   ]
  },
  {
   "cell_type": "code",
   "execution_count": 25,
   "id": "ff8ed5cc",
   "metadata": {},
   "outputs": [
    {
     "data": {
      "text/plain": [
       "array([[9.69852266e-01, 9.81522472e-01, 1.77894547e+00, 1.55205313e+00],\n",
       "       [1.19737623e+00, 1.08280781e+00, 6.69578760e-01, 6.96046111e-01],\n",
       "       [1.51615499e+00, 1.52846331e+00, 1.78354865e+00, 9.07405869e-01],\n",
       "       [5.20496822e-02, 1.21785493e+00, 1.28640506e+00, 8.60330287e-01],\n",
       "       [3.94182198e-01, 8.41613655e-01, 1.28180188e+00, 2.15683025e-01],\n",
       "       [1.61540845e+00, 1.73103399e+00, 2.04592999e+00, 1.31091086e+00],\n",
       "       [1.04557682e+00, 6.43904671e-01, 3.24708413e-01, 4.27042783e-01],\n",
       "       [3.13436589e-01, 2.47406325e-01, 8.72486994e-01, 1.58039455e-01],\n",
       "       [1.61657614e+00, 1.42906863e+00, 1.36042422e+00, 1.77205942e+00],\n",
       "       [6.16042873e-01, 1.39530685e+00, 4.30581584e-01, 6.57617064e-01],\n",
       "       [9.45155670e-01, 1.17923146e+00, 2.92486143e-01, 1.04190753e+00],\n",
       "       [7.90028350e-01, 4.96973404e-02, 1.22232878e+00, 6.48970529e-01],\n",
       "       [1.43908760e+00, 7.99208859e-01, 1.62704048e+00, 9.26620392e-01],\n",
       "       [5.78501712e-01, 1.05768905e+00, 1.07502697e+00, 8.30547775e-01],\n",
       "       [6.66253447e-01, 6.50657027e-01, 7.11007392e-01, 9.56402904e-01],\n",
       "       [5.64664612e-01, 1.65000572e+00, 1.02862691e+00, 1.60969670e+00],\n",
       "       [9.25304978e-01, 9.00494200e-01, 3.84117072e+00, 2.92541119e-01],\n",
       "       [1.56887609e+00, 1.10306488e+00, 1.16211917e+00, 1.99398717e+00],\n",
       "       [9.08957349e-01, 1.86635121e-01, 5.64073843e-01, 5.23115400e-01],\n",
       "       [3.00679600e-03, 4.29449843e-02, 5.27248393e-01, 1.10963873e-01],\n",
       "       [8.33232798e-01, 2.99534513e-01, 1.05164281e+00, 7.64257669e-01],\n",
       "       [1.05509347e+00, 1.22649795e+00, 3.24708413e-01, 2.92541119e-01],\n",
       "       [1.56286250e+00, 4.97243498e-01, 8.76721921e-01, 1.61834324e+00],\n",
       "       [9.48833887e-01, 4.29719938e-01, 2.00422516e-01, 2.83894584e-01],\n",
       "       [9.89527805e-01, 7.20071247e-01, 5.64073843e-01, 8.30547775e-01],\n",
       "       [1.35285385e+00, 1.33453565e+00, 5.08835667e-01, 3.88613736e-01],\n",
       "       [4.83714657e-02, 4.07572210e-01, 8.26455181e-01, 1.87821967e-01],\n",
       "       [1.08662104e+00, 4.43224650e-01, 3.52327501e-01, 3.60752677e-01],\n",
       "       [1.18820988e+00, 2.59020377e-01, 3.52327501e-01, 9.37188380e-01],\n",
       "       [8.92609721e-01, 4.90491142e-01, 4.71641962e-01, 6.76831588e-01],\n",
       "       [1.70316018e+00, 3.40048650e-01, 5.82118314e-01, 1.41755147e+00],\n",
       "       [3.98677796e-01, 3.95958157e-01, 3.70371972e-01, 4.07828260e-01],\n",
       "       [5.82004775e-01, 1.46958277e+00, 2.55016247e-02, 8.49762299e-01],\n",
       "       [1.38438142e+00, 2.20396901e-01, 1.39264649e+00, 6.48970529e-01],\n",
       "       [5.99520091e-01, 1.47633512e+00, 1.06582061e+00, 8.68976822e-01],\n",
       "       [1.67747105e+00, 1.29402151e+00, 1.01518562e+00, 2.34897549e-01],\n",
       "       [1.39956136e+00, 1.38666383e+00, 1.17629696e+00, 2.18613240e+00],\n",
       "       [8.44734522e-01, 1.76479577e+00, 6.97197848e-01, 1.30178396e-01],\n",
       "       [1.21372386e+00, 2.32010953e-01, 2.09260624e-01, 7.53689682e-01],\n",
       "       [9.45330823e-01, 9.74770116e-01, 6.65620024e-02, 1.43676599e+00],\n",
       "       [6.47570443e-01, 6.50927121e-02, 4.81492770e-02, 4.95254341e-01],\n",
       "       [3.49810063e-01, 6.84418807e-01, 3.74975153e-01, 5.91326959e-01],\n",
       "       [1.71133400e+00, 2.99534513e-01, 1.32359877e+00, 1.28304980e+00],\n",
       "       [6.98948705e-01, 1.00367020e+00, 1.91216154e-01, 2.15683025e-01],\n",
       "       [1.42390765e+00, 1.64487393e-01, 5.86721496e-01, 1.06112206e+00],\n",
       "       [3.27623995e-01, 5.15880000e-02, 4.35460956e-02, 1.68607443e-01],\n",
       "       [6.69581357e-01, 9.02384859e-01, 2.36879713e-01, 6.57617064e-01],\n",
       "       [1.08428567e+00, 1.23135965e+00, 5.54867481e-01, 1.76341289e+00],\n",
       "       [9.35989321e-01, 5.03995854e-01, 8.90531465e-01, 1.49392920e-01],\n",
       "       [9.35814168e-01, 7.80842451e-01, 2.87514708e-01, 8.30547775e-01],\n",
       "       [6.16042873e-01, 1.36154507e+00, 1.86244718e-01, 5.03900877e-01],\n",
       "       [5.44638766e-01, 9.22641928e-01, 1.24074150e+00, 6.38402541e-01],\n",
       "       [8.09879042e-01, 1.24486436e+00, 4.16403786e-01, 1.64812575e+00],\n",
       "       [4.15200577e-01, 1.54872038e+00, 1.29561142e+00, 1.37912242e+00],\n",
       "       [1.35051848e+00, 3.73810430e-01, 6.74550196e-01, 1.18697718e+00],\n",
       "       [6.05533683e-01, 1.76479577e+00, 1.35545278e+00, 1.85948550e+00],\n",
       "       [1.63175608e+00, 3.26543937e-01, 4.99261050e-01, 1.63755776e+00],\n",
       "       [1.26606546e-01, 2.74415749e-01, 6.42327927e-01, 1.58039455e-01],\n",
       "       [7.44488528e-01, 1.77830048e+00, 3.28943340e-01, 1.87870003e+00],\n",
       "       [7.43320840e-01, 4.21076922e-01, 9.78360166e-01, 8.41115763e-01],\n",
       "       [1.09228433e+00, 1.43582099e+00, 4.21375221e-01, 1.13798015e+00],\n",
       "       [1.33417085e+00, 1.31238792e+00, 1.11148417e+00, 1.95555812e+00],\n",
       "       [1.07727954e+00, 5.24252922e-01, 1.49787521e-01, 3.22323631e-01],\n",
       "       [5.17781948e-01, 4.27829278e-01, 1.01978880e+00, 4.32326777e-03],\n",
       "       [1.86158622e-01, 1.31914027e+00, 7.61366196e-02, 7.64257669e-01],\n",
       "       [9.11292725e-01, 9.42898996e-01, 1.36502740e+00, 9.07405869e-01],\n",
       "       [1.34917564e+00, 9.02114765e-02, 1.30518604e+00, 8.68976822e-01],\n",
       "       [9.04082253e-02, 5.91776482e-01, 9.36931533e-01, 1.19610408e-01],\n",
       "       [1.05509347e+00, 2.86029801e-01, 9.00106083e-01, 9.37188380e-01],\n",
       "       [8.14549794e-01, 1.39341619e+00, 1.54390703e-01, 1.59048218e+00],\n",
       "       [6.07869059e-01, 4.95352838e-01, 3.74975153e-01, 8.21901240e-01],\n",
       "       [4.34876116e-01, 6.05281194e-01, 5.27524584e-02, 3.11755643e-01],\n",
       "       [1.40405696e+00, 6.57409383e-01, 5.18042030e-01, 1.00347849e+00],\n",
       "       [2.06009314e-01, 1.18598381e+00, 3.43397329e-02, 5.80758971e-01],\n",
       "       [7.74848409e-01, 9.02114765e-02, 8.03439274e-01, 5.72112435e-01],\n",
       "       [1.51965805e+00, 1.37991148e+00, 2.70878810e+00, 1.02269301e+00],\n",
       "       [1.39588315e+00, 1.46283041e+00, 4.53597491e-01, 1.36855443e+00],\n",
       "       [3.09933525e-01, 3.53553362e-01, 7.52804279e-01, 3.41057791e-02],\n",
       "       [1.65394214e+00, 4.48086346e-01, 9.73756984e-01, 1.67598681e+00],\n",
       "       [3.62479475e-01, 1.05093669e+00, 3.43121138e-01, 5.80758971e-01],\n",
       "       [8.24883830e-01, 2.32010953e-01, 3.79946589e-01, 4.27042783e-01],\n",
       "       [1.08311798e+00, 1.29402151e+00, 2.92117889e-01, 3.30970166e-01],\n",
       "       [8.37728396e-01, 2.00139833e-01, 8.95779092e-02, 5.23115400e-01],\n",
       "       [9.18298852e-01, 1.43393033e+00, 2.32276531e-01, 8.11813615e-02],\n",
       "       [7.76016097e-01, 1.33264499e+00, 1.49419267e-01, 1.47519504e+00],\n",
       "       [5.38975481e-01, 3.28434597e-01, 1.61783412e+00, 2.26251013e-01],\n",
       "       [8.26051518e-01, 2.86029801e-01, 6.69947015e-01, 3.88613736e-01],\n",
       "       [4.24366926e-01, 1.17058844e+00, 1.50275459e+00, 3.79967201e-01],\n",
       "       [6.85928986e-01, 1.50982681e-01, 1.97227908e+00, 2.15683025e-01],\n",
       "       [4.34876116e-01, 1.65675807e+00, 9.59579186e-01, 5.14468865e-01],\n",
       "       [1.48792614e-01, 1.24000266e+00, 9.78360166e-01, 5.42329924e-01],\n",
       "       [1.38303858e+00, 1.46958277e+00, 1.12593816e-01, 1.29169634e+00],\n",
       "       [8.25058983e-01, 6.91171163e-01, 1.30942097e+00, 1.03326100e+00],\n",
       "       [1.21273132e+00, 8.93741844e-01, 1.92164409e+00, 1.57126765e+00],\n",
       "       [4.62900623e-01, 6.25538262e-01, 9.04709264e-01, 4.84686354e-01],\n",
       "       [1.89836839e-01, 5.62876398e-01, 1.02862691e+00, 5.52897912e-01],\n",
       "       [5.90353742e-01, 1.33453565e+00, 1.13486833e+00, 4.46257307e-01],\n",
       "       [4.42057396e-01, 1.52873340e-01, 3.93756133e-01, 2.83894584e-01],\n",
       "       [1.66579418e+00, 1.28537849e+00, 9.50372823e-01, 2.18613240e+00],\n",
       "       [1.38283424e-01, 1.24486436e+00, 7.06404211e-01, 6.10541482e-01],\n",
       "       [8.79940308e-01, 1.28051680e+00, 8.85928284e-01, 4.46257307e-01],\n",
       "       [1.74402926e+00, 8.80237132e-01, 3.23815396e+00, 1.87870003e+00],\n",
       "       [1.55486384e+00, 8.88880147e-01, 4.21375221e-01, 1.49392920e-01],\n",
       "       [4.77088029e-01, 4.09462869e-01, 5.82486569e-01, 1.30178396e-01],\n",
       "       [1.06443498e+00, 7.45190011e-01, 1.16248742e+00, 1.28304980e+00],\n",
       "       [1.06755854e-01, 1.56222509e+00, 1.30942097e+00, 9.94831951e-01],\n",
       "       [1.42507534e+00, 8.28108943e-01, 3.93111688e-02, 1.31091086e+00],\n",
       "       [6.61407543e-01, 1.55061104e+00, 3.38517957e-01, 1.02269301e+00],\n",
       "       [1.56403019e+00, 1.54385868e+00, 2.28041604e-01, 1.67598681e+00],\n",
       "       [1.26527727e+00, 2.45515665e-01, 1.15328106e+00, 1.11011909e+00],\n",
       "       [9.19641692e-01, 1.01717491e+00, 1.19434143e+00, 1.19610408e-01],\n",
       "       [1.10530405e+00, 9.95027184e-01, 3.38517957e-01, 1.49440956e+00],\n",
       "       [3.34630122e-01, 5.31005278e-01, 1.29597968e+00, 1.48912557e-02],\n",
       "       [7.30476274e-01, 1.79882765e-01, 9.13915627e-01, 3.60752677e-01],\n",
       "       [8.03865450e-01, 1.58923451e+00, 1.81641536e-01, 1.10963873e-01],\n",
       "       [8.40063771e-01, 7.92456503e-01, 1.01942054e+00, 2.73326596e-01],\n",
       "       [9.15759131e-02, 6.05281194e-01, 2.28041604e-01, 3.50184689e-01],\n",
       "       [8.24883830e-01, 1.51684926e+00, 7.25185191e-01, 8.88191346e-01],\n",
       "       [2.49213762e-01, 9.20751268e-01, 2.23926360e+00, 3.60752677e-01],\n",
       "       [1.49046586e+00, 4.90491142e-01, 3.79946589e-01, 1.42619800e+00],\n",
       "       [6.70544700e-02, 2.38763309e-01, 7.20213755e-01, 2.83894584e-01],\n",
       "       [1.49747198e+00, 1.05606848e-01, 9.13547372e-01, 1.34933991e+00],\n",
       "       [8.98623313e-01, 1.40881156e+00, 6.88359740e-01, 4.65471830e-01],\n",
       "       [2.79573643e-01, 7.65447079e-01, 8.35661544e-01, 2.26251013e-01],\n",
       "       [9.62846140e-01, 6.10142891e-01, 2.00910454e+00, 1.09090457e+00],\n",
       "       [6.98773552e-01, 7.74090095e-01, 2.14232060e-01, 6.57617064e-01],\n",
       "       [1.62591764e+00, 1.05579839e+00, 9.22753735e-01, 1.42619800e+00],\n",
       "       [7.80511695e-01, 1.57086811e+00, 9.82963347e-01, 1.00347849e+00],\n",
       "       [8.55418865e-01, 1.73778635e+00, 1.25915423e+00, 2.05163074e+00],\n",
       "       [1.02105537e+00, 7.60585383e-01, 5.77515133e-01, 8.30547775e-01],\n",
       "       [1.70882347e+00, 1.10306488e+00, 1.00597925e+00, 2.38692417e+00],\n",
       "       [1.37971067e+00, 1.37504978e+00, 5.72911952e-01, 2.54112072e-01],\n",
       "       [1.61891151e+00, 2.65772733e-01, 1.30978922e+00, 1.59912871e+00],\n",
       "       [8.49580427e-01, 6.91171163e-01, 6.69578760e-01, 1.07169004e+00],\n",
       "       [1.28612050e+00, 1.03554132e+00, 1.61323094e+00, 6.19188018e-01],\n",
       "       [1.15300409e+00, 1.60273923e+00, 1.01518562e+00, 4.65471830e-01],\n",
       "       [1.41806922e+00, 1.06255074e+00, 9.78360166e-01, 8.68976822e-01],\n",
       "       [1.47896413e+00, 3.80562786e-01, 1.34164324e+00, 1.30226433e+00],\n",
       "       [1.21489154e+00, 1.77992105e-01, 4.62803854e-01, 8.49762299e-01],\n",
       "       [4.42057396e-01, 1.39341619e+00, 1.32820195e+00, 1.28304980e+00],\n",
       "       [8.59914463e-01, 4.22967582e-01, 8.12645637e-01, 5.99973494e-01],\n",
       "       [5.44813920e-01, 8.19465927e-01, 2.07354907e+00, 9.94831951e-01],\n",
       "       [8.57754241e-01, 6.70914095e-01, 3.38149702e-01, 1.16776266e+00],\n",
       "       [4.95595880e-01, 1.18598381e+00, 1.77038355e-01, 6.96046111e-01],\n",
       "       [5.93681653e-01, 5.71519414e-01, 3.84181516e-01, 5.03900877e-01],\n",
       "       [7.87313476e-02, 1.44257334e+00, 9.92169710e-01, 7.15260635e-01],\n",
       "       [1.08662104e+00, 1.07794612e+00, 1.00597925e+00, 1.58039455e-01],\n",
       "       [1.12281936e+00, 1.73778635e+00, 6.32753309e-01, 2.18613240e+00],\n",
       "       [1.27327593e+00, 1.15033137e+00, 8.58677450e-01, 5.99973494e-01],\n",
       "       [1.19504085e+00, 1.71239749e-01, 4.58200672e-01, 7.53689682e-01],\n",
       "       [1.56070228e+00, 6.32290618e-01, 2.96721070e-01, 3.99181724e-01],\n",
       "       [3.04095087e-01, 1.00367020e+00, 8.35293289e-01, 4.65471830e-01],\n",
       "       [5.90353742e-01, 2.43084817e-03, 7.52804279e-01, 4.95254341e-01],\n",
       "       [2.83251860e-01, 1.10981724e+00, 3.28943340e-01, 9.56402904e-01],\n",
       "       [4.75920341e-01, 1.46120984e-01, 9.69153803e-01, 3.03109107e-01],\n",
       "       [1.66912209e+00, 7.87594807e-01, 1.14407469e+00, 2.07949180e+00],\n",
       "       [6.20538471e-01, 1.36640677e+00, 9.18150553e-01, 2.45465537e-01],\n",
       "       [3.21989902e-02, 1.48308748e+00, 2.87882962e-01, 7.53689682e-01],\n",
       "       [1.58037782e+00, 9.20751268e-01, 6.74181942e-01, 1.29169634e+00],\n",
       "       [1.79152496e-01, 3.28434597e-01, 1.86244718e-01, 2.15683025e-01],\n",
       "       [2.97264113e-01, 3.48691665e-01, 6.72064478e-03, 7.25348259e-02],\n",
       "       [7.16288868e-01, 8.46475352e-01, 8.62912377e-01, 1.38824932e-01],\n",
       "       [4.82926468e-01, 3.48691665e-01, 2.28041604e-01, 1.68607443e-01],\n",
       "       [1.92172214e-01, 9.13998912e-01, 1.06582061e+00, 7.64257669e-01],\n",
       "       [3.48467222e-01, 5.78271770e-01, 1.15788424e+00, 4.07828260e-01],\n",
       "       [1.02123053e+00, 1.34128800e+00, 2.49704176e+00, 4.07828260e-01],\n",
       "       [1.50798117e+00, 9.68017760e-01, 4.12168859e-01, 1.15719467e+00],\n",
       "       [6.97781017e-01, 1.21974559e+00, 5.13438849e-01, 3.50184689e-01],\n",
       "       [7.98202165e-01, 2.26879163e-02, 1.24497643e+00, 5.91326959e-01],\n",
       "       [1.60273904e+00, 8.55118367e-01, 1.11185242e+00, 1.87821967e-01],\n",
       "       [1.13315340e+00, 7.87594807e-01, 5.59470662e-01, 1.08033658e+00],\n",
       "       [2.03849092e-01, 1.59625696e-01, 7.75451931e-01, 9.17493494e-02],\n",
       "       [1.48813048e+00, 2.13644545e-01, 6.23915201e-01, 1.23405277e+00],\n",
       "       [2.49388915e-01, 1.09145083e+00, 8.17248818e-01, 4.46257307e-01],\n",
       "       [8.79940308e-01, 1.34128800e+00, 8.03439274e-01, 4.84686354e-01],\n",
       "       [1.51633014e+00, 1.73103399e+00, 5.17673775e-01, 2.49356478e+00],\n",
       "       [1.18353913e+00, 4.68343414e-01, 4.72010216e-01, 1.18697718e+00],\n",
       "       [2.70407294e-01, 1.04418434e+00, 2.13863806e-01, 4.46257307e-01],\n",
       "       [1.51399477e+00, 1.41556392e+00, 3.15502050e-01, 4.27042783e-01],\n",
       "       [2.16693657e-01, 8.95632503e-01, 5.96296113e-01, 2.73326596e-01],\n",
       "       [1.11601758e-01, 1.39530685e+00, 1.02439198e+00, 6.76831588e-01],\n",
       "       [8.34400486e-01, 1.20624088e+00, 1.45184340e-01, 3.50184689e-01],\n",
       "       [1.06075676e+00, 1.18598381e+00, 3.93111688e-02, 1.02269301e+00],\n",
       "       [1.64127273e+00, 1.33264499e+00, 1.89862818e+00, 2.33984859e+00],\n",
       "       [1.24659427e+00, 1.32616272e-01, 2.55016247e-02, 6.87399576e-01],\n",
       "       [6.76762637e-01, 1.47444446e+00, 5.04232486e-01, 1.64812575e+00],\n",
       "       [8.80728498e-02, 1.42906863e+00, 1.82009791e-01, 7.15260635e-01],\n",
       "       [5.14454038e-01, 3.67058074e-01, 5.68677025e-01, 6.29756005e-01],\n",
       "       [1.62258973e+00, 6.32290618e-01, 1.23613832e+00, 3.60752677e-01],\n",
       "       [1.49863967e+00, 7.53833027e-01, 3.29311594e-01, 1.40698348e+00],\n",
       "       [1.25576062e+00, 1.20435022e+00, 1.13947151e+00, 6.19188018e-01],\n",
       "       [8.35393020e-01, 8.41613655e-01, 1.13026515e+00, 7.92118728e-01],\n",
       "       [1.51615499e+00, 1.29402151e+00, 4.81492770e-02, 1.56069967e+00],\n",
       "       [2.30705910e-01, 1.26512143e+00, 1.24074150e+00, 1.07169004e+00],\n",
       "       [3.10313024e-02, 8.32970639e-01, 1.13026515e+00, 6.29756005e-01],\n",
       "       [1.27094056e+00, 1.32103093e+00, 7.71217005e-01, 1.23405277e+00],\n",
       "       [6.17035408e-01, 1.24000266e+00, 1.03359834e+00, 8.30547775e-01],\n",
       "       [3.49810063e-01, 9.42898996e-01, 1.11185242e+00, 2.34897549e-01],\n",
       "       [1.59456522e+00, 1.26512143e+00, 1.64085003e+00, 2.20534693e+00],\n",
       "       [9.93206022e-01, 9.90165488e-01, 1.00597925e+00, 1.19610408e-01]])"
      ]
     },
     "execution_count": 25,
     "metadata": {},
     "output_type": "execute_result"
    }
   ],
   "source": [
    "from scipy.stats import zscore\n",
    "z= np.array(abs(zscore(df)))\n",
    "z"
   ]
  },
  {
   "cell_type": "code",
   "execution_count": 26,
   "id": "ec350f00",
   "metadata": {},
   "outputs": [
    {
     "name": "stdout",
     "output_type": "stream",
     "text": [
      "(array([ 16, 101], dtype=int64), array([2, 2], dtype=int64))\n"
     ]
    }
   ],
   "source": [
    "threshold= 3\n",
    "print(np.where(z>3))"
   ]
  },
  {
   "cell_type": "code",
   "execution_count": 27,
   "id": "6fa2394f",
   "metadata": {},
   "outputs": [
    {
     "data": {
      "text/plain": [
       "3.8411707150992718"
      ]
     },
     "execution_count": 27,
     "metadata": {},
     "output_type": "execute_result"
    }
   ],
   "source": [
    "z[16][2]"
   ]
  },
  {
   "cell_type": "code",
   "execution_count": 28,
   "id": "3c2964dc",
   "metadata": {},
   "outputs": [
    {
     "data": {
      "text/plain": [
       "3.238153957342154"
      ]
     },
     "execution_count": 28,
     "metadata": {},
     "output_type": "execute_result"
    }
   ],
   "source": [
    "z[101][2]"
   ]
  },
  {
   "cell_type": "code",
   "execution_count": 29,
   "id": "7e47dcb0",
   "metadata": {},
   "outputs": [
    {
     "data": {
      "text/plain": [
       "TV            67.8\n",
       "radio         36.6\n",
       "newspaper    114.0\n",
       "sales         12.5\n",
       "Name: 16, dtype: float64"
      ]
     },
     "execution_count": 29,
     "metadata": {},
     "output_type": "execute_result"
    }
   ],
   "source": [
    "df.iloc[16]"
   ]
  },
  {
   "cell_type": "code",
   "execution_count": 30,
   "id": "653af808",
   "metadata": {},
   "outputs": [
    {
     "data": {
      "text/plain": [
       "TV           296.4\n",
       "radio         36.3\n",
       "newspaper    100.9\n",
       "sales         23.8\n",
       "Name: 101, dtype: float64"
      ]
     },
     "execution_count": 30,
     "metadata": {},
     "output_type": "execute_result"
    }
   ],
   "source": [
    "df.iloc[101]"
   ]
  },
  {
   "cell_type": "code",
   "execution_count": 31,
   "id": "8876f696",
   "metadata": {},
   "outputs": [
    {
     "data": {
      "text/plain": [
       "(198, 4)"
      ]
     },
     "execution_count": 31,
     "metadata": {},
     "output_type": "execute_result"
    }
   ],
   "source": [
    "# removing two rows out of 200 rows\n",
    "df_new=df.drop([16,101],axis=0)\n",
    "df_new.shape\n"
   ]
  },
  {
   "cell_type": "code",
   "execution_count": 32,
   "id": "34ea0488",
   "metadata": {},
   "outputs": [
    {
     "data": {
      "text/plain": [
       "1.0"
      ]
     },
     "execution_count": 32,
     "metadata": {},
     "output_type": "execute_result"
    }
   ],
   "source": [
    "data_loss= ((200-198)/200)*100\n",
    "data_loss"
   ]
  },
  {
   "cell_type": "markdown",
   "id": "0b640eaa",
   "metadata": {},
   "source": [
    "we have lost only 1% of data in removing outliers"
   ]
  },
  {
   "cell_type": "markdown",
   "id": "88a6a375",
   "metadata": {},
   "source": [
    "# Removing Skewness"
   ]
  },
  {
   "cell_type": "code",
   "execution_count": 33,
   "id": "c8f3cd49",
   "metadata": {},
   "outputs": [
    {
     "data": {
      "text/plain": [
       "-0.040340871727186554"
      ]
     },
     "execution_count": 33,
     "metadata": {},
     "output_type": "execute_result"
    }
   ],
   "source": [
    "df_new['newspaper']= np.sqrt(df_new['newspaper'])\n",
    "skew(df_new['newspaper'])"
   ]
  },
  {
   "cell_type": "code",
   "execution_count": 34,
   "id": "1ce3d611",
   "metadata": {},
   "outputs": [
    {
     "data": {
      "text/plain": [
       "TV          -0.082332\n",
       "radio        0.114842\n",
       "newspaper   -0.040649\n",
       "sales        0.407130\n",
       "dtype: float64"
      ]
     },
     "execution_count": 34,
     "metadata": {},
     "output_type": "execute_result"
    }
   ],
   "source": [
    "df_new.skew()"
   ]
  },
  {
   "cell_type": "markdown",
   "id": "8215e2ed",
   "metadata": {},
   "source": [
    "We can see all skewness values are in range -0.5 to 0.5 Hence skewness is removed"
   ]
  },
  {
   "cell_type": "markdown",
   "id": "699a88c8",
   "metadata": {},
   "source": [
    "# Splitting the DataFrame in feature and target Column"
   ]
  },
  {
   "cell_type": "code",
   "execution_count": 35,
   "id": "c50234c6",
   "metadata": {},
   "outputs": [
    {
     "data": {
      "text/html": [
       "<div>\n",
       "<style scoped>\n",
       "    .dataframe tbody tr th:only-of-type {\n",
       "        vertical-align: middle;\n",
       "    }\n",
       "\n",
       "    .dataframe tbody tr th {\n",
       "        vertical-align: top;\n",
       "    }\n",
       "\n",
       "    .dataframe thead th {\n",
       "        text-align: right;\n",
       "    }\n",
       "</style>\n",
       "<table border=\"1\" class=\"dataframe\">\n",
       "  <thead>\n",
       "    <tr style=\"text-align: right;\">\n",
       "      <th></th>\n",
       "      <th>TV</th>\n",
       "      <th>radio</th>\n",
       "      <th>newspaper</th>\n",
       "    </tr>\n",
       "  </thead>\n",
       "  <tbody>\n",
       "    <tr>\n",
       "      <th>0</th>\n",
       "      <td>230.1</td>\n",
       "      <td>37.8</td>\n",
       "      <td>8.318654</td>\n",
       "    </tr>\n",
       "    <tr>\n",
       "      <th>1</th>\n",
       "      <td>44.5</td>\n",
       "      <td>39.3</td>\n",
       "      <td>6.715653</td>\n",
       "    </tr>\n",
       "    <tr>\n",
       "      <th>2</th>\n",
       "      <td>17.2</td>\n",
       "      <td>45.9</td>\n",
       "      <td>8.324662</td>\n",
       "    </tr>\n",
       "    <tr>\n",
       "      <th>3</th>\n",
       "      <td>151.5</td>\n",
       "      <td>41.3</td>\n",
       "      <td>7.648529</td>\n",
       "    </tr>\n",
       "    <tr>\n",
       "      <th>4</th>\n",
       "      <td>180.8</td>\n",
       "      <td>10.8</td>\n",
       "      <td>7.641989</td>\n",
       "    </tr>\n",
       "    <tr>\n",
       "      <th>...</th>\n",
       "      <td>...</td>\n",
       "      <td>...</td>\n",
       "      <td>...</td>\n",
       "    </tr>\n",
       "    <tr>\n",
       "      <th>195</th>\n",
       "      <td>38.2</td>\n",
       "      <td>3.7</td>\n",
       "      <td>3.714835</td>\n",
       "    </tr>\n",
       "    <tr>\n",
       "      <th>196</th>\n",
       "      <td>94.2</td>\n",
       "      <td>4.9</td>\n",
       "      <td>2.846050</td>\n",
       "    </tr>\n",
       "    <tr>\n",
       "      <th>197</th>\n",
       "      <td>177.0</td>\n",
       "      <td>9.3</td>\n",
       "      <td>2.529822</td>\n",
       "    </tr>\n",
       "    <tr>\n",
       "      <th>198</th>\n",
       "      <td>283.6</td>\n",
       "      <td>42.0</td>\n",
       "      <td>8.136338</td>\n",
       "    </tr>\n",
       "    <tr>\n",
       "      <th>199</th>\n",
       "      <td>232.1</td>\n",
       "      <td>8.6</td>\n",
       "      <td>2.949576</td>\n",
       "    </tr>\n",
       "  </tbody>\n",
       "</table>\n",
       "<p>198 rows × 3 columns</p>\n",
       "</div>"
      ],
      "text/plain": [
       "        TV  radio  newspaper\n",
       "0    230.1   37.8   8.318654\n",
       "1     44.5   39.3   6.715653\n",
       "2     17.2   45.9   8.324662\n",
       "3    151.5   41.3   7.648529\n",
       "4    180.8   10.8   7.641989\n",
       "..     ...    ...        ...\n",
       "195   38.2    3.7   3.714835\n",
       "196   94.2    4.9   2.846050\n",
       "197  177.0    9.3   2.529822\n",
       "198  283.6   42.0   8.136338\n",
       "199  232.1    8.6   2.949576\n",
       "\n",
       "[198 rows x 3 columns]"
      ]
     },
     "execution_count": 35,
     "metadata": {},
     "output_type": "execute_result"
    }
   ],
   "source": [
    "x= df_new.drop('sales', axis=1)\n",
    "x"
   ]
  },
  {
   "cell_type": "code",
   "execution_count": 36,
   "id": "025e47d3",
   "metadata": {},
   "outputs": [
    {
     "data": {
      "text/plain": [
       "0      22.1\n",
       "1      10.4\n",
       "2       9.3\n",
       "3      18.5\n",
       "4      12.9\n",
       "       ... \n",
       "195     7.6\n",
       "196     9.7\n",
       "197    12.8\n",
       "198    25.5\n",
       "199    13.4\n",
       "Name: sales, Length: 198, dtype: float64"
      ]
     },
     "execution_count": 36,
     "metadata": {},
     "output_type": "execute_result"
    }
   ],
   "source": [
    "y = df_new['sales']\n",
    "y"
   ]
  },
  {
   "cell_type": "markdown",
   "id": "2cf75b79",
   "metadata": {},
   "source": [
    "# Satandardization of data using Standard Scaler"
   ]
  },
  {
   "cell_type": "code",
   "execution_count": 37,
   "id": "fb749dae",
   "metadata": {},
   "outputs": [],
   "source": [
    "from sklearn.preprocessing import StandardScaler"
   ]
  },
  {
   "cell_type": "code",
   "execution_count": 38,
   "id": "13678aee",
   "metadata": {},
   "outputs": [
    {
     "data": {
      "text/plain": [
       "array([[ 9.78697339e-01,  9.89521352e-01,  1.63669060e+00],\n",
       "       [-1.19901165e+00,  1.09070498e+00,  8.24807889e-01],\n",
       "       [-1.51933199e+00,  1.53591293e+00,  1.63973373e+00],\n",
       "       [ 5.64563564e-02,  1.22561648e+00,  1.29728802e+00],\n",
       "       [ 4.00243389e-01, -8.31783915e-01,  1.29397566e+00],\n",
       "       [-1.61906543e+00,  1.73828018e+00,  1.80970327e+00],\n",
       "       [-1.04647815e+00,  6.52242599e-01, -1.21277595e-01],\n",
       "       [-3.10797368e-01, -2.38173309e-01, -8.51517342e-01],\n",
       "       [-1.62023876e+00, -1.41864895e+00, -2.07003868e+00],\n",
       "       [ 6.23176960e-01, -1.38492107e+00, -2.44520695e-01],\n",
       "       [-9.45571378e-01, -1.16906267e+00, -8.49785485e-02],\n",
       "       [ 7.98003813e-01,  5.86319933e-02, -1.56356175e+00],\n",
       "       [-1.44189191e+00,  8.07390825e-01,  1.53500409e+00],\n",
       "       [-5.77144318e-01, -1.04764232e+00, -1.21749539e+00],\n",
       "       [ 6.73630347e-01,  6.58988174e-01,  8.58578063e-01],\n",
       "       [ 5.71550238e-01,  1.65733328e+00,  1.10721196e+00],\n",
       "       [ 1.58061798e+00,  1.11094170e+00,  1.20683655e+00],\n",
       "       [-9.09198006e-01, -1.77463134e-01, -4.09883309e-01],\n",
       "       [ 7.17630394e-03,  5.18864183e-02, -3.63031787e-01],\n",
       "       [ 8.41417193e-01,  3.08218271e-01,  1.12457994e+00],\n",
       "       [ 1.06435076e+00, -1.21628169e+00, -1.21277595e-01],\n",
       "       [-1.56626537e+00, -4.87759587e-01,  9.90463015e-01],\n",
       "       [ 9.57577316e-01, -4.20303836e-01,  1.59339442e-02],\n",
       "       [-9.90158092e-01, -7.10363564e-01, -4.09883309e-01],\n",
       "       [ 1.36355108e+00, -1.32421089e+00, -3.39974042e-01],\n",
       "       [-4.44504177e-02,  4.16147472e-01, -7.78700851e-01],\n",
       "       [ 1.09603080e+00, -4.33794986e-01, -1.52823719e-01],\n",
       "       [ 1.19811091e+00,  2.67744820e-01, -1.52823719e-01],\n",
       "       [-8.92771321e-01, -4.81014012e-01,  6.58599590e-01],\n",
       "       [ 1.71555146e+00,  3.48691721e-01,  7.52390467e-01],\n",
       "       [-3.96450793e-01, -3.86575961e-01,  5.70169760e-01],\n",
       "       [-5.80664322e-01, -1.45912240e+00,  1.97572788e-01],\n",
       "       [ 1.39523112e+00, -2.11191009e-01, -2.29910677e+00],\n",
       "       [-5.98264341e-01, -1.46586797e+00, -1.19874940e+00],\n",
       "       [ 1.68973810e+00, -1.28373744e+00, -1.09989430e+00],\n",
       "       [ 1.41048447e+00,  1.39425586e+00, -1.44399876e+00],\n",
       "       [-8.44664603e-01,  1.77200806e+00,  8.47358347e-01],\n",
       "       [-1.21543833e+00,  2.40762520e-01,  4.24119778e-01],\n",
       "       [ 9.54057313e-01,  9.82775777e-01,  2.88550568e-01],\n",
       "       [ 6.54856994e-01, -5.60427827e-02,  2.70587593e-01],\n",
       "       [ 3.55656675e-01,  6.92716049e-01,  5.74243141e-01],\n",
       "       [ 1.72376480e+00,  3.08218271e-01, -1.89700550e+00],\n",
       "       [ 7.06483716e-01, -9.93677716e-01,  2.58099783e-02],\n",
       "       [-1.42663856e+00,  1.73306769e-01,  7.56241141e-01],\n",
       "       [ 3.33363318e-01, -4.25516326e-02,  2.66079113e-01],\n",
       "       [-6.68664416e-01, -8.92494090e-01,  4.49657561e-01],\n",
       "       [ 1.09368413e+00,  1.23910763e+00, -3.98075961e-01],\n",
       "       [ 9.44670636e-01, -4.94505162e-01,  1.00123399e+00],\n",
       "       [-9.36184701e-01, -7.71073739e-01,  4.95925574e-01],\n",
       "       [ 6.23176960e-01, -1.35119319e+00,  4.02671073e-01],\n",
       "       [-5.43117616e-01, -9.12730816e-01, -1.61554320e+00],\n",
       "       [ 8.17950501e-01,  1.25259878e+00,  6.10669308e-01],\n",
       "       [ 4.21363412e-01,  1.55614966e+00,  1.30390426e+00],\n",
       "       [ 1.36120441e+00,  3.82419596e-01, -5.56948772e-01],\n",
       "       [ 6.12616949e-01,  1.77200806e+00,  1.34663783e+00],\n",
       "       [-1.63549211e+00,  3.35200571e-01,  6.82300384e-01],\n",
       "       [-1.23063835e-01, -2.65155610e-01, -5.12971709e-01],\n",
       "       [ 7.52243764e-01,  1.78549921e+00,  5.33269242e-01],\n",
       "       [ 7.51070430e-01,  4.29638622e-01, -1.03196856e+00],\n",
       "       [-1.09341154e+00, -1.42539452e+00, -2.33546540e-01],\n",
       "       [ 1.34477773e+00,  1.32005453e+00,  1.16935983e+00],\n",
       "       [ 1.08664412e+00, -5.14741887e-01,  6.97960611e-02],\n",
       "       [-5.16130920e-01,  4.36384197e-01, -1.10860601e+00],\n",
       "       [-1.82903899e-01,  1.32680011e+00,  1.46239552e-01],\n",
       "       [-9.11544675e-01, -9.32967541e-01, -2.09602940e+00],\n",
       "       [-1.35154514e+00,  9.91054437e-02, -1.82528892e+00],\n",
       "       [-8.66904627e-02, -5.82197638e-01, -9.58958009e-01],\n",
       "       [ 1.06435076e+00,  2.94727121e-01, -8.96721665e-01],\n",
       "       [ 8.22643839e-01,  1.40100143e+00,  6.49448899e-02],\n",
       "       [ 6.14963618e-01,  5.03839947e-01,  5.74243141e-01],\n",
       "       [-4.32824165e-01, -5.95688788e-01,  2.75088945e-01],\n",
       "       [-1.40669187e+00,  6.65733749e-01, -3.51473046e-01],\n",
       "       [-2.02850586e-01, -1.17580824e+00,  2.57040634e-01],\n",
       "       [ 7.82750463e-01,  9.91054437e-02, -7.43376950e-01],\n",
       "       [-1.52285199e+00,  1.38751028e+00,  2.21230345e+00],\n",
       "       [-1.39847853e+00, -1.45237682e+00, -2.72184721e-01],\n",
       "       [-3.07277364e-01,  3.62182871e-01, -6.67964297e-01],\n",
       "       [-1.65778547e+00,  4.56620922e-01, -1.02368674e+00],\n",
       "       [-3.60077421e-01, -1.04089674e+00, -1.42262920e-01],\n",
       "       [-8.24717916e-01,  2.40762520e-01, -1.84785890e-01],\n",
       "       [ 1.09251079e+00, -1.28373744e+00,  5.00097255e-01],\n",
       "       [-8.37624596e-01, -1.90954284e-01,  3.10847139e-01],\n",
       "       [-9.18584682e-01,  1.44147488e+00,  4.45416251e-01],\n",
       "       [ 7.83923798e-01,  1.34029126e+00,  3.68028190e-01],\n",
       "       [ 5.45736878e-01, -3.19120210e-01,  1.52876032e+00],\n",
       "       [-8.25891250e-01,  2.94727121e-01, -5.50607887e-01],\n",
       "       [-4.22264154e-01,  1.17839745e+00,  1.44989635e+00],\n",
       "       [-6.85091100e-01,  1.59815619e-01,  1.76266471e+00],\n",
       "       [-4.32824165e-01,  1.66407886e+00,  1.05460963e+00],\n",
       "       [-1.45357192e-01, -1.22977284e+00, -1.03196856e+00],\n",
       "       [-1.38557185e+00, -1.45912240e+00,  3.32972847e-01],\n",
       "       [ 8.33203850e-01,  6.99461624e-01,  1.31380751e+00],\n",
       "       [ 1.22275093e+00,  9.01828876e-01,  1.73002768e+00],\n",
       "       [-4.60984195e-01, -6.15925513e-01, -9.04374525e-01],\n",
       "       [ 1.94909837e-01,  5.71295698e-01,  1.10721196e+00],\n",
       "       [ 5.97363599e-01, -1.32421089e+00, -1.34628742e+00],\n",
       "       [ 4.48350107e-01, -1.43735259e-01, -2.00928232e-01],\n",
       "       [ 1.67800475e+00,  1.29307223e+00,  1.04753830e+00],\n",
       "       [-1.34797181e-01,  1.25259878e+00,  8.54842234e-01],\n",
       "       [ 8.88350576e-01, -1.27024629e+00,  9.97647269e-01],\n",
       "       [ 1.56653796e+00, -8.79002940e-01, -2.33546540e-01],\n",
       "       [ 4.83550145e-01, -4.00067111e-01, -4.33693178e-01],\n",
       "       [ 1.07373744e+00,  7.53426225e-01, -1.41051815e+00],\n",
       "       [-1.03117147e-01,  1.56964081e+00,  1.31380751e+00],\n",
       "       [-1.42781189e+00, -8.18292765e-01,  1.83667495e-01],\n",
       "       [-6.60451074e-01, -1.54006930e+00, -1.36999665e-01],\n",
       "       [-1.56743871e+00, -1.53332372e+00, -1.39225166e-02],\n",
       "       [ 1.27555099e+00,  2.54253670e-01, -1.38872192e+00],\n",
       "       [ 9.28243952e-01, -1.00716887e+00,  1.23049329e+00],\n",
       "       [ 1.11480415e+00,  1.00301250e+00, -1.36999665e-01],\n",
       "       [ 3.40403326e-01, -5.21487462e-01, -1.79188492e+00],\n",
       "       [ 7.38163749e-01, -1.70717559e-01, -9.19786292e-01],\n",
       "       [-8.03597893e-01,  1.59662311e+00,  3.98362775e-01],\n",
       "       [-8.39971265e-01,  8.00645250e-01,  1.10024180e+00],\n",
       "       [-8.78637973e-02, -5.95688788e-01, -1.39225166e-02],\n",
       "       [-8.24717916e-01, -1.50634142e+00, -6.28059954e-01],\n",
       "       [-2.46263966e-01,  9.28811176e-01,  1.93084453e+00],\n",
       "       [-1.49351863e+00, -4.81014012e-01, -1.84785890e-01],\n",
       "       [-6.32237711e-02,  2.47508095e-01,  8.66037558e-01],\n",
       "       [-1.50055864e+00, -9.65162331e-02,  1.01911391e+00],\n",
       "       [ 9.07123929e-01, -1.39841222e+00, -5.76092017e-01],\n",
       "       [-2.76770665e-01,  7.73662950e-01, -7.93026297e-01],\n",
       "       [ 9.71657331e-01,  6.18514724e-01,  1.78624739e+00],\n",
       "       [-6.97997781e-01, -7.64328164e-01,  1.04894337e-03],\n",
       "       [-1.62962544e+00,  1.06372268e+00,  1.02624103e+00],\n",
       "       [-7.80131201e-01, -1.56030602e+00, -1.04029502e+00],\n",
       "       [ 8.63710550e-01,  1.74502576e+00, -1.67050213e+00],\n",
       "       [-1.02183813e+00, -7.50837014e-01,  7.48535335e-01],\n",
       "       [-1.71293220e+00,  1.11094170e+00, -1.08262329e+00],\n",
       "       [ 1.39053778e+00, -1.36468434e+00,  7.44675727e-01],\n",
       "       [-1.62258543e+00,  2.74490395e-01, -1.84256081e+00],\n",
       "       [ 8.57843877e-01,  6.99461624e-01,  8.24807889e-01],\n",
       "       [-1.28818508e+00,  1.04348595e+00,  1.52563488e+00],\n",
       "       [-1.15442493e+00,  1.61011426e+00, -1.09989430e+00],\n",
       "       [-1.42077188e+00,  1.07046825e+00, -1.03196856e+00],\n",
       "       [ 1.49027122e+00,  3.89165171e-01,  1.33681765e+00],\n",
       "       [-1.21661167e+00,  1.86797920e-01, -2.83343774e-01],\n",
       "       [ 4.48350107e-01,  1.40100143e+00, -1.91615048e+00],\n",
       "       [-8.59917953e-01, -4.13558261e-01, -7.57424197e-01],\n",
       "       [ 5.51603551e-01,  8.27627550e-01,  1.82721320e+00],\n",
       "       [ 8.66057219e-01,  6.79224899e-01,  5.41507097e-01],\n",
       "       [-4.93837563e-01, -1.17580824e+00,  3.94048228e-01],\n",
       "       [-5.92397668e-01, -5.61960912e-01,  5.82374145e-01],\n",
       "       [-7.49571169e-02, -1.43214010e+00, -1.05708482e+00],\n",
       "       [ 1.09603080e+00, -1.06787904e+00, -1.08262329e+00],\n",
       "       [ 1.13240417e+00,  1.74502576e+00,  7.94505962e-01],\n",
       "       [-1.27527840e+00,  1.15816073e+00, -8.29353714e-01],\n",
       "       [-1.19666498e+00,  1.80052344e-01, -2.77757477e-01],\n",
       "       [ 1.57240464e+00, -6.22671088e-01,  5.04263286e-01],\n",
       "       [-3.01410691e-01, -9.93677716e-01,  9.57953165e-01],\n",
       "       [ 5.97363599e-01,  1.14129679e-02, -6.67964297e-01],\n",
       "       [ 2.88776604e-01,  1.11768728e+00,  5.33269242e-01],\n",
       "       [ 4.82376810e-01, -1.36989683e-01, -1.01544887e+00],\n",
       "       [-1.67303882e+00, -7.77819314e-01, -1.36731851e+00],\n",
       "       [-6.19384363e-01,  1.37401913e+00,  1.02267923e+00],\n",
       "       [ 3.65096685e-02, -1.47261355e+00, -7.98360517e-02],\n",
       "       [-1.58386539e+00,  9.28811176e-01,  8.28576670e-01],\n",
       "       [-1.75863891e-01, -3.19120210e-01,  4.02671073e-01],\n",
       "       [ 3.02856619e-01, -3.39356935e-01,  2.29750531e-01],\n",
       "       [-7.15597799e-01,  8.54609851e-01,  9.79659420e-01],\n",
       "       [ 4.89416818e-01, -3.39356935e-01, -1.39225166e-02],\n",
       "       [ 1.97256506e-01,  9.22065601e-01, -1.19874940e+00],\n",
       "       [-3.45997406e-01, -5.68706487e-01, -1.39956958e+00],\n",
       "       [ 1.03032406e+00, -1.33095647e+00,  2.08747422e+00],\n",
       "       [-1.51111865e+00,  9.76030202e-01, -2.22623548e-01],\n",
       "       [ 7.05310381e-01, -1.20953612e+00, -3.45716135e-01],\n",
       "       [ 8.06217155e-01,  3.16496931e-02,  1.26737403e+00],\n",
       "       [ 1.61464468e+00, -8.45275065e-01, -1.29521906e+00],\n",
       "       [-1.13447825e+00, -7.77819314e-01, -4.03971613e-01],\n",
       "       [ 2.08989852e-01, -1.50480834e-01,  9.10459436e-01],\n",
       "       [-1.49117196e+00, -2.04445434e-01, -4.88257728e-01],\n",
       "       [ 2.54749901e-01, -1.08137019e+00, -7.64488656e-01],\n",
       "       [ 8.88350576e-01, -1.33095647e+00, -7.43376950e-01],\n",
       "       [ 1.52781792e+00,  1.73828018e+00,  6.98005613e-01],\n",
       "       [ 1.19341757e+00,  4.76857647e-01, -2.94557396e-01],\n",
       "       [ 2.75869923e-01, -1.03415117e+00,  4.28391148e-01],\n",
       "       [ 1.52547125e+00, -1.40515780e+00, -1.10851909e-01],\n",
       "       [ 2.21896533e-01, -8.85748515e-01, -4.51725665e-01],\n",
       "       [ 1.16296420e-01, -1.38492107e+00, -1.11736972e+00],\n",
       "       [ 8.42590527e-01, -1.19604497e+00,  7.46383555e-02],\n",
       "       [-1.06173150e+00, -1.17580824e+00,  1.83667495e-01],\n",
       "       [ 1.65336472e+00,  1.34029126e+00,  1.71511062e+00],\n",
       "       [ 1.25677764e+00, -1.23498533e-01,  1.97572788e-01],\n",
       "       [ 6.84190358e-01,  1.48194833e+00, -3.34246653e-01],\n",
       "       [-8.43437935e-02, -1.41864895e+00,  3.56486734e-02],\n",
       "       [ 5.21096851e-01,  3.75674021e-01, -4.15811178e-01],\n",
       "       [ 1.63459137e+00, -6.22671088e-01, -1.60228778e+00],\n",
       "       [-1.50173197e+00, -7.44091439e-01, -1.26507075e-01],\n",
       "       [-1.25767838e+00,  1.21212533e+00, -1.35675764e+00],\n",
       "       [-8.35277927e-01, -8.31783915e-01, -1.33590556e+00],\n",
       "       [-1.51933199e+00, -1.28373744e+00,  2.70587593e-01],\n",
       "       [ 2.35976548e-01,  1.27283550e+00, -1.61554320e+00],\n",
       "       [ 3.53363339e-02,  8.41118701e-01, -1.33590556e+00],\n",
       "       [-1.27293173e+00, -1.31071974e+00, -6.95037318e-01],\n",
       "       [-6.15864360e-01, -1.22977284e+00, -1.13505699e+00],\n",
       "       [ 3.55656675e-01, -9.32967541e-01, -1.29521906e+00],\n",
       "       [ 1.60643134e+00,  1.27283550e+00,  1.54435201e+00],\n",
       "       [ 1.00216403e+00, -9.80186566e-01, -1.08262329e+00]])"
      ]
     },
     "execution_count": 38,
     "metadata": {},
     "output_type": "execute_result"
    }
   ],
   "source": [
    "sc=StandardScaler()\n",
    "x=sc.fit_transform(x)\n",
    "x"
   ]
  },
  {
   "cell_type": "code",
   "execution_count": 39,
   "id": "49f7874c",
   "metadata": {},
   "outputs": [
    {
     "data": {
      "text/plain": [
       "-4.186699621482072e-17"
      ]
     },
     "execution_count": 39,
     "metadata": {},
     "output_type": "execute_result"
    }
   ],
   "source": [
    "x.mean()   #which is approximately zero"
   ]
  },
  {
   "cell_type": "code",
   "execution_count": 40,
   "id": "55aa7ff4",
   "metadata": {},
   "outputs": [
    {
     "data": {
      "text/plain": [
       "0.9999999999999999"
      ]
     },
     "execution_count": 40,
     "metadata": {},
     "output_type": "execute_result"
    }
   ],
   "source": [
    "x.std()    # which is aprroximately unity"
   ]
  },
  {
   "cell_type": "code",
   "execution_count": 41,
   "id": "3d9556b8",
   "metadata": {},
   "outputs": [
    {
     "data": {
      "text/plain": [
       "array([[ 1.56651666],\n",
       "       [-0.69088101],\n",
       "       [-0.90311498],\n",
       "       [ 0.87193276],\n",
       "       [-0.20853108],\n",
       "       [-1.30828892],\n",
       "       [-0.42076505],\n",
       "       [-0.15064909],\n",
       "       [-1.77134485],\n",
       "       [-0.65229302],\n",
       "       [-1.03817296],\n",
       "       [ 0.65969879],\n",
       "       [-0.92240898],\n",
       "       [-0.82593899],\n",
       "       [ 0.96840275],\n",
       "       [ 1.62439865],\n",
       "       [ 2.01027859],\n",
       "       [-0.51723504],\n",
       "       [ 0.11946687],\n",
       "       [ 0.77546277],\n",
       "       [-0.28570707],\n",
       "       [-1.61699287],\n",
       "       [ 0.29311285],\n",
       "       [-0.82593899],\n",
       "       [-0.38217705],\n",
       "       [ 0.19664286],\n",
       "       [ 0.37028883],\n",
       "       [ 0.94910875],\n",
       "       [-0.67158701],\n",
       "       [ 1.43145868],\n",
       "       [-0.40147105],\n",
       "       [-0.84523299],\n",
       "       [ 0.65969879],\n",
       "       [-0.86452698],\n",
       "       [-0.22782508],\n",
       "       [ 2.20321856],\n",
       "       [ 0.13876087],\n",
       "       [-0.748763  ],\n",
       "       [ 1.45075268],\n",
       "       [ 0.50534681],\n",
       "       [ 0.6018168 ],\n",
       "       [ 1.2964007 ],\n",
       "       [-0.20853108],\n",
       "       [-1.05746696],\n",
       "       [ 0.17734886],\n",
       "       [-0.65229302],\n",
       "       [ 1.77875063],\n",
       "       [ 0.15805487],\n",
       "       [-0.82593899],\n",
       "       [-0.49794104],\n",
       "       [-0.63299902],\n",
       "       [ 1.66298664],\n",
       "       [ 1.39287068],\n",
       "       [ 1.19993071],\n",
       "       [ 1.87522061],\n",
       "       [-1.63628687],\n",
       "       [-0.15064909],\n",
       "       [ 1.89451461],\n",
       "       [ 0.85263876],\n",
       "       [-1.13464294],\n",
       "       [ 1.9716906 ],\n",
       "       [ 0.33170084],\n",
       "       [ 0.00370289],\n",
       "       [ 0.77546277],\n",
       "       [-0.90311498],\n",
       "       [-0.86452698],\n",
       "       [-0.11206109],\n",
       "       [ 0.94910875],\n",
       "       [ 1.60510465],\n",
       "       [ 0.83334477],\n",
       "       [-0.30500107],\n",
       "       [-0.99958496],\n",
       "       [-0.57511703],\n",
       "       [ 0.5825228 ],\n",
       "       [-1.01887896],\n",
       "       [-1.36617091],\n",
       "       [ 0.04229088],\n",
       "       [-1.67487486],\n",
       "       [-0.57511703],\n",
       "       [-0.42076505],\n",
       "       [-0.32429506],\n",
       "       [-0.51723504],\n",
       "       [-0.0734731 ],\n",
       "       [ 1.48934067],\n",
       "       [ 0.23523085],\n",
       "       [-0.38217705],\n",
       "       [ 0.38958283],\n",
       "       [-0.20853108],\n",
       "       [ 0.52464081],\n",
       "       [-0.53652903],\n",
       "       [-1.28899492],\n",
       "       [ 1.04557874],\n",
       "       [ 1.58581066],\n",
       "       [-0.47864704],\n",
       "       [ 0.56322881],\n",
       "       [-0.44005905],\n",
       "       [ 0.29311285],\n",
       "       [ 2.20321856],\n",
       "       [ 0.6211108 ],\n",
       "       [-0.44005905],\n",
       "       [ 0.15805487],\n",
       "       [ 0.13876087],\n",
       "       [ 1.2964007 ],\n",
       "       [ 1.00699074],\n",
       "       [-1.30828892],\n",
       "       [-1.01887896],\n",
       "       [-1.67487486],\n",
       "       [ 1.12275472],\n",
       "       [-0.11206109],\n",
       "       [ 1.50863467],\n",
       "       [ 0.02299689],\n",
       "       [ 0.37028883],\n",
       "       [ 0.11946687],\n",
       "       [-0.26641307],\n",
       "       [-0.34358906],\n",
       "       [-0.88382098],\n",
       "       [ 0.37028883],\n",
       "       [-1.4240529 ],\n",
       "       [ 0.29311285],\n",
       "       [-1.34687691],\n",
       "       [-0.45935304],\n",
       "       [ 0.23523085],\n",
       "       [ 1.10346073],\n",
       "       [-0.65229302],\n",
       "       [-1.4240529 ],\n",
       "       [-0.99958496],\n",
       "       [ 2.06816058],\n",
       "       [-0.82593899],\n",
       "       [-2.38875276],\n",
       "       [-0.24711907],\n",
       "       [-1.59769888],\n",
       "       [ 1.08416673],\n",
       "       [-0.61370502],\n",
       "       [-0.45935304],\n",
       "       [-0.86452698],\n",
       "       [ 1.3156947 ],\n",
       "       [-0.84523299],\n",
       "       [ 1.2964007 ],\n",
       "       [-0.59441102],\n",
       "       [ 1.00699074],\n",
       "       [ 1.18063672],\n",
       "       [-0.69088101],\n",
       "       [-0.49794104],\n",
       "       [-0.71017501],\n",
       "       [-0.15064909],\n",
       "       [ 2.20321856],\n",
       "       [-0.59441102],\n",
       "       [-0.748763  ],\n",
       "       [ 0.40887683],\n",
       "       [-0.45935304],\n",
       "       [ 0.50534681],\n",
       "       [ 0.96840275],\n",
       "       [ 0.31240684],\n",
       "       [-2.08004881],\n",
       "       [ 0.25452485],\n",
       "       [-0.748763  ],\n",
       "       [-1.28899492],\n",
       "       [-0.20853108],\n",
       "       [ 0.08087888],\n",
       "       [-0.13135509],\n",
       "       [ 0.17734886],\n",
       "       [ 0.77546277],\n",
       "       [-0.40147105],\n",
       "       [-0.40147105],\n",
       "       [-1.15393694],\n",
       "       [-0.34358906],\n",
       "       [ 0.6018168 ],\n",
       "       [ 0.19664286],\n",
       "       [-1.07676095],\n",
       "       [ 0.10017287],\n",
       "       [-1.23111293],\n",
       "       [-0.44005905],\n",
       "       [-0.47864704],\n",
       "       [ 2.51192252],\n",
       "       [ 1.19993071],\n",
       "       [-0.44005905],\n",
       "       [-0.42076505],\n",
       "       [-0.26641307],\n",
       "       [-0.67158701],\n",
       "       [-0.34358906],\n",
       "       [-1.01887896],\n",
       "       [ 2.35757054],\n",
       "       [ 0.69828679],\n",
       "       [ 1.66298664],\n",
       "       [-0.71017501],\n",
       "       [ 0.64040479],\n",
       "       [ 0.37028883],\n",
       "       [-1.4047589 ],\n",
       "       [-0.61370502],\n",
       "       [-0.787351  ],\n",
       "       [-1.55911088],\n",
       "       [ 1.08416673],\n",
       "       [ 0.64040479],\n",
       "       [-1.23111293],\n",
       "       [-0.82593899],\n",
       "       [-0.22782508],\n",
       "       [ 2.22251256],\n",
       "       [-0.11206109]])"
      ]
     },
     "execution_count": 41,
     "metadata": {},
     "output_type": "execute_result"
    }
   ],
   "source": [
    "y=sc.fit_transform(y.values.reshape(-1,1))\n",
    "y"
   ]
  },
  {
   "cell_type": "markdown",
   "id": "9551d931",
   "metadata": {},
   "source": [
    "# Training the data"
   ]
  },
  {
   "cell_type": "code",
   "execution_count": 42,
   "id": "243f7cc5",
   "metadata": {},
   "outputs": [],
   "source": [
    "from sklearn.model_selection import train_test_split\n",
    "from sklearn.linear_model import LinearRegression\n",
    "from sklearn.metrics import mean_squared_error,mean_absolute_error,r2_score\n",
    "import sklearn\n",
    "from sklearn.svm import SVR\n",
    "from sklearn.tree import DecisionTreeRegressor\n",
    "from sklearn.neighbors import KNeighborsRegressor\n",
    "from sklearn.ensemble import RandomForestRegressor\n",
    "from sklearn.metrics import accuracy_score,confusion_matrix,classification_report\n",
    "import warnings\n",
    "warnings.filterwarnings('ignore')"
   ]
  },
  {
   "cell_type": "markdown",
   "id": "70f3766d",
   "metadata": {},
   "source": [
    "As the data is continuous we will use linear regression model"
   ]
  },
  {
   "cell_type": "code",
   "execution_count": 43,
   "id": "ec7e52ca",
   "metadata": {
    "scrolled": false
   },
   "outputs": [
    {
     "name": "stdout",
     "output_type": "stream",
     "text": [
      "At random state 0,the training accuracy is: 0.8899808679263099\n",
      "At random state 0,the testing accuracy is: 0.9104353676454642\n",
      "\n",
      "\n",
      "At random state 1,the training accuracy is: 0.8945018460466634\n",
      "At random state 1,the testing accuracy is: 0.8915808201402337\n",
      "\n",
      "\n",
      "At random state 2,the training accuracy is: 0.9104895320853252\n",
      "At random state 2,the testing accuracy is: 0.8385093780102322\n",
      "\n",
      "\n",
      "At random state 3,the training accuracy is: 0.8945008732306111\n",
      "At random state 3,the testing accuracy is: 0.8977495614063602\n",
      "\n",
      "\n",
      "At random state 4,the training accuracy is: 0.8980063011610756\n",
      "At random state 4,the testing accuracy is: 0.8726744168845624\n",
      "\n",
      "\n",
      "At random state 5,the training accuracy is: 0.8993019881675024\n",
      "At random state 5,the testing accuracy is: 0.8622409600064913\n",
      "\n",
      "\n",
      "At random state 6,the training accuracy is: 0.8991574664390982\n",
      "At random state 6,the testing accuracy is: 0.8766949131606819\n",
      "\n",
      "\n",
      "At random state 7,the training accuracy is: 0.890944609101688\n",
      "At random state 7,the testing accuracy is: 0.9063807263429217\n",
      "\n",
      "\n",
      "At random state 8,the training accuracy is: 0.9023892159093363\n",
      "At random state 8,the testing accuracy is: 0.8653415977754738\n",
      "\n",
      "\n",
      "At random state 9,the training accuracy is: 0.8894121458179546\n",
      "At random state 9,the testing accuracy is: 0.9151924962930181\n",
      "\n",
      "\n",
      "At random state 10,the training accuracy is: 0.9234817137067555\n",
      "At random state 10,the testing accuracy is: 0.7845167673812314\n",
      "\n",
      "\n",
      "At random state 11,the training accuracy is: 0.8847579028807493\n",
      "At random state 11,the testing accuracy is: 0.9259845612237144\n",
      "\n",
      "\n",
      "At random state 12,the training accuracy is: 0.8931848342049384\n",
      "At random state 12,the testing accuracy is: 0.9003144586779664\n",
      "\n",
      "\n",
      "At random state 13,the training accuracy is: 0.9072955780343295\n",
      "At random state 13,the testing accuracy is: 0.8382064807676584\n",
      "\n",
      "\n",
      "At random state 14,the training accuracy is: 0.8855713645648353\n",
      "At random state 14,the testing accuracy is: 0.9139620728175997\n",
      "\n",
      "\n",
      "At random state 15,the training accuracy is: 0.8912146118345223\n",
      "At random state 15,the testing accuracy is: 0.9079583268637837\n",
      "\n",
      "\n",
      "At random state 16,the training accuracy is: 0.8902875167485287\n",
      "At random state 16,the testing accuracy is: 0.9096736262327477\n",
      "\n",
      "\n",
      "At random state 17,the training accuracy is: 0.8886354795189352\n",
      "At random state 17,the testing accuracy is: 0.9172247053570082\n",
      "\n",
      "\n",
      "At random state 18,the training accuracy is: 0.910617752658842\n",
      "At random state 18,the testing accuracy is: 0.8353660876793956\n",
      "\n",
      "\n",
      "At random state 19,the training accuracy is: 0.895175477993797\n",
      "At random state 19,the testing accuracy is: 0.8783473492701435\n",
      "\n",
      "\n",
      "At random state 20,the training accuracy is: 0.8863601802303691\n",
      "At random state 20,the testing accuracy is: 0.9130903566365753\n",
      "\n",
      "\n",
      "At random state 21,the training accuracy is: 0.884474753346419\n",
      "At random state 21,the testing accuracy is: 0.9280981225653249\n",
      "\n",
      "\n",
      "At random state 22,the training accuracy is: 0.8861759776656968\n",
      "At random state 22,the testing accuracy is: 0.9278015581594276\n",
      "\n",
      "\n",
      "At random state 23,the training accuracy is: 0.8848527733114713\n",
      "At random state 23,the testing accuracy is: 0.9292418223308447\n",
      "\n",
      "\n",
      "At random state 24,the training accuracy is: 0.8807167144986324\n",
      "At random state 24,the testing accuracy is: 0.9470588911088108\n",
      "\n",
      "\n",
      "At random state 25,the training accuracy is: 0.8828726818254515\n",
      "At random state 25,the testing accuracy is: 0.9374877000743008\n",
      "\n",
      "\n",
      "At random state 26,the training accuracy is: 0.9048386945259568\n",
      "At random state 26,the testing accuracy is: 0.820020580612527\n",
      "\n",
      "\n",
      "At random state 27,the training accuracy is: 0.9093877544856235\n",
      "At random state 27,the testing accuracy is: 0.82200382276998\n",
      "\n",
      "\n",
      "At random state 28,the training accuracy is: 0.9149923897944576\n",
      "At random state 28,the testing accuracy is: 0.824657137233989\n",
      "\n",
      "\n",
      "At random state 29,the training accuracy is: 0.9079850559017626\n",
      "At random state 29,the testing accuracy is: 0.8428721919021799\n",
      "\n",
      "\n",
      "At random state 30,the training accuracy is: 0.9124839582885386\n",
      "At random state 30,the testing accuracy is: 0.8252542820487996\n",
      "\n",
      "\n",
      "At random state 31,the training accuracy is: 0.8807813164903344\n",
      "At random state 31,the testing accuracy is: 0.9322410961977345\n",
      "\n",
      "\n",
      "At random state 32,the training accuracy is: 0.8878745837425007\n",
      "At random state 32,the testing accuracy is: 0.9175537182776695\n",
      "\n",
      "\n",
      "At random state 33,the training accuracy is: 0.8879882989708496\n",
      "At random state 33,the testing accuracy is: 0.9168810654061035\n",
      "\n",
      "\n",
      "At random state 34,the training accuracy is: 0.8963326815087105\n",
      "At random state 34,the testing accuracy is: 0.8827613135562807\n",
      "\n",
      "\n",
      "At random state 35,the training accuracy is: 0.890330086541364\n",
      "At random state 35,the testing accuracy is: 0.9152274156114041\n",
      "\n",
      "\n",
      "At random state 36,the training accuracy is: 0.889604776334499\n",
      "At random state 36,the testing accuracy is: 0.9128607101892307\n",
      "\n",
      "\n",
      "At random state 37,the training accuracy is: 0.8928000346196905\n",
      "At random state 37,the testing accuracy is: 0.9088278324221779\n",
      "\n",
      "\n",
      "At random state 38,the training accuracy is: 0.8897992521999325\n",
      "At random state 38,the testing accuracy is: 0.9171487919237081\n",
      "\n",
      "\n",
      "At random state 39,the training accuracy is: 0.9036070955828279\n",
      "At random state 39,the testing accuracy is: 0.8557691443734091\n",
      "\n",
      "\n",
      "At random state 40,the training accuracy is: 0.8938831948100018\n",
      "At random state 40,the testing accuracy is: 0.8932663650180765\n",
      "\n",
      "\n",
      "At random state 41,the training accuracy is: 0.8988787589416551\n",
      "At random state 41,the testing accuracy is: 0.8664155228386853\n",
      "\n",
      "\n",
      "At random state 42,the training accuracy is: 0.8939442665762621\n",
      "At random state 42,the testing accuracy is: 0.8973506561453755\n",
      "\n",
      "\n",
      "At random state 43,the training accuracy is: 0.9001636599429672\n",
      "At random state 43,the testing accuracy is: 0.8753517136188681\n",
      "\n",
      "\n",
      "At random state 44,the training accuracy is: 0.9029550404208073\n",
      "At random state 44,the testing accuracy is: 0.8129261407044058\n",
      "\n",
      "\n",
      "At random state 45,the training accuracy is: 0.8977442277455933\n",
      "At random state 45,the testing accuracy is: 0.8752250488622103\n",
      "\n",
      "\n",
      "At random state 46,the training accuracy is: 0.8990385584067329\n",
      "At random state 46,the testing accuracy is: 0.8747213040260012\n",
      "\n",
      "\n",
      "At random state 47,the training accuracy is: 0.8948665010955633\n",
      "At random state 47,the testing accuracy is: 0.8922417237310007\n",
      "\n",
      "\n",
      "At random state 48,the training accuracy is: 0.9015776846896191\n",
      "At random state 48,the testing accuracy is: 0.86800865282321\n",
      "\n",
      "\n",
      "At random state 49,the training accuracy is: 0.9105423653107543\n",
      "At random state 49,the testing accuracy is: 0.8350653342955413\n",
      "\n",
      "\n",
      "At random state 50,the training accuracy is: 0.9009852860973522\n",
      "At random state 50,the testing accuracy is: 0.842310003190873\n",
      "\n",
      "\n",
      "At random state 51,the training accuracy is: 0.8931532403468286\n",
      "At random state 51,the testing accuracy is: 0.8957875198770014\n",
      "\n",
      "\n",
      "At random state 52,the training accuracy is: 0.8947509459615383\n",
      "At random state 52,the testing accuracy is: 0.8925915186724518\n",
      "\n",
      "\n",
      "At random state 53,the training accuracy is: 0.904874673000394\n",
      "At random state 53,the testing accuracy is: 0.8523547724792293\n",
      "\n",
      "\n",
      "At random state 54,the training accuracy is: 0.898221004570017\n",
      "At random state 54,the testing accuracy is: 0.877635300995289\n",
      "\n",
      "\n",
      "At random state 55,the training accuracy is: 0.8931964541935601\n",
      "At random state 55,the testing accuracy is: 0.8987976261667096\n",
      "\n",
      "\n",
      "At random state 56,the training accuracy is: 0.9060692378798125\n",
      "At random state 56,the testing accuracy is: 0.8449970932688171\n",
      "\n",
      "\n",
      "At random state 57,the training accuracy is: 0.9029895636543817\n",
      "At random state 57,the testing accuracy is: 0.8659209846255536\n",
      "\n",
      "\n",
      "At random state 58,the training accuracy is: 0.8814905568092585\n",
      "At random state 58,the testing accuracy is: 0.9301081927084237\n",
      "\n",
      "\n",
      "At random state 59,the training accuracy is: 0.8874616860462765\n",
      "At random state 59,the testing accuracy is: 0.9177103290707421\n",
      "\n",
      "\n",
      "At random state 60,the training accuracy is: 0.8983883112872219\n",
      "At random state 60,the testing accuracy is: 0.8827022031179699\n",
      "\n",
      "\n",
      "At random state 61,the training accuracy is: 0.9043643738374806\n",
      "At random state 61,the testing accuracy is: 0.854477629443231\n",
      "\n",
      "\n",
      "At random state 62,the training accuracy is: 0.900641456423033\n",
      "At random state 62,the testing accuracy is: 0.857099369035457\n",
      "\n",
      "\n",
      "At random state 63,the training accuracy is: 0.894043405997483\n",
      "At random state 63,the testing accuracy is: 0.8964376150854272\n",
      "\n",
      "\n",
      "At random state 64,the training accuracy is: 0.8861331121771349\n",
      "At random state 64,the testing accuracy is: 0.9265085008144279\n",
      "\n",
      "\n",
      "At random state 65,the training accuracy is: 0.8978432738005422\n"
     ]
    },
    {
     "name": "stdout",
     "output_type": "stream",
     "text": [
      "At random state 65,the testing accuracy is: 0.8828637466180443\n",
      "\n",
      "\n",
      "At random state 66,the training accuracy is: 0.9001082700395925\n",
      "At random state 66,the testing accuracy is: 0.876330270283092\n",
      "\n",
      "\n",
      "At random state 67,the training accuracy is: 0.8915025477235988\n",
      "At random state 67,the testing accuracy is: 0.9058168794622784\n",
      "\n",
      "\n",
      "At random state 68,the training accuracy is: 0.9028493757450912\n",
      "At random state 68,the testing accuracy is: 0.8641483684931222\n",
      "\n",
      "\n",
      "At random state 69,the training accuracy is: 0.8915063040754968\n",
      "At random state 69,the testing accuracy is: 0.9060630749933309\n",
      "\n",
      "\n",
      "At random state 70,the training accuracy is: 0.8834039435694678\n",
      "At random state 70,the testing accuracy is: 0.9232879755887871\n",
      "\n",
      "\n",
      "At random state 71,the training accuracy is: 0.9093852989222347\n",
      "At random state 71,the testing accuracy is: 0.8075682042626334\n",
      "\n",
      "\n",
      "At random state 72,the training accuracy is: 0.8879096413808881\n",
      "At random state 72,the testing accuracy is: 0.9204939440753833\n",
      "\n",
      "\n",
      "At random state 73,the training accuracy is: 0.8960910447264088\n",
      "At random state 73,the testing accuracy is: 0.8848284915077834\n",
      "\n",
      "\n",
      "At random state 74,the training accuracy is: 0.8738718540420292\n",
      "At random state 74,the testing accuracy is: 0.9302643275474216\n",
      "\n",
      "\n",
      "At random state 75,the training accuracy is: 0.8953946547741162\n",
      "At random state 75,the testing accuracy is: 0.8756530010156298\n",
      "\n",
      "\n",
      "At random state 76,the training accuracy is: 0.9038753805919301\n",
      "At random state 76,the testing accuracy is: 0.8517080643619264\n",
      "\n",
      "\n",
      "At random state 77,the training accuracy is: 0.8889513987941758\n",
      "At random state 77,the testing accuracy is: 0.9168452679704562\n",
      "\n",
      "\n",
      "At random state 78,the training accuracy is: 0.9135381248514395\n",
      "At random state 78,the testing accuracy is: 0.7899873713177686\n",
      "\n",
      "\n",
      "At random state 79,the training accuracy is: 0.8920179616099255\n",
      "At random state 79,the testing accuracy is: 0.9004279725235953\n",
      "\n",
      "\n",
      "At random state 80,the training accuracy is: 0.8927266349026339\n",
      "At random state 80,the testing accuracy is: 0.9035040850720206\n",
      "\n",
      "\n",
      "At random state 81,the training accuracy is: 0.8877972939748031\n",
      "At random state 81,the testing accuracy is: 0.9199819618982278\n",
      "\n",
      "\n",
      "At random state 82,the training accuracy is: 0.9088225935331654\n",
      "At random state 82,the testing accuracy is: 0.840722645720096\n",
      "\n",
      "\n",
      "At random state 83,the training accuracy is: 0.9004411052929164\n",
      "At random state 83,the testing accuracy is: 0.8790442238369576\n",
      "\n",
      "\n",
      "At random state 84,the training accuracy is: 0.8837031763075623\n",
      "At random state 84,the testing accuracy is: 0.9284526387270742\n",
      "\n",
      "\n",
      "At random state 85,the training accuracy is: 0.913142456288272\n",
      "At random state 85,the testing accuracy is: 0.7700764934265758\n",
      "\n",
      "\n",
      "At random state 86,the training accuracy is: 0.8924092314996968\n",
      "At random state 86,the testing accuracy is: 0.9056257429769184\n",
      "\n",
      "\n",
      "At random state 87,the training accuracy is: 0.9138331281311072\n",
      "At random state 87,the testing accuracy is: 0.8105298937240415\n",
      "\n",
      "\n",
      "At random state 88,the training accuracy is: 0.8973336703431843\n",
      "At random state 88,the testing accuracy is: 0.8836012807703079\n",
      "\n",
      "\n",
      "At random state 89,the training accuracy is: 0.9032240895674261\n",
      "At random state 89,the testing accuracy is: 0.8457607864614858\n",
      "\n",
      "\n",
      "At random state 90,the training accuracy is: 0.8793112686032555\n",
      "At random state 90,the testing accuracy is: 0.9468304700964035\n",
      "\n",
      "\n",
      "At random state 91,the training accuracy is: 0.8927178994151133\n",
      "At random state 91,the testing accuracy is: 0.8977596185481715\n",
      "\n",
      "\n",
      "At random state 92,the training accuracy is: 0.8937657169365189\n",
      "At random state 92,the testing accuracy is: 0.8934151292076533\n",
      "\n",
      "\n",
      "At random state 93,the training accuracy is: 0.9081892173335392\n",
      "At random state 93,the testing accuracy is: 0.8443176859670056\n",
      "\n",
      "\n",
      "At random state 94,the training accuracy is: 0.9033986835736001\n",
      "At random state 94,the testing accuracy is: 0.8683982189350958\n",
      "\n",
      "\n",
      "At random state 95,the training accuracy is: 0.9081649716354206\n",
      "At random state 95,the testing accuracy is: 0.8477779307074431\n",
      "\n",
      "\n",
      "At random state 96,the training accuracy is: 0.9027836209567596\n",
      "At random state 96,the testing accuracy is: 0.85390947283825\n",
      "\n",
      "\n",
      "At random state 97,the training accuracy is: 0.894327930195089\n",
      "At random state 97,the testing accuracy is: 0.8974093864265151\n",
      "\n",
      "\n",
      "At random state 98,the training accuracy is: 0.9084859758312096\n",
      "At random state 98,the testing accuracy is: 0.8406615841001428\n",
      "\n",
      "\n",
      "At random state 99,the training accuracy is: 0.8832335445293645\n",
      "At random state 99,the testing accuracy is: 0.9298618955109363\n",
      "\n",
      "\n"
     ]
    }
   ],
   "source": [
    "for i in range(0,100):\n",
    "    x_train,x_test,y_train,y_test=train_test_split(x,y,test_size=0.20,random_state=i)\n",
    "    lr=LinearRegression()\n",
    "    lr.fit(x_train,y_train)\n",
    "    pred_train=lr.predict(x_train)\n",
    "    pred_test=lr.predict(x_test)\n",
    "    print(f'At random state {i},the training accuracy is: {r2_score(y_train,pred_train)}')\n",
    "    print(f'At random state {i},the testing accuracy is: {r2_score(y_test,pred_test)}')\n",
    "    print('\\n')"
   ]
  },
  {
   "cell_type": "markdown",
   "id": "8f317b30",
   "metadata": {},
   "source": [
    "Selecting random state 40 as it has given equally best testing and training accuracy "
   ]
  },
  {
   "cell_type": "code",
   "execution_count": 44,
   "id": "08fdfcf5",
   "metadata": {},
   "outputs": [],
   "source": [
    "x_train,x_test,y_train,y_test=train_test_split(x,y,test_size=0.20,random_state=40)"
   ]
  },
  {
   "cell_type": "markdown",
   "id": "6b538336",
   "metadata": {},
   "source": [
    "# Training the data using various model"
   ]
  },
  {
   "cell_type": "markdown",
   "id": "d3486d62",
   "metadata": {},
   "source": [
    "# 1. Linear Regression"
   ]
  },
  {
   "cell_type": "code",
   "execution_count": 45,
   "id": "c2444d9e",
   "metadata": {},
   "outputs": [
    {
     "name": "stdout",
     "output_type": "stream",
     "text": [
      "The training accuracy of LR is 0.8938831948100018\n",
      "The test accuracy of LR is 0.8932663650180765\n",
      "\n",
      "\n"
     ]
    }
   ],
   "source": [
    "lr=LinearRegression()\n",
    "lr.fit(x_train,y_train)\n",
    "pred_train=lr.predict(x_train)\n",
    "pred_test=lr.predict(x_test)\n",
    "train_score=r2_score(y_train,pred_train)\n",
    "test_score=r2_score(y_test,pred_test)\n",
    "print('The training accuracy of LR is', train_score)\n",
    "print('The test accuracy of LR is', test_score)\n",
    "print('\\n')    "
   ]
  },
  {
   "cell_type": "markdown",
   "id": "e9e4af48",
   "metadata": {},
   "source": [
    "We need to try other models to check if 89% accuracy is good or not"
   ]
  },
  {
   "cell_type": "code",
   "execution_count": 46,
   "id": "10d81bd3",
   "metadata": {},
   "outputs": [
    {
     "name": "stdout",
     "output_type": "stream",
     "text": [
      "Error Calculations:\n",
      "Mean absolute error : 0.2344516606151644\n",
      "Mean squared error :  0.09928032844715974\n",
      "Root mean squared error: 0.31508781069276504\n"
     ]
    }
   ],
   "source": [
    "print(\"Error Calculations:\")\n",
    "print(\"Mean absolute error :\",mean_absolute_error(y_test,pred_test))\n",
    "print(\"Mean squared error : \",mean_squared_error(y_test, pred_test))\n",
    "print(\"Root mean squared error:\", np.sqrt(mean_squared_error(y_test,pred_test)))"
   ]
  },
  {
   "cell_type": "code",
   "execution_count": 47,
   "id": "918e1ba9",
   "metadata": {},
   "outputs": [
    {
     "data": {
      "text/plain": [
       "array([[7.49762981e-01, 5.65493448e-01, 4.21319042e-04]])"
      ]
     },
     "execution_count": 47,
     "metadata": {},
     "output_type": "execute_result"
    }
   ],
   "source": [
    "lr.coef_"
   ]
  },
  {
   "cell_type": "code",
   "execution_count": 48,
   "id": "1ce45842",
   "metadata": {},
   "outputs": [
    {
     "data": {
      "text/plain": [
       "array([-0.02301285])"
      ]
     },
     "execution_count": 48,
     "metadata": {},
     "output_type": "execute_result"
    }
   ],
   "source": [
    "lr.intercept_"
   ]
  },
  {
   "cell_type": "markdown",
   "id": "7064622a",
   "metadata": {},
   "source": [
    "# 2. SVR"
   ]
  },
  {
   "cell_type": "code",
   "execution_count": 49,
   "id": "e789c42d",
   "metadata": {},
   "outputs": [
    {
     "name": "stdout",
     "output_type": "stream",
     "text": [
      "0.8885437885057779\n",
      "0.8280976517658589\n",
      "0.9759461845952258\n"
     ]
    }
   ],
   "source": [
    "from sklearn.svm import SVR\n",
    "kernellist=['linear','poly','rbf']\n",
    "for i in kernellist:\n",
    "    sv=SVR(kernel=i)\n",
    "    sv.fit(x_train,y_train)\n",
    "    print(sv.score(x_train,y_train))"
   ]
  },
  {
   "cell_type": "markdown",
   "id": "19152b73",
   "metadata": {},
   "source": [
    "kenerl= rbf gives best results. we select kernel= rbf"
   ]
  },
  {
   "cell_type": "code",
   "execution_count": 50,
   "id": "242b5a64",
   "metadata": {},
   "outputs": [
    {
     "name": "stdout",
     "output_type": "stream",
     "text": [
      "The training accuracy of SVR is 0.9759461845952258\n",
      "The test accuracy of SVR is 0.9732087391392951\n"
     ]
    }
   ],
   "source": [
    "sv=SVR(kernel='rbf')\n",
    "sv.fit(x_train,y_train)\n",
    "pred_train=sv.predict(x_train)\n",
    "pred_test=sv.predict(x_test)\n",
    "train_score=r2_score(y_train,pred_train)\n",
    "test_score=r2_score(y_test,pred_test)\n",
    "print('The training accuracy of SVR is', train_score)\n",
    "print('The test accuracy of SVR is', test_score)"
   ]
  },
  {
   "cell_type": "markdown",
   "id": "a2e0889c",
   "metadata": {},
   "source": [
    "it is giving relativly good score if compared to linear regression. lets check for Decision tree to choose better"
   ]
  },
  {
   "cell_type": "code",
   "execution_count": 51,
   "id": "a57b64c9",
   "metadata": {},
   "outputs": [
    {
     "name": "stdout",
     "output_type": "stream",
     "text": [
      "Error Calculations:\n",
      "Mean absolute error : 0.10116186954843434\n",
      "Mean squared error :  0.024920402815989555\n",
      "Root mean squared error: 0.15786197393922818\n"
     ]
    }
   ],
   "source": [
    "print(\"Error Calculations:\")\n",
    "print(\"Mean absolute error :\",mean_absolute_error(y_test,pred_test))\n",
    "print(\"Mean squared error : \",mean_squared_error(y_test, pred_test))\n",
    "print(\"Root mean squared error:\", np.sqrt(mean_squared_error(y_test,pred_test)))"
   ]
  },
  {
   "cell_type": "markdown",
   "id": "24dd8368",
   "metadata": {},
   "source": [
    "# 3. Decision Tree Regressor"
   ]
  },
  {
   "cell_type": "code",
   "execution_count": 52,
   "id": "d3e5c528",
   "metadata": {},
   "outputs": [
    {
     "name": "stdout",
     "output_type": "stream",
     "text": [
      "The training accuracy of DT is 1.0\n",
      "The test accuracy of DT is 0.9543165986776726\n"
     ]
    }
   ],
   "source": [
    "from sklearn.tree import DecisionTreeRegressor\n",
    "dt=DecisionTreeRegressor()\n",
    "dt.fit(x_train,y_train)\n",
    "pred_train=dt.predict(x_train)\n",
    "pred_test=dt.predict(x_test)\n",
    "train_score=r2_score(y_train,pred_train)\n",
    "test_score=r2_score(y_test,pred_test)\n",
    "print('The training accuracy of DT is', train_score)\n",
    "print('The test accuracy of DT is', test_score)"
   ]
  },
  {
   "cell_type": "markdown",
   "id": "fb28977b",
   "metadata": {},
   "source": [
    "Training accuracy is 1 but testing accuracy is not good as compared to other regressor models"
   ]
  },
  {
   "cell_type": "code",
   "execution_count": 53,
   "id": "60f62d4d",
   "metadata": {},
   "outputs": [
    {
     "name": "stdout",
     "output_type": "stream",
     "text": [
      "Error Calculations:\n",
      "Mean absolute error : 0.15435197730706346\n",
      "Mean squared error :  0.04249328797461276\n",
      "Root mean squared error: 0.206139001585369\n"
     ]
    }
   ],
   "source": [
    "print(\"Error Calculations:\")\n",
    "print(\"Mean absolute error :\",mean_absolute_error(y_test,pred_test))\n",
    "print(\"Mean squared error : \",mean_squared_error(y_test, pred_test))\n",
    "print(\"Root mean squared error:\", np.sqrt(mean_squared_error(y_test,pred_test)))"
   ]
  },
  {
   "cell_type": "markdown",
   "id": "dfe4ec33",
   "metadata": {},
   "source": [
    "# 4. Random Forest Regressor"
   ]
  },
  {
   "cell_type": "code",
   "execution_count": 54,
   "id": "a1cfe450",
   "metadata": {},
   "outputs": [
    {
     "name": "stdout",
     "output_type": "stream",
     "text": [
      "The training accuracy of RF is 0.996528485070543\n",
      "The test accuracy of RF is 0.9889539906817267\n"
     ]
    }
   ],
   "source": [
    "from sklearn.ensemble import RandomForestRegressor\n",
    "rf=RandomForestRegressor()\n",
    "rf.fit(x_train,y_train)\n",
    "pred_train=rf.predict(x_train)\n",
    "pred_test=rf.predict(x_test)\n",
    "train_score=r2_score(y_train,pred_train)\n",
    "test_score=r2_score(y_test,pred_test)\n",
    "print('The training accuracy of RF is', train_score)\n",
    "print('The test accuracy of RF is', test_score)"
   ]
  },
  {
   "cell_type": "markdown",
   "id": "e4a8d4e8",
   "metadata": {},
   "source": [
    "Uptill now this is the best score in all 4 models of training the data"
   ]
  },
  {
   "cell_type": "code",
   "execution_count": 55,
   "id": "84157b10",
   "metadata": {},
   "outputs": [
    {
     "name": "stdout",
     "output_type": "stream",
     "text": [
      "Error Calculations:\n",
      "Mean absolute error : 0.08294007030609238\n",
      "Mean squared error :  0.010274656469202883\n",
      "Root mean squared error: 0.10136398013694452\n"
     ]
    }
   ],
   "source": [
    "print(\"Error Calculations:\")\n",
    "print(\"Mean absolute error :\",mean_absolute_error(y_test,pred_test))\n",
    "print(\"Mean squared error : \",mean_squared_error(y_test, pred_test))\n",
    "print(\"Root mean squared error:\", np.sqrt(mean_squared_error(y_test,pred_test)))"
   ]
  },
  {
   "cell_type": "markdown",
   "id": "7a040d80",
   "metadata": {},
   "source": [
    "# 5. KNeighbors Regressor"
   ]
  },
  {
   "cell_type": "code",
   "execution_count": 56,
   "id": "9ffea1f3",
   "metadata": {},
   "outputs": [
    {
     "name": "stdout",
     "output_type": "stream",
     "text": [
      "The training accuracy of KNR is 0.9535931403533513\n",
      "The test accuracy of KNR is 0.9542209496814744\n"
     ]
    }
   ],
   "source": [
    "from sklearn.neighbors import KNeighborsRegressor\n",
    "knr = KNeighborsRegressor()\n",
    "knr.fit(x_train,y_train)\n",
    "pred_train= knr.predict(x_train)\n",
    "pred_test = knr.predict(x_test)\n",
    "train_score = r2_score(y_train,pred_train)\n",
    "test_score = r2_score(y_test,pred_test)\n",
    "print('The training accuracy of KNR is', train_score)\n",
    "print('The test accuracy of KNR is', test_score)"
   ]
  },
  {
   "cell_type": "markdown",
   "id": "a381a654",
   "metadata": {},
   "source": [
    "As we can see Random forest has more better scores"
   ]
  },
  {
   "cell_type": "code",
   "execution_count": 57,
   "id": "65445ee1",
   "metadata": {},
   "outputs": [
    {
     "name": "stdout",
     "output_type": "stream",
     "text": [
      "Error Calculations:\n",
      "Mean absolute error : 0.13380387032806063\n",
      "Mean squared error :  0.04258225771465594\n",
      "Root mean squared error: 0.20635468910266114\n"
     ]
    }
   ],
   "source": [
    "print(\"Error Calculations:\")\n",
    "print(\"Mean absolute error :\",mean_absolute_error(y_test,pred_test))\n",
    "print(\"Mean squared error : \",mean_squared_error(y_test, pred_test))\n",
    "print(\"Root mean squared error:\", np.sqrt(mean_squared_error(y_test,pred_test)))"
   ]
  },
  {
   "cell_type": "markdown",
   "id": "24972277",
   "metadata": {},
   "source": [
    "After testing we find the Random Forest Regressor gives best result with less error value so we select RandomForestRegressor"
   ]
  },
  {
   "cell_type": "markdown",
   "id": "b63d1731",
   "metadata": {},
   "source": [
    "# Cross Validation"
   ]
  },
  {
   "cell_type": "code",
   "execution_count": 58,
   "id": "bc441911",
   "metadata": {},
   "outputs": [],
   "source": [
    "from sklearn.model_selection import cross_val_score"
   ]
  },
  {
   "cell_type": "code",
   "execution_count": 59,
   "id": "51a65e14",
   "metadata": {},
   "outputs": [
    {
     "name": "stdout",
     "output_type": "stream",
     "text": [
      "Mean Accuracy of LinearRegression()\n",
      "0.8857406146589945\n",
      "\n",
      "\n",
      "Mean Accuracy of DecisionTreeRegressor()\n",
      "0.9569317582191841\n",
      "\n",
      "\n",
      "Mean Accuracy of SVR()\n",
      "0.9655573415768641\n",
      "\n",
      "\n",
      "Mean Accuracy of RandomForestRegressor()\n",
      "0.9759034212797253\n",
      "\n",
      "\n",
      "Mean Accuracy of KNeighborsRegressor()\n",
      "0.9358043941034188\n",
      "\n",
      "\n"
     ]
    }
   ],
   "source": [
    "model=(lr,dt,sv,rf,knr)\n",
    "for m in model:\n",
    "    score=cross_val_score(m,x,y,cv=5)\n",
    "    print('Mean Accuracy of', m)\n",
    "    print(score.mean())\n",
    "    print('\\n')"
   ]
  },
  {
   "cell_type": "code",
   "execution_count": 60,
   "id": "7753fa78",
   "metadata": {},
   "outputs": [],
   "source": [
    "Performance_table=pd.DataFrame({'Model':['LR','SVR','DTR','RFR','KNR'],\n",
    "           'Trainig Score':[0.89,0.91,1.0,0.99,0.95],\n",
    "           'Testing score':[0.89,0.89,0.92,0.98,0.95],\n",
    "           'CV Score':[0.88,0.87, 0.95, 0.97,0.93]})"
   ]
  },
  {
   "cell_type": "code",
   "execution_count": 61,
   "id": "4037d838",
   "metadata": {},
   "outputs": [
    {
     "data": {
      "text/html": [
       "<div>\n",
       "<style scoped>\n",
       "    .dataframe tbody tr th:only-of-type {\n",
       "        vertical-align: middle;\n",
       "    }\n",
       "\n",
       "    .dataframe tbody tr th {\n",
       "        vertical-align: top;\n",
       "    }\n",
       "\n",
       "    .dataframe thead th {\n",
       "        text-align: right;\n",
       "    }\n",
       "</style>\n",
       "<table border=\"1\" class=\"dataframe\">\n",
       "  <thead>\n",
       "    <tr style=\"text-align: right;\">\n",
       "      <th></th>\n",
       "      <th>Model</th>\n",
       "      <th>Trainig Score</th>\n",
       "      <th>Testing score</th>\n",
       "      <th>CV Score</th>\n",
       "    </tr>\n",
       "  </thead>\n",
       "  <tbody>\n",
       "    <tr>\n",
       "      <th>0</th>\n",
       "      <td>LR</td>\n",
       "      <td>0.89</td>\n",
       "      <td>0.89</td>\n",
       "      <td>0.88</td>\n",
       "    </tr>\n",
       "    <tr>\n",
       "      <th>1</th>\n",
       "      <td>SVR</td>\n",
       "      <td>0.91</td>\n",
       "      <td>0.89</td>\n",
       "      <td>0.87</td>\n",
       "    </tr>\n",
       "    <tr>\n",
       "      <th>2</th>\n",
       "      <td>DTR</td>\n",
       "      <td>1.00</td>\n",
       "      <td>0.92</td>\n",
       "      <td>0.95</td>\n",
       "    </tr>\n",
       "    <tr>\n",
       "      <th>3</th>\n",
       "      <td>RFR</td>\n",
       "      <td>0.99</td>\n",
       "      <td>0.98</td>\n",
       "      <td>0.97</td>\n",
       "    </tr>\n",
       "    <tr>\n",
       "      <th>4</th>\n",
       "      <td>KNR</td>\n",
       "      <td>0.95</td>\n",
       "      <td>0.95</td>\n",
       "      <td>0.93</td>\n",
       "    </tr>\n",
       "  </tbody>\n",
       "</table>\n",
       "</div>"
      ],
      "text/plain": [
       "  Model  Trainig Score  Testing score  CV Score\n",
       "0    LR           0.89           0.89      0.88\n",
       "1   SVR           0.91           0.89      0.87\n",
       "2   DTR           1.00           0.92      0.95\n",
       "3   RFR           0.99           0.98      0.97\n",
       "4   KNR           0.95           0.95      0.93"
      ]
     },
     "execution_count": 61,
     "metadata": {},
     "output_type": "execute_result"
    }
   ],
   "source": [
    "Performance_table"
   ]
  },
  {
   "cell_type": "markdown",
   "id": "b2d35f94",
   "metadata": {},
   "source": [
    "Hence RandomForest gives better results"
   ]
  },
  {
   "cell_type": "code",
   "execution_count": 62,
   "id": "e03514fd",
   "metadata": {},
   "outputs": [],
   "source": [
    "Error_table= pd.DataFrame({'Model':['LR','SVR','DTR','RFR','KNR'],\n",
    "                           'Mean absolute error':[0.23,0.10,0.15,0.09,0.13],\n",
    "                           'Mean squared error':[0.10,0.02,0.04,0.01,0.04],\n",
    "                           'Root mean squared error':[0.31,0.16,0.20,0.10,0.20]})"
   ]
  },
  {
   "cell_type": "code",
   "execution_count": 63,
   "id": "f6debb67",
   "metadata": {},
   "outputs": [
    {
     "data": {
      "text/html": [
       "<div>\n",
       "<style scoped>\n",
       "    .dataframe tbody tr th:only-of-type {\n",
       "        vertical-align: middle;\n",
       "    }\n",
       "\n",
       "    .dataframe tbody tr th {\n",
       "        vertical-align: top;\n",
       "    }\n",
       "\n",
       "    .dataframe thead th {\n",
       "        text-align: right;\n",
       "    }\n",
       "</style>\n",
       "<table border=\"1\" class=\"dataframe\">\n",
       "  <thead>\n",
       "    <tr style=\"text-align: right;\">\n",
       "      <th></th>\n",
       "      <th>Model</th>\n",
       "      <th>Mean absolute error</th>\n",
       "      <th>Mean squared error</th>\n",
       "      <th>Root mean squared error</th>\n",
       "    </tr>\n",
       "  </thead>\n",
       "  <tbody>\n",
       "    <tr>\n",
       "      <th>0</th>\n",
       "      <td>LR</td>\n",
       "      <td>0.23</td>\n",
       "      <td>0.10</td>\n",
       "      <td>0.31</td>\n",
       "    </tr>\n",
       "    <tr>\n",
       "      <th>1</th>\n",
       "      <td>SVR</td>\n",
       "      <td>0.10</td>\n",
       "      <td>0.02</td>\n",
       "      <td>0.16</td>\n",
       "    </tr>\n",
       "    <tr>\n",
       "      <th>2</th>\n",
       "      <td>DTR</td>\n",
       "      <td>0.15</td>\n",
       "      <td>0.04</td>\n",
       "      <td>0.20</td>\n",
       "    </tr>\n",
       "    <tr>\n",
       "      <th>3</th>\n",
       "      <td>RFR</td>\n",
       "      <td>0.09</td>\n",
       "      <td>0.01</td>\n",
       "      <td>0.10</td>\n",
       "    </tr>\n",
       "    <tr>\n",
       "      <th>4</th>\n",
       "      <td>KNR</td>\n",
       "      <td>0.13</td>\n",
       "      <td>0.04</td>\n",
       "      <td>0.20</td>\n",
       "    </tr>\n",
       "  </tbody>\n",
       "</table>\n",
       "</div>"
      ],
      "text/plain": [
       "  Model  Mean absolute error  Mean squared error  Root mean squared error\n",
       "0    LR                 0.23                0.10                     0.31\n",
       "1   SVR                 0.10                0.02                     0.16\n",
       "2   DTR                 0.15                0.04                     0.20\n",
       "3   RFR                 0.09                0.01                     0.10\n",
       "4   KNR                 0.13                0.04                     0.20"
      ]
     },
     "execution_count": 63,
     "metadata": {},
     "output_type": "execute_result"
    }
   ],
   "source": [
    "Error_table"
   ]
  },
  {
   "cell_type": "markdown",
   "id": "18248388",
   "metadata": {},
   "source": [
    "Hence Randomforest has less error "
   ]
  },
  {
   "cell_type": "markdown",
   "id": "479d83f8",
   "metadata": {},
   "source": [
    "# Normalization"
   ]
  },
  {
   "cell_type": "code",
   "execution_count": 64,
   "id": "b9cbbfe1",
   "metadata": {},
   "outputs": [],
   "source": [
    "from sklearn.linear_model import Lasso, Ridge\n",
    "from sklearn.linear_model import ElasticNet\n",
    "from sklearn.model_selection import GridSearchCV"
   ]
  },
  {
   "cell_type": "code",
   "execution_count": 65,
   "id": "28d8de96",
   "metadata": {},
   "outputs": [
    {
     "name": "stdout",
     "output_type": "stream",
     "text": [
      "{'alpha': 0.01, 'random_state': 0}\n"
     ]
    }
   ],
   "source": [
    "parameters={'alpha':[.0001,.001,.01,.1,1,10],'random_state':list(range(0,10))}\n",
    "ls=Lasso()\n",
    "clf=GridSearchCV(ls,parameters)\n",
    "clf.fit(x_train,y_train)\n",
    "\n",
    "print(clf.best_params_)"
   ]
  },
  {
   "cell_type": "code",
   "execution_count": 66,
   "id": "217148ff",
   "metadata": {},
   "outputs": [
    {
     "data": {
      "text/plain": [
       "0.9001811815516825"
      ]
     },
     "execution_count": 66,
     "metadata": {},
     "output_type": "execute_result"
    }
   ],
   "source": [
    "ls=Lasso(alpha=0.1,random_state=0)\n",
    "ls.fit(x_train,y_train)\n",
    "pred_ls=ls.predict(x_test)\n",
    "lss=r2_score(y_test,pred_ls)\n",
    "lss"
   ]
  },
  {
   "cell_type": "code",
   "execution_count": 67,
   "id": "ebe8613e",
   "metadata": {},
   "outputs": [
    {
     "data": {
      "text/plain": [
       "0.8716997494238828"
      ]
     },
     "execution_count": 67,
     "metadata": {},
     "output_type": "execute_result"
    }
   ],
   "source": [
    "cv_score=cross_val_score(ls,x,y,cv=8)\n",
    "cv_mean=cv_score.mean()\n",
    "cv_mean"
   ]
  },
  {
   "cell_type": "markdown",
   "id": "0ecdb623",
   "metadata": {},
   "source": [
    "Hence we got 90% training and 87% training through CV through lasso"
   ]
  },
  {
   "cell_type": "markdown",
   "id": "4bc0e1fc",
   "metadata": {},
   "source": [
    "# HyperTuning"
   ]
  },
  {
   "cell_type": "code",
   "execution_count": 68,
   "id": "9faaa2c8",
   "metadata": {},
   "outputs": [],
   "source": [
    "from sklearn.model_selection import GridSearchCV"
   ]
  },
  {
   "cell_type": "code",
   "execution_count": 69,
   "id": "8b1eb6a0",
   "metadata": {},
   "outputs": [],
   "source": [
    "parameters={'max_features':['auto','sqrt','log2'],'criterion':['mse','mae'],'max_depth':np.arange(2,10)}"
   ]
  },
  {
   "cell_type": "code",
   "execution_count": 70,
   "id": "13e8930c",
   "metadata": {},
   "outputs": [],
   "source": [
    "GCV=GridSearchCV(RandomForestRegressor(),parameters,cv=3)"
   ]
  },
  {
   "cell_type": "code",
   "execution_count": 71,
   "id": "87af797b",
   "metadata": {},
   "outputs": [
    {
     "data": {
      "text/html": [
       "<style>#sk-container-id-1 {color: black;background-color: white;}#sk-container-id-1 pre{padding: 0;}#sk-container-id-1 div.sk-toggleable {background-color: white;}#sk-container-id-1 label.sk-toggleable__label {cursor: pointer;display: block;width: 100%;margin-bottom: 0;padding: 0.3em;box-sizing: border-box;text-align: center;}#sk-container-id-1 label.sk-toggleable__label-arrow:before {content: \"▸\";float: left;margin-right: 0.25em;color: #696969;}#sk-container-id-1 label.sk-toggleable__label-arrow:hover:before {color: black;}#sk-container-id-1 div.sk-estimator:hover label.sk-toggleable__label-arrow:before {color: black;}#sk-container-id-1 div.sk-toggleable__content {max-height: 0;max-width: 0;overflow: hidden;text-align: left;background-color: #f0f8ff;}#sk-container-id-1 div.sk-toggleable__content pre {margin: 0.2em;color: black;border-radius: 0.25em;background-color: #f0f8ff;}#sk-container-id-1 input.sk-toggleable__control:checked~div.sk-toggleable__content {max-height: 200px;max-width: 100%;overflow: auto;}#sk-container-id-1 input.sk-toggleable__control:checked~label.sk-toggleable__label-arrow:before {content: \"▾\";}#sk-container-id-1 div.sk-estimator input.sk-toggleable__control:checked~label.sk-toggleable__label {background-color: #d4ebff;}#sk-container-id-1 div.sk-label input.sk-toggleable__control:checked~label.sk-toggleable__label {background-color: #d4ebff;}#sk-container-id-1 input.sk-hidden--visually {border: 0;clip: rect(1px 1px 1px 1px);clip: rect(1px, 1px, 1px, 1px);height: 1px;margin: -1px;overflow: hidden;padding: 0;position: absolute;width: 1px;}#sk-container-id-1 div.sk-estimator {font-family: monospace;background-color: #f0f8ff;border: 1px dotted black;border-radius: 0.25em;box-sizing: border-box;margin-bottom: 0.5em;}#sk-container-id-1 div.sk-estimator:hover {background-color: #d4ebff;}#sk-container-id-1 div.sk-parallel-item::after {content: \"\";width: 100%;border-bottom: 1px solid gray;flex-grow: 1;}#sk-container-id-1 div.sk-label:hover label.sk-toggleable__label {background-color: #d4ebff;}#sk-container-id-1 div.sk-serial::before {content: \"\";position: absolute;border-left: 1px solid gray;box-sizing: border-box;top: 0;bottom: 0;left: 50%;z-index: 0;}#sk-container-id-1 div.sk-serial {display: flex;flex-direction: column;align-items: center;background-color: white;padding-right: 0.2em;padding-left: 0.2em;position: relative;}#sk-container-id-1 div.sk-item {position: relative;z-index: 1;}#sk-container-id-1 div.sk-parallel {display: flex;align-items: stretch;justify-content: center;background-color: white;position: relative;}#sk-container-id-1 div.sk-item::before, #sk-container-id-1 div.sk-parallel-item::before {content: \"\";position: absolute;border-left: 1px solid gray;box-sizing: border-box;top: 0;bottom: 0;left: 50%;z-index: -1;}#sk-container-id-1 div.sk-parallel-item {display: flex;flex-direction: column;z-index: 1;position: relative;background-color: white;}#sk-container-id-1 div.sk-parallel-item:first-child::after {align-self: flex-end;width: 50%;}#sk-container-id-1 div.sk-parallel-item:last-child::after {align-self: flex-start;width: 50%;}#sk-container-id-1 div.sk-parallel-item:only-child::after {width: 0;}#sk-container-id-1 div.sk-dashed-wrapped {border: 1px dashed gray;margin: 0 0.4em 0.5em 0.4em;box-sizing: border-box;padding-bottom: 0.4em;background-color: white;}#sk-container-id-1 div.sk-label label {font-family: monospace;font-weight: bold;display: inline-block;line-height: 1.2em;}#sk-container-id-1 div.sk-label-container {text-align: center;}#sk-container-id-1 div.sk-container {/* jupyter's `normalize.less` sets `[hidden] { display: none; }` but bootstrap.min.css set `[hidden] { display: none !important; }` so we also need the `!important` here to be able to override the default hidden behavior on the sphinx rendered scikit-learn.org. See: https://github.com/scikit-learn/scikit-learn/issues/21755 */display: inline-block !important;position: relative;}#sk-container-id-1 div.sk-text-repr-fallback {display: none;}</style><div id=\"sk-container-id-1\" class=\"sk-top-container\"><div class=\"sk-text-repr-fallback\"><pre>GridSearchCV(cv=3, estimator=RandomForestRegressor(),\n",
       "             param_grid={&#x27;criterion&#x27;: [&#x27;mse&#x27;, &#x27;mae&#x27;],\n",
       "                         &#x27;max_depth&#x27;: array([2, 3, 4, 5, 6, 7, 8, 9]),\n",
       "                         &#x27;max_features&#x27;: [&#x27;auto&#x27;, &#x27;sqrt&#x27;, &#x27;log2&#x27;]})</pre><b>In a Jupyter environment, please rerun this cell to show the HTML representation or trust the notebook. <br />On GitHub, the HTML representation is unable to render, please try loading this page with nbviewer.org.</b></div><div class=\"sk-container\" hidden><div class=\"sk-item sk-dashed-wrapped\"><div class=\"sk-label-container\"><div class=\"sk-label sk-toggleable\"><input class=\"sk-toggleable__control sk-hidden--visually\" id=\"sk-estimator-id-1\" type=\"checkbox\" ><label for=\"sk-estimator-id-1\" class=\"sk-toggleable__label sk-toggleable__label-arrow\">GridSearchCV</label><div class=\"sk-toggleable__content\"><pre>GridSearchCV(cv=3, estimator=RandomForestRegressor(),\n",
       "             param_grid={&#x27;criterion&#x27;: [&#x27;mse&#x27;, &#x27;mae&#x27;],\n",
       "                         &#x27;max_depth&#x27;: array([2, 3, 4, 5, 6, 7, 8, 9]),\n",
       "                         &#x27;max_features&#x27;: [&#x27;auto&#x27;, &#x27;sqrt&#x27;, &#x27;log2&#x27;]})</pre></div></div></div><div class=\"sk-parallel\"><div class=\"sk-parallel-item\"><div class=\"sk-item\"><div class=\"sk-label-container\"><div class=\"sk-label sk-toggleable\"><input class=\"sk-toggleable__control sk-hidden--visually\" id=\"sk-estimator-id-2\" type=\"checkbox\" ><label for=\"sk-estimator-id-2\" class=\"sk-toggleable__label sk-toggleable__label-arrow\">estimator: RandomForestRegressor</label><div class=\"sk-toggleable__content\"><pre>RandomForestRegressor()</pre></div></div></div><div class=\"sk-serial\"><div class=\"sk-item\"><div class=\"sk-estimator sk-toggleable\"><input class=\"sk-toggleable__control sk-hidden--visually\" id=\"sk-estimator-id-3\" type=\"checkbox\" ><label for=\"sk-estimator-id-3\" class=\"sk-toggleable__label sk-toggleable__label-arrow\">RandomForestRegressor</label><div class=\"sk-toggleable__content\"><pre>RandomForestRegressor()</pre></div></div></div></div></div></div></div></div></div></div>"
      ],
      "text/plain": [
       "GridSearchCV(cv=3, estimator=RandomForestRegressor(),\n",
       "             param_grid={'criterion': ['mse', 'mae'],\n",
       "                         'max_depth': array([2, 3, 4, 5, 6, 7, 8, 9]),\n",
       "                         'max_features': ['auto', 'sqrt', 'log2']})"
      ]
     },
     "execution_count": 71,
     "metadata": {},
     "output_type": "execute_result"
    }
   ],
   "source": [
    "GCV.fit(x_train,y_train)"
   ]
  },
  {
   "cell_type": "code",
   "execution_count": 72,
   "id": "147882b7",
   "metadata": {},
   "outputs": [
    {
     "data": {
      "text/plain": [
       "{'criterion': 'mse', 'max_depth': 8, 'max_features': 'auto'}"
      ]
     },
     "execution_count": 72,
     "metadata": {},
     "output_type": "execute_result"
    }
   ],
   "source": [
    "GCV.best_params_"
   ]
  },
  {
   "cell_type": "markdown",
   "id": "98d474f1",
   "metadata": {},
   "source": [
    "Using above results of Gridsearch Cv we will prepare the model using above parameters"
   ]
  },
  {
   "cell_type": "markdown",
   "id": "aaca6a08",
   "metadata": {},
   "source": [
    "# Final Model preparation"
   ]
  },
  {
   "cell_type": "code",
   "execution_count": 73,
   "id": "a1f984b4",
   "metadata": {},
   "outputs": [
    {
     "name": "stdout",
     "output_type": "stream",
     "text": [
      "R2 Score 99.08852014444399\n",
      "Cross Val score 97.67524235476492\n"
     ]
    }
   ],
   "source": [
    "final_model=RandomForestRegressor(criterion='mae', max_depth= 8, max_features= 'auto')\n",
    "final_model.fit(x_train,y_train)\n",
    "pred_final=final_model.predict(x_test)\n",
    "rfs=r2_score(y_test,pred_final)\n",
    "print('R2 Score', rfs*100)\n",
    "\n",
    "rfscore=cross_val_score(final_model,x,y,cv=5)\n",
    "rfc=rfscore.mean()\n",
    "print('Cross Val score', rfc*100)"
   ]
  },
  {
   "cell_type": "markdown",
   "id": "927e04b8",
   "metadata": {},
   "source": [
    "Hence our training accuracy is 99.1% and cross val score is 97%"
   ]
  },
  {
   "cell_type": "markdown",
   "id": "9d057768",
   "metadata": {},
   "source": [
    "# Visualizing the Final Model"
   ]
  },
  {
   "cell_type": "code",
   "execution_count": 74,
   "id": "91211e05",
   "metadata": {},
   "outputs": [
    {
     "data": {
      "image/png": "[encoded data removed]",
      "text/plain": [
       "<Figure size 576x432 with 1 Axes>"
      ]
     },
     "metadata": {
      "needs_background": "light"
     },
     "output_type": "display_data"
    }
   ],
   "source": [
    "plt.figure(figsize=(8,6))\n",
    "plt.scatter(x=y_test,y=pred_final,color='r')\n",
    "plt.plot(y_test,y_test,color='b')\n",
    "plt.xlabel('Actual Sales',fontsize=14)\n",
    "plt.ylabel('Predicted Sales',fontsize=14)\n",
    "plt.title('RandomForestRegressor',fontsize=18)\n",
    "plt.show()"
   ]
  },
  {
   "cell_type": "markdown",
   "id": "184e65a4",
   "metadata": {},
   "source": [
    "As we can see the line fits the predicted values"
   ]
  },
  {
   "cell_type": "markdown",
   "id": "6b3b2806",
   "metadata": {},
   "source": [
    "# Saving the Model:"
   ]
  },
  {
   "cell_type": "code",
   "execution_count": 75,
   "id": "119a7809",
   "metadata": {},
   "outputs": [
    {
     "data": {
      "text/plain": [
       "['Advertising_Sales.obj']"
      ]
     },
     "execution_count": 75,
     "metadata": {},
     "output_type": "execute_result"
    }
   ],
   "source": [
    "import joblib\n",
    "joblib.dump(final_model,'Advertising_Sales.obj')"
   ]
  },
  {
   "cell_type": "code",
   "execution_count": 76,
   "id": "d336d3b4",
   "metadata": {},
   "outputs": [
    {
     "name": "stdout",
     "output_type": "stream",
     "text": [
      "99.08852014444399\n"
     ]
    }
   ],
   "source": [
    "loaded_model = joblib.load(open('Advertising_Sales.obj','rb'))\n",
    "result = loaded_model.score(x_test, y_test)\n",
    "print(result*100)"
   ]
  },
  {
   "cell_type": "code",
   "execution_count": 77,
   "id": "b89d9da2",
   "metadata": {},
   "outputs": [],
   "source": [
    "conclusion = pd.DataFrame([loaded_model.predict(x_test)[:], pred_final[:]], index=[\"Predicted\", \"Orignal\"])"
   ]
  },
  {
   "cell_type": "code",
   "execution_count": 78,
   "id": "c8d79b94",
   "metadata": {},
   "outputs": [
    {
     "data": {
      "text/html": [
       "<div>\n",
       "<style scoped>\n",
       "    .dataframe tbody tr th:only-of-type {\n",
       "        vertical-align: middle;\n",
       "    }\n",
       "\n",
       "    .dataframe tbody tr th {\n",
       "        vertical-align: top;\n",
       "    }\n",
       "\n",
       "    .dataframe thead th {\n",
       "        text-align: right;\n",
       "    }\n",
       "</style>\n",
       "<table border=\"1\" class=\"dataframe\">\n",
       "  <thead>\n",
       "    <tr style=\"text-align: right;\">\n",
       "      <th></th>\n",
       "      <th>0</th>\n",
       "      <th>1</th>\n",
       "      <th>2</th>\n",
       "      <th>3</th>\n",
       "      <th>4</th>\n",
       "      <th>5</th>\n",
       "      <th>6</th>\n",
       "      <th>7</th>\n",
       "      <th>8</th>\n",
       "      <th>9</th>\n",
       "      <th>...</th>\n",
       "      <th>30</th>\n",
       "      <th>31</th>\n",
       "      <th>32</th>\n",
       "      <th>33</th>\n",
       "      <th>34</th>\n",
       "      <th>35</th>\n",
       "      <th>36</th>\n",
       "      <th>37</th>\n",
       "      <th>38</th>\n",
       "      <th>39</th>\n",
       "    </tr>\n",
       "  </thead>\n",
       "  <tbody>\n",
       "    <tr>\n",
       "      <th>Predicted</th>\n",
       "      <td>0.282019</td>\n",
       "      <td>-1.418072</td>\n",
       "      <td>0.388136</td>\n",
       "      <td>2.13405</td>\n",
       "      <td>-1.055345</td>\n",
       "      <td>0.187189</td>\n",
       "      <td>1.740838</td>\n",
       "      <td>-1.037015</td>\n",
       "      <td>-1.226868</td>\n",
       "      <td>-1.374467</td>\n",
       "      <td>...</td>\n",
       "      <td>-0.834235</td>\n",
       "      <td>1.684596</td>\n",
       "      <td>-0.957813</td>\n",
       "      <td>0.199151</td>\n",
       "      <td>0.628925</td>\n",
       "      <td>0.581365</td>\n",
       "      <td>-0.455108</td>\n",
       "      <td>0.483255</td>\n",
       "      <td>1.079054</td>\n",
       "      <td>-0.813108</td>\n",
       "    </tr>\n",
       "    <tr>\n",
       "      <th>Orignal</th>\n",
       "      <td>0.282019</td>\n",
       "      <td>-1.418072</td>\n",
       "      <td>0.388136</td>\n",
       "      <td>2.13405</td>\n",
       "      <td>-1.055345</td>\n",
       "      <td>0.187189</td>\n",
       "      <td>1.740838</td>\n",
       "      <td>-1.037015</td>\n",
       "      <td>-1.226868</td>\n",
       "      <td>-1.374467</td>\n",
       "      <td>...</td>\n",
       "      <td>-0.834235</td>\n",
       "      <td>1.684596</td>\n",
       "      <td>-0.957813</td>\n",
       "      <td>0.199151</td>\n",
       "      <td>0.628925</td>\n",
       "      <td>0.581365</td>\n",
       "      <td>-0.455108</td>\n",
       "      <td>0.483255</td>\n",
       "      <td>1.079054</td>\n",
       "      <td>-0.813108</td>\n",
       "    </tr>\n",
       "  </tbody>\n",
       "</table>\n",
       "<p>2 rows × 40 columns</p>\n",
       "</div>"
      ],
      "text/plain": [
       "                 0         1         2        3         4         5   \\\n",
       "Predicted  0.282019 -1.418072  0.388136  2.13405 -1.055345  0.187189   \n",
       "Orignal    0.282019 -1.418072  0.388136  2.13405 -1.055345  0.187189   \n",
       "\n",
       "                 6         7         8         9   ...        30        31  \\\n",
       "Predicted  1.740838 -1.037015 -1.226868 -1.374467  ... -0.834235  1.684596   \n",
       "Orignal    1.740838 -1.037015 -1.226868 -1.374467  ... -0.834235  1.684596   \n",
       "\n",
       "                 32        33        34        35        36        37  \\\n",
       "Predicted -0.957813  0.199151  0.628925  0.581365 -0.455108  0.483255   \n",
       "Orignal   -0.957813  0.199151  0.628925  0.581365 -0.455108  0.483255   \n",
       "\n",
       "                 38        39  \n",
       "Predicted  1.079054 -0.813108  \n",
       "Orignal    1.079054 -0.813108  \n",
       "\n",
       "[2 rows x 40 columns]"
      ]
     },
     "execution_count": 78,
     "metadata": {},
     "output_type": "execute_result"
    }
   ],
   "source": [
    "conclusion"
   ]
  },
  {
   "cell_type": "code",
   "execution_count": null,
   "id": "7cf2a569",
   "metadata": {},
   "outputs": [],
   "source": []
  }
 ],
 "metadata": {
  "kernelspec": {
   "display_name": "Python 3 (ipykernel)",
   "language": "python",
   "name": "python3"
  },
  "language_info": {
   "codemirror_mode": {
    "name": "ipython",
    "version": 3
   },
   "file_extension": ".py",
   "mimetype": "text/x-python",
   "name": "python",
   "nbconvert_exporter": "python",
   "pygments_lexer": "ipython3",
   "version": "3.9.12"
  }
 },
 "nbformat": 4,
 "nbformat_minor": 5
}
